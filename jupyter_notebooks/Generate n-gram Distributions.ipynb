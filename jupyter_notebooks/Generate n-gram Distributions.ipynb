{
 "cells": [
  {
   "cell_type": "code",
   "execution_count": 1,
   "metadata": {},
   "outputs": [],
   "source": [
    "import gzip\n",
    "import json\n",
    "from tqdm import tqdm\n",
    "import gzip\n",
    "import _pickle as cPickle\n",
    "import sys\n",
    "from urllib.request import urlopen, Request\n",
    "\n",
    "import nltk\n",
    "from nltk import ngrams\n",
    "\n",
    "import numpy as np\n",
    "import pandas as pd\n",
    "\n",
    "import seaborn as sns\n",
    "import matplotlib.pyplot as plt"
   ]
  },
  {
   "cell_type": "code",
   "execution_count": 2,
   "metadata": {},
   "outputs": [
    {
     "name": "stderr",
     "output_type": "stream",
     "text": [
      "[nltk_data] Downloading package punkt to /root/nltk_data...\n",
      "[nltk_data]   Package punkt is already up-to-date!\n"
     ]
    },
    {
     "data": {
      "text/plain": [
       "True"
      ]
     },
     "execution_count": 2,
     "metadata": {},
     "output_type": "execute_result"
    }
   ],
   "source": [
    "nltk.download('punkt')"
   ]
  },
  {
   "cell_type": "code",
   "execution_count": 3,
   "metadata": {},
   "outputs": [
    {
     "name": "stdout",
     "output_type": "stream",
     "text": [
      "('this', 'is', 'a', 'foo', 'bar', 'sentences')\n",
      "('is', 'a', 'foo', 'bar', 'sentences', 'and')\n",
      "('a', 'foo', 'bar', 'sentences', 'and', 'i')\n",
      "('foo', 'bar', 'sentences', 'and', 'i', 'want')\n",
      "('bar', 'sentences', 'and', 'i', 'want', 'to')\n",
      "('sentences', 'and', 'i', 'want', 'to', 'ngramize')\n",
      "('and', 'i', 'want', 'to', 'ngramize', 'it')\n"
     ]
    }
   ],
   "source": [
    "from nltk import ngrams\n",
    "\n",
    "sentence = 'this is a foo bar sentences and i want to ngramize it'\n",
    "\n",
    "n = 6\n",
    "sixgrams = ngrams(sentence.split(), n)\n",
    "\n",
    "for grams in sixgrams:\n",
    "  print(grams)"
   ]
  },
  {
   "cell_type": "code",
   "execution_count": 4,
   "metadata": {},
   "outputs": [
    {
     "name": "stdout",
     "output_type": "stream",
     "text": [
      "CPU times: user 1e+03 ns, sys: 1 µs, total: 2 µs\n",
      "Wall time: 3.58 µs\n"
     ]
    }
   ],
   "source": [
    "%%time\n",
    "\n",
    "def get_contexts(file_path):\n",
    "    contexts = []\n",
    "#     single_file_path_cached = cached_path(file_path)\n",
    "    \n",
    "    with urlopen(Request(file_path,\n",
    "                     headers={\"Accept-Encoding\": \"gzip\"})) as response, \\\n",
    "     gzip.GzipFile(fileobj=response) as myzip:\n",
    "        \n",
    "#     with gzip.open(file_in_memory, 'rb') as myzip:\n",
    "#     with open(file_path, 'rb') as myzip:\n",
    "        for example in myzip:\n",
    "            context = json.loads(example)\n",
    "            if 'header' in context:\n",
    "                continue\n",
    "            contexts.append(context['context'])\n",
    "\n",
    "    return contexts\n",
    "\n",
    "def write_distribution_pickle(filename, frequency_distribution):\n",
    "    with gzip.GzipFile(filename, 'w') as f:\n",
    "        cPickle.dump(frequency_distribution, f)\n",
    "    \n",
    "def get_ngrams(n, contexts):\n",
    "\n",
    "    corpus = ''.join(contexts)    \n",
    "    tokens = nltk.word_tokenize(corpus)\n",
    "\n",
    "    ngrams = nltk.ngrams(tokens, n)\n",
    "    return ngrams\n"
   ]
  },
  {
   "cell_type": "markdown",
   "metadata": {},
   "source": [
    "# Run It"
   ]
  },
  {
   "cell_type": "code",
   "execution_count": 6,
   "metadata": {},
   "outputs": [
    {
     "name": "stdout",
     "output_type": "stream",
     "text": [
      "Processing: SQuAD\n",
      "\t Fetching context\n",
      "\t Joining contexts\n",
      "\t Tokenizing corpus\n",
      "\t Creating four-grams\n",
      "Processing: NewsQA\n",
      "\t Fetching context\n",
      "\t Joining contexts\n",
      "\t Tokenizing corpus\n",
      "\t Creating four-grams\n",
      "Processing: HotpotQA\n",
      "\t Fetching context\n",
      "\t Joining contexts\n",
      "\t Tokenizing corpus\n",
      "\t Creating four-grams\n",
      "Processing: SearchQA\n",
      "\t Fetching context\n",
      "\t Joining contexts\n",
      "\t Tokenizing corpus\n",
      "\t Creating four-grams\n",
      "Processing: TriviaQA\n",
      "\t Fetching context\n",
      "\t Joining contexts\n",
      "\t Tokenizing corpus\n",
      "\t Creating four-grams\n",
      "Processing: NaturalQuestionsShort\n",
      "\t Fetching context\n",
      "\t Joining contexts\n",
      "\t Tokenizing corpus\n",
      "\t Creating four-grams\n",
      "CPU times: user 36min 4s, sys: 16.6 s, total: 36min 20s\n",
      "Wall time: 36min 25s\n"
     ]
    }
   ],
   "source": [
    "%%time\n",
    "\n",
    "# from IPython.lib import backgroundjobs as bg\n",
    "# jobs = bg.BackgroundJobManager()\n",
    "\n",
    "output_dir = '/data/augmentation/ngram_dist/'\n",
    "\n",
    "training_sets = {\n",
    "    'SQuAD': 'https://mrqa.s3.us-east-2.amazonaws.com/data/train/SQuAD.jsonl.gz',\n",
    "    'NewsQA': 'https://mrqa.s3.us-east-2.amazonaws.com/data/train/NewsQA.jsonl.gz',\n",
    "    'HotpotQA': 'https://mrqa.s3.us-east-2.amazonaws.com/data/train/HotpotQA.jsonl.gz',\n",
    "    'SearchQA': 'https://mrqa.s3.us-east-2.amazonaws.com/data/train/SearchQA.jsonl.gz',\n",
    "    'TriviaQA': 'https://mrqa.s3.us-east-2.amazonaws.com/data/train/TriviaQA-web.jsonl.gz',\n",
    "    'NaturalQuestionsShort': 'https://mrqa.s3.us-east-2.amazonaws.com/data/train/NaturalQuestionsShort.jsonl.gz',\n",
    "}\n",
    "\n",
    "def process_training_set(train_set, train_data):\n",
    "    print(f\"Processing: {train_set}\")\n",
    "    \n",
    "    print(\"\\t Fetching context\")\n",
    "    contexts = get_contexts(train_data)\n",
    "    print(\"\\t Joining contexts\")\n",
    "    corpus = ''.join(contexts)\n",
    "    print(\"\\t Tokenizing corpus\")\n",
    "    tokens = nltk.word_tokenize(corpus)\n",
    "    \n",
    "    print(\"\\t Creating bigrams\")\n",
    "    bigrams = nltk.ngrams(tokens, 2)\n",
    "    bigrams_fdist = nltk.FreqDist(bigrams)\n",
    "    file_path = output_dir + train_set +\"_2gram_distribution.pickle.gz\"\n",
    "    #Write file\n",
    "    write_distribution_pickle(file_path, bigrams_fdist)\n",
    "    \n",
    "    print(\"\\t Creating trigrams\")\n",
    "    trigrams = nltk.ngrams(tokens, 3)\n",
    "    trigrams_fdist = nltk.FreqDist(trigrams)\n",
    "    file_path = output_dir + train_set +\"_3gram_distribution.pickle.gz\"\n",
    "    #Write file\n",
    "    write_distribution_pickle(file_path, trigrams_fdist)\n",
    "\n",
    "    print(\"\\t Creating four-grams\")\n",
    "    fourgrams = nltk.ngrams(tokens, 4)\n",
    "    fourgrams_fdist = nltk.FreqDist(fourgrams)\n",
    "    file_path = output_dir + train_set +\"_4gram_distribution.pickle.gz\"\n",
    "    #Write file\n",
    "    write_distribution_pickle(file_path, fourgrams_fdist)\n",
    "\n",
    "    \n",
    "for train_set, train_data in training_sets.items():\n",
    "    process_training_set(train_set, train_data)\n"
   ]
  },
  {
   "cell_type": "code",
   "execution_count": null,
   "metadata": {},
   "outputs": [],
   "source": [
    "%%time\n",
    "\n",
    "\n",
    "def get_ngrams(n, contexts):\n",
    "\n",
    "    corpus = ''.join(contexts)    \n",
    "    tokens = nltk.word_tokenize(corpus)\n",
    "\n",
    "    ngrams = nltk.ngrams(tokens, n)\n",
    "    return ngrams\n",
    "\n",
    "        \n",
    "\n",
    "bigrams = get_ngrams(3, contexts)\n",
    "\n",
    "fdist = nltk.FreqDist(bigrams)        \n"
   ]
  },
  {
   "cell_type": "code",
   "execution_count": null,
   "metadata": {},
   "outputs": [],
   "source": [
    "bigrams2 = bigrams\n",
    "fdist2 = fdist"
   ]
  },
  {
   "cell_type": "code",
   "execution_count": null,
   "metadata": {},
   "outputs": [],
   "source": [
    "print(type(fdist))\n",
    "\n",
    "for k,v in fdist.items():\n",
    "    if v > 100:\n",
    "        print (f\"{k},{v}\")"
   ]
  },
  {
   "cell_type": "code",
   "execution_count": null,
   "metadata": {},
   "outputs": [],
   "source": [
    "# ngram_freq = np.array(list(fdist.values())).astype(float)\n",
    "plt.figure(figsize=(14,10))\n",
    "ngram_freq = [freq for freq in fdist.values() if freq > 10000]\n",
    "sns.distplot(ngram_freq);"
   ]
  },
  {
   "cell_type": "code",
   "execution_count": null,
   "metadata": {},
   "outputs": [],
   "source": [
    "import pickle\n",
    "filename = '/data/augmentation/ngram_dist/SearchQA_3_gram_distribution.pickle'\n",
    "# with gzip.GzipFile(filename, 'w') as fout:\n",
    "#     fout.write(json.dumps(fdist).encode('utf-8'))  \n",
    "\n",
    "file = gzip.GzipFile(filename, 'wb')\n",
    "file.write(pickle.dumps(fdist, 4))\n",
    "file.close()"
   ]
  },
  {
   "cell_type": "code",
   "execution_count": null,
   "metadata": {},
   "outputs": [],
   "source": [
    "filename = '/data/augmentation/ngram_dist/SearchQA_3_gram_distribution.pickle'\n",
    "\n",
    "with open(filename, 'wb') as handle:\n",
    "    pickle.dump(fdist, handle, protocol=pickle.HIGHEST_PROTOCOL)"
   ]
  },
  {
   "cell_type": "code",
   "execution_count": null,
   "metadata": {},
   "outputs": [],
   "source": [
    "%%time\n",
    "\n",
    "import bz2\n",
    "import _pickle as cPickle\n",
    "\n",
    "filename = '/data/augmentation/ngram_dist/SearchQA_3_gram_distribution.pickle.pbz2'\n",
    "\n",
    "with bz2.BZ2File(filename, 'w') as f:\n",
    "    cPickle.dump(fdist, f)\n",
    "    "
   ]
  },
  {
   "cell_type": "code",
   "execution_count": null,
   "metadata": {},
   "outputs": [],
   "source": [
    "%%time\n",
    "\n",
    "import gzip\n",
    "import _pickle as cPickle\n",
    "\n",
    "filename = '/data/augmentation/ngram_dist/SearchQA_3_gram_distribution.pickle.gzip'\n",
    "\n",
    "with gzip.GzipFile(filename, 'w') as f:\n",
    "    pickle.dump(fdist, f)"
   ]
  },
  {
   "cell_type": "code",
   "execution_count": 12,
   "metadata": {},
   "outputs": [
    {
     "name": "stdout",
     "output_type": "stream",
     "text": [
      "CPU times: user 1.47 s, sys: 168 ms, total: 1.64 s\n",
      "Wall time: 1.64 s\n"
     ]
    },
    {
     "data": {
      "text/plain": [
       "<matplotlib.axes._subplots.AxesSubplot at 0x7f941c2db510>"
      ]
     },
     "execution_count": 12,
     "metadata": {},
     "output_type": "execute_result"
    },
    {
     "data": {
      "image/png": "[encoded data removed]",
      "text/plain": [
       "<Figure size 1008x720 with 1 Axes>"
      ]
     },
     "metadata": {
      "needs_background": "light"
     },
     "output_type": "display_data"
    }
   ],
   "source": [
    "%%time\n",
    "\n",
    "filename = '/data/augmentation/ngram_dist/SQuAD_3gram_distribution.pickle.gz'\n",
    "\n",
    "with gzip.GzipFile(filename, 'rb') as f:\n",
    "    fdist_gz = cPickle.load(f)\n",
    "    \n",
    "plt.figure(figsize=(14,10))\n",
    "ngram_freq = [freq for freq in fdist_gz.values() if freq > 100]\n",
    "sns.distplot(ngram_freq);"
   ]
  },
  {
   "cell_type": "code",
   "execution_count": null,
   "metadata": {},
   "outputs": [],
   "source": [
    "def save(object, filename, protocol = 4):\n",
    "        \"\"\"Saves a compressed object to disk\n",
    "        \"\"\"\n",
    "        file = gzip.GzipFile(filename, 'wb')\n",
    "        file.write(pickle.dumps(object, protocol))\n",
    "        file.close()\n",
    "\n",
    "def load(filename):\n",
    "        \"\"\"Loads a compressed object from disk\n",
    "        \"\"\"\n",
    "        file = gzip.GzipFile(filename, 'rb')\n",
    "        buffer = \"\"\n",
    "        while True:\n",
    "                data = file.read()\n",
    "                if data == \"\":\n",
    "                        break\n",
    "                buffer += data\n",
    "        object = pickle.loads(buffer)\n",
    "        file.close()\n",
    "        return object\n",
    "    \n",
    "dist_from_pickle = load(filename)"
   ]
  }
 ],
 "metadata": {
  "kernelspec": {
   "display_name": "Python 3",
   "language": "python",
   "name": "python3"
  },
  "language_info": {
   "codemirror_mode": {
    "name": "ipython",
    "version": 3
   },
   "file_extension": ".py",
   "mimetype": "text/x-python",
   "name": "python",
   "nbconvert_exporter": "python",
   "pygments_lexer": "ipython3",
   "version": "3.7.7"
  }
 },
 "nbformat": 4,
 "nbformat_minor": 4
}
