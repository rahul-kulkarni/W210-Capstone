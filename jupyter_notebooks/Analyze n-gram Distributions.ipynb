{
 "cells": [
  {
   "cell_type": "code",
   "execution_count": 6,
   "metadata": {},
   "outputs": [],
   "source": [
    "import json\n",
    "import csv\n",
    "from tqdm import tqdm\n",
    "import gzip\n",
    "import _pickle as cPickle\n",
    "import sys\n",
    "from urllib.request import urlopen, Request\n",
    "\n",
    "import nltk\n",
    "from nltk import ngrams\n",
    "\n",
    "import numpy as np\n",
    "import pandas as pd\n",
    "\n",
    "import seaborn as sns\n",
    "import matplotlib.pyplot as plt\n",
    "\n",
    "from proj_utils import *"
   ]
  },
  {
   "cell_type": "code",
   "execution_count": 7,
   "metadata": {},
   "outputs": [],
   "source": [
    "distributions_2gram = {\n",
    "    'SQuAD': 'https://nlp-distribution.s3.ca-central-1.amazonaws.com/ablation/distributions/SQuAD_2gram_distribution.pickle.gz',\n",
    "    'NewsQA': 'https://nlp-distribution.s3.ca-central-1.amazonaws.com/ablation/distributions/NewsQA_2gram_distribution.pickle.gz',\n",
    "    'HotpotQA': 'https://nlp-distribution.s3.ca-central-1.amazonaws.com/ablation/distributions/HotpotQA_2gram_distribution.pickle.gz',\n",
    "    'SearchQA': 'https://nlp-distribution.s3.ca-central-1.amazonaws.com/ablation/distributions/SearchQA_2gram_distribution.pickle.gz',\n",
    "    'TriviaQA': 'https://nlp-distribution.s3.ca-central-1.amazonaws.com/ablation/distributions/TriviaQA_2gram_distribution.pickle.gz',\n",
    "    'NaturalQuestionsShort': 'https://nlp-distribution.s3.ca-central-1.amazonaws.com/ablation/distributions/NaturalQuestionsShort_2gram_distribution.pickle.gz',\n",
    "}\n",
    "\n",
    "distributions_3gram = {\n",
    "    'SQuAD': 'https://nlp-distribution.s3.ca-central-1.amazonaws.com/ablation/distributions/SQuAD_3gram_distribution.pickle.gz',\n",
    "    'NewsQA': 'https://nlp-distribution.s3.ca-central-1.amazonaws.com/ablation/distributions/NewsQA_3gram_distribution.pickle.gz',\n",
    "    'HotpotQA': 'https://nlp-distribution.s3.ca-central-1.amazonaws.com/ablation/distributions/HotpotQA_3gram_distribution.pickle.gz',\n",
    "    'SearchQA': 'https://nlp-distribution.s3.ca-central-1.amazonaws.com/ablation/distributions/SearchQA_3gram_distribution.pickle.gz',\n",
    "    'TriviaQA': 'https://nlp-distribution.s3.ca-central-1.amazonaws.com/ablation/distributions/TriviaQA_3gram_distribution.pickle.gz',\n",
    "    'NaturalQuestionsShort': 'https://nlp-distribution.s3.ca-central-1.amazonaws.com/ablation/distributions/NaturalQuestionsShort_3gram_distribution.pickle.gz',\n",
    "}\n",
    "\n",
    "distributions_4gram = {\n",
    "    'SQuAD': 'https://nlp-distribution.s3.ca-central-1.amazonaws.com/ablation/distributions/SQuAD_4gram_distribution.pickle.gz',\n",
    "    'NewsQA': 'https://nlp-distribution.s3.ca-central-1.amazonaws.com/ablation/distributions/NewsQA_4gram_distribution.pickle.gz',\n",
    "    'HotpotQA': 'https://nlp-distribution.s3.ca-central-1.amazonaws.com/ablation/distributions/HotpotQA_4gram_distribution.pickle.gz',\n",
    "    'SearchQA': 'https://nlp-distribution.s3.ca-central-1.amazonaws.com/ablation/distributions/SearchQA_4gram_distribution.pickle.gz',\n",
    "    'TriviaQA': 'https://nlp-distribution.s3.ca-central-1.amazonaws.com/ablation/distributions/TriviaQA_4gram_distribution.pickle.gz',\n",
    "    'NaturalQuestionsShort': 'https://nlp-distribution.s3.ca-central-1.amazonaws.com/ablation/distributions/NaturalQuestionsShort_4gram_distribution.pickle.gz',\n",
    "}"
   ]
  },
  {
   "cell_type": "code",
   "execution_count": 8,
   "metadata": {},
   "outputs": [],
   "source": [
    "def score_distributions(source, target):\n",
    "    \"\"\"\n",
    "    Compares n-grams of two distributions\n",
    "    returns:\n",
    "        source_sum: total number of ngrams in source\n",
    "        target_sum: total number of ngrams in target\n",
    "        score_1: The sum of the ngrams in the intersection of source and target / source_sum\n",
    "        score_1: The sum of the ngrams in the intersection of source and target / target_sum\n",
    "    \"\"\"\n",
    "    shared_keys = 0\n",
    "    differences = 0\n",
    "    \n",
    "    source_sum = sum(source.values())\n",
    "    target_sum = sum(target.values())\n",
    "    total_sum = source_sum + target_sum\n",
    "    common_sum = 0\n",
    "    \n",
    "    for k,v in source.items():\n",
    "        if k in target:\n",
    "            shared_keys += 1\n",
    "            differences += abs(v - target[k])\n",
    "            common_sum += min(v, target[k])\n",
    "        else:\n",
    "            differences += v\n",
    "    # Calculate Score common divided by target sum (pay for small predicting large).\n",
    "#     source_sum = source_sum\n",
    "#     common_sum = common_sum\n",
    "    score_1 = common_sum/source_sum\n",
    "    score_2 = common_sum/target_sum\n",
    "    \n",
    "    return source_sum, common_sum, score_1, score_2\n",
    "\n",
    "def cache_distribution(distributions):\n",
    "    cached_distributions = {}\n",
    "    for name,url in distributions.items():\n",
    "        cached_distributions[name] = get_gzip_pickle(url)\n",
    "    \n",
    "    return cached_distributions \n",
    "\n"
   ]
  },
  {
   "cell_type": "markdown",
   "metadata": {},
   "source": [
    "# This uses ~35GB of RAM.\n",
    "To speed up iterations, the distribution files are being cached.  If the system does not have enough RAM, then try with one set of n-grams at a time.\n",
    "\n",
    "Note, thse files are pickled NLTK fdist objects (child class of python dictionary).  The keys are tuples, which are not supported by JSON, and I felt like there might be an advantage to keeping them as ndist objects rather than joining the tuples to strings.  Was that the right decision? We'll have to wait and see. "
   ]
  },
  {
   "cell_type": "code",
   "execution_count": 9,
   "metadata": {},
   "outputs": [
    {
     "name": "stdout",
     "output_type": "stream",
     "text": [
      "Fetching: https://nlp-distribution.s3.ca-central-1.amazonaws.com/ablation/distributions/SQuAD_2gram_distribution.pickle.gz\n",
      "Fetching: https://nlp-distribution.s3.ca-central-1.amazonaws.com/ablation/distributions/NewsQA_2gram_distribution.pickle.gz\n",
      "Fetching: https://nlp-distribution.s3.ca-central-1.amazonaws.com/ablation/distributions/HotpotQA_2gram_distribution.pickle.gz\n",
      "Fetching: https://nlp-distribution.s3.ca-central-1.amazonaws.com/ablation/distributions/SearchQA_2gram_distribution.pickle.gz\n",
      "Fetching: https://nlp-distribution.s3.ca-central-1.amazonaws.com/ablation/distributions/TriviaQA_2gram_distribution.pickle.gz\n",
      "Fetching: https://nlp-distribution.s3.ca-central-1.amazonaws.com/ablation/distributions/NaturalQuestionsShort_2gram_distribution.pickle.gz\n"
     ]
    }
   ],
   "source": [
    "cached_distributions_2gram = cache_distribution(distributions_2gram)"
   ]
  },
  {
   "cell_type": "code",
   "execution_count": 10,
   "metadata": {},
   "outputs": [
    {
     "name": "stdout",
     "output_type": "stream",
     "text": [
      "Fetching: https://nlp-distribution.s3.ca-central-1.amazonaws.com/ablation/distributions/SQuAD_3gram_distribution.pickle.gz\n",
      "Fetching: https://nlp-distribution.s3.ca-central-1.amazonaws.com/ablation/distributions/NewsQA_3gram_distribution.pickle.gz\n",
      "Fetching: https://nlp-distribution.s3.ca-central-1.amazonaws.com/ablation/distributions/HotpotQA_3gram_distribution.pickle.gz\n",
      "Fetching: https://nlp-distribution.s3.ca-central-1.amazonaws.com/ablation/distributions/SearchQA_3gram_distribution.pickle.gz\n",
      "Fetching: https://nlp-distribution.s3.ca-central-1.amazonaws.com/ablation/distributions/TriviaQA_3gram_distribution.pickle.gz\n",
      "Fetching: https://nlp-distribution.s3.ca-central-1.amazonaws.com/ablation/distributions/NaturalQuestionsShort_3gram_distribution.pickle.gz\n"
     ]
    }
   ],
   "source": [
    "cached_distributions_3gram = cache_distribution(distributions_3gram)"
   ]
  },
  {
   "cell_type": "code",
   "execution_count": 11,
   "metadata": {},
   "outputs": [
    {
     "name": "stdout",
     "output_type": "stream",
     "text": [
      "Fetching: https://nlp-distribution.s3.ca-central-1.amazonaws.com/ablation/distributions/SQuAD_4gram_distribution.pickle.gz\n",
      "Fetching: https://nlp-distribution.s3.ca-central-1.amazonaws.com/ablation/distributions/NewsQA_4gram_distribution.pickle.gz\n",
      "Fetching: https://nlp-distribution.s3.ca-central-1.amazonaws.com/ablation/distributions/HotpotQA_4gram_distribution.pickle.gz\n",
      "Fetching: https://nlp-distribution.s3.ca-central-1.amazonaws.com/ablation/distributions/SearchQA_4gram_distribution.pickle.gz\n",
      "Fetching: https://nlp-distribution.s3.ca-central-1.amazonaws.com/ablation/distributions/TriviaQA_4gram_distribution.pickle.gz\n",
      "Fetching: https://nlp-distribution.s3.ca-central-1.amazonaws.com/ablation/distributions/NaturalQuestionsShort_4gram_distribution.pickle.gz\n"
     ]
    }
   ],
   "source": [
    "cached_distributions_4gram = cache_distribution(distributions_4gram)"
   ]
  },
  {
   "cell_type": "code",
   "execution_count": 12,
   "metadata": {},
   "outputs": [
    {
     "name": "stderr",
     "output_type": "stream",
     "text": [
      "100%|██████████| 6/6 [03:37<00:00, 36.27s/it]\n"
     ]
    }
   ],
   "source": [
    "\n",
    "def run_scoring(cached_distributions):\n",
    "    \"\"\"\n",
    "    Iterates over distribution_#gram dicts (which have been cached above)\n",
    "    \"\"\"\n",
    "    source_sum_final = []\n",
    "    common_sum_final = []\n",
    "    score_1_final = []\n",
    "    score_2_final = []\n",
    "    for source_name,source_distribution in tqdm(cached_distributions.items()):\n",
    "        source_sum_line = []\n",
    "        common_sum_line = []\n",
    "        score_1_line = []\n",
    "        score_2_line = []\n",
    "        for target_name,target_distribution in cached_distributions.items():\n",
    "            source_sum, common_sum, score_1, score_2 = score_distributions(source_distribution, target_distribution)\n",
    "            \n",
    "            source_sum_line.append(source_sum)\n",
    "            common_sum_line.append(common_sum)\n",
    "            score_1_line.append(score_1)\n",
    "            score_2_line.append(score_2)\n",
    "\n",
    "        source_sum_final.append(source_sum_line)\n",
    "        common_sum_final.append(common_sum_line)\n",
    "        score_1_final.append(score_1_line)\n",
    "        score_2_final.append(score_2_line)\n",
    "    \n",
    "    return source_sum_final, common_sum_final, score_1_final, score_2_final\n",
    "\n",
    "\n",
    "# source_sum_2gram, common_sum_2gram, score_1_2gram, score_2_2gram = run_scoring(cached_distributions_2gram)\n",
    "# source_sum_3gram, common_sum_3gram, score_1_3gram, score_2_3gram = run_scoring(cached_distributions_3gram)\n",
    "source_sum_4gram, common_sum_4gram, score_1_4gram, score_2_4gram = run_scoring(cached_distributions_4gram)\n"
   ]
  },
  {
   "cell_type": "code",
   "execution_count": 13,
   "metadata": {},
   "outputs": [
    {
     "name": "stdout",
     "output_type": "stream",
     "text": [
      "Name:SQuAD distinct ngrams:2310870 ngram sum:2501689 ratio: 1.0825745282079908\n",
      "Name:NewsQA distinct ngrams:5182237 ngram sum:6729830 ratio: 1.2986341612705092\n",
      "Name:HotpotQA distinct ngrams:6224900 ngram sum:14174871 ratio: 2.2771242911532714\n",
      "Name:SearchQA distinct ngrams:55866493 ngram sum:94759886 ratio: 1.6961846164211525\n",
      "Name:TriviaQA distinct ngrams:31796672 ngram sum:50915421 ratio: 1.6012814485742408\n",
      "Name:NaturalQuestionsShort distinct ngrams:7011559 ngram sum:21855118 ratio: 3.117012635848889\n"
     ]
    }
   ],
   "source": [
    "\n",
    "for k,v in cached_distributions_4gram.items():\n",
    "    print(f\"Name:{k} distinct ngrams:{len(v)} ngram sum:{sum(v.values())} ratio: {sum(v.values())/len(v)}\")"
   ]
  },
  {
   "cell_type": "code",
   "execution_count": 14,
   "metadata": {},
   "outputs": [],
   "source": [
    "# Graph settings\n",
    "\n",
    "#colormap = sns.cm.rocket\n",
    "colormap = sns.color_palette(\"RdBu_r\", 12)"
   ]
  },
  {
   "cell_type": "markdown",
   "metadata": {},
   "source": [
    "## Training Set Distribution Intersections\n",
    "\n",
    "`Sum of n-grams in Intersection : Total Target n-grams`"
   ]
  },
  {
   "cell_type": "code",
   "execution_count": 15,
   "metadata": {
    "scrolled": false
   },
   "outputs": [
    {
     "data": {
      "image/png": "[encoded data removed]",
      "text/plain": [
       "<Figure size 1008x720 with 2 Axes>"
      ]
     },
     "metadata": {
      "needs_background": "light"
     },
     "output_type": "display_data"
    }
   ],
   "source": [
    "plt.figure(figsize=(14,10))\n",
    "\n",
    "ax = sns.heatmap(np.array(score_2_4gram), annot=True,  linewidths=.5, cmap=colormap)\n",
    "ax.set_yticklabels(ax.get_yticklabels(), rotation=0)\n",
    "ax.xaxis.tick_top() # x axis on top\n",
    "ax.xaxis.set_label_position('top')\n",
    "ax.tick_params(length=0)\n",
    "\n",
    "ax.set_xticklabels(['SQuAD', 'NewsQA', 'TriviaQA', 'SearchQA', 'HotpotQApred', 'NaturalQuestions'])\n",
    "ax.set_yticklabels(['SQuAD', 'NewsQA', 'TriviaQA', 'SearchQA', 'HotpotQApred', 'NaturalQuestions'])\n",
    "ax.set(xlabel='Target Distribution', ylabel='Source Distribution')\n",
    "\n",
    "plt.show()"
   ]
  },
  {
   "cell_type": "code",
   "execution_count": 16,
   "metadata": {},
   "outputs": [
    {
     "ename": "NameError",
     "evalue": "name 'score_2_3gram' is not defined",
     "output_type": "error",
     "traceback": [
      "\u001b[0;31m---------------------------------------------------------------------------\u001b[0m",
      "\u001b[0;31mNameError\u001b[0m                                 Traceback (most recent call last)",
      "\u001b[0;32m<ipython-input-16-af7686835b8c>\u001b[0m in \u001b[0;36m<module>\u001b[0;34m\u001b[0m\n\u001b[1;32m      1\u001b[0m \u001b[0mplt\u001b[0m\u001b[0;34m.\u001b[0m\u001b[0mfigure\u001b[0m\u001b[0;34m(\u001b[0m\u001b[0mfigsize\u001b[0m\u001b[0;34m=\u001b[0m\u001b[0;34m(\u001b[0m\u001b[0;36m14\u001b[0m\u001b[0;34m,\u001b[0m\u001b[0;36m10\u001b[0m\u001b[0;34m)\u001b[0m\u001b[0;34m)\u001b[0m\u001b[0;34m\u001b[0m\u001b[0;34m\u001b[0m\u001b[0m\n\u001b[1;32m      2\u001b[0m \u001b[0;34m\u001b[0m\u001b[0m\n\u001b[0;32m----> 3\u001b[0;31m \u001b[0max\u001b[0m \u001b[0;34m=\u001b[0m \u001b[0msns\u001b[0m\u001b[0;34m.\u001b[0m\u001b[0mheatmap\u001b[0m\u001b[0;34m(\u001b[0m\u001b[0mnp\u001b[0m\u001b[0;34m.\u001b[0m\u001b[0marray\u001b[0m\u001b[0;34m(\u001b[0m\u001b[0mscore_2_3gram\u001b[0m\u001b[0;34m)\u001b[0m\u001b[0;34m,\u001b[0m \u001b[0mannot\u001b[0m\u001b[0;34m=\u001b[0m\u001b[0;32mTrue\u001b[0m\u001b[0;34m,\u001b[0m  \u001b[0mlinewidths\u001b[0m\u001b[0;34m=\u001b[0m\u001b[0;36m.5\u001b[0m\u001b[0;34m,\u001b[0m \u001b[0mcmap\u001b[0m\u001b[0;34m=\u001b[0m\u001b[0mcolormap\u001b[0m\u001b[0;34m)\u001b[0m\u001b[0;34m\u001b[0m\u001b[0;34m\u001b[0m\u001b[0m\n\u001b[0m\u001b[1;32m      4\u001b[0m \u001b[0max\u001b[0m\u001b[0;34m.\u001b[0m\u001b[0mset_yticklabels\u001b[0m\u001b[0;34m(\u001b[0m\u001b[0max\u001b[0m\u001b[0;34m.\u001b[0m\u001b[0mget_yticklabels\u001b[0m\u001b[0;34m(\u001b[0m\u001b[0;34m)\u001b[0m\u001b[0;34m,\u001b[0m \u001b[0mrotation\u001b[0m\u001b[0;34m=\u001b[0m\u001b[0;36m0\u001b[0m\u001b[0;34m)\u001b[0m\u001b[0;34m\u001b[0m\u001b[0;34m\u001b[0m\u001b[0m\n\u001b[1;32m      5\u001b[0m \u001b[0max\u001b[0m\u001b[0;34m.\u001b[0m\u001b[0mxaxis\u001b[0m\u001b[0;34m.\u001b[0m\u001b[0mtick_top\u001b[0m\u001b[0;34m(\u001b[0m\u001b[0;34m)\u001b[0m \u001b[0;31m# x axis on top\u001b[0m\u001b[0;34m\u001b[0m\u001b[0;34m\u001b[0m\u001b[0m\n",
      "\u001b[0;31mNameError\u001b[0m: name 'score_2_3gram' is not defined"
     ]
    },
    {
     "data": {
      "text/plain": [
       "<Figure size 1008x720 with 0 Axes>"
      ]
     },
     "metadata": {},
     "output_type": "display_data"
    }
   ],
   "source": [
    "plt.figure(figsize=(14,10))\n",
    "\n",
    "ax = sns.heatmap(np.array(score_2_3gram), annot=True,  linewidths=.5, cmap=colormap)\n",
    "ax.set_yticklabels(ax.get_yticklabels(), rotation=0)\n",
    "ax.xaxis.tick_top() # x axis on top\n",
    "ax.xaxis.set_label_position('top')\n",
    "ax.tick_params(length=0)\n",
    "ax.set_xticklabels(['SQuAD', 'NewsQA', 'TriviaQA', 'SearchQA', 'HotpotQApred', 'NaturalQuestions'])\n",
    "ax.set_yticklabels(['SQuAD', 'NewsQA', 'TriviaQA', 'SearchQA', 'HotpotQApred', 'NaturalQuestions'])\n",
    "ax.set(xlabel='Target Distribution', ylabel='Source Distribution')\n",
    "\n",
    "plt.show()"
   ]
  },
  {
   "cell_type": "markdown",
   "metadata": {},
   "source": [
    "## F1 Score of Models Trained on a Single Training Set to Test Sets"
   ]
  },
  {
   "cell_type": "code",
   "execution_count": null,
   "metadata": {},
   "outputs": [],
   "source": [
    "models_parent_dir='/data/ablation/models'\n",
    "\n",
    "results_csv = models_parent_dir+\"/data/ablation/results/model_scores.csv\"\n",
    "\n",
    "scores_df = pd.read_csv(results_csv)\n",
    "    \n",
    "plt.figure(figsize=(14,10))\n",
    "\n",
    "scores = scores_df.loc[scores_df['model_name'].isin(['model07', 'model08', 'model09', 'model10', 'model11', 'model12'])].pivot(\"model_name\", \"test_set_name\", \"f1\")\n",
    "\n",
    "# model_order=['SQuAD', 'NewsQA', 'TriviaQA', 'SearchQA', 'HotpotQApred', 'NaturalQuestions', 'BioASQ', 'DROP', 'DuoRC', 'RACE', 'RelationExtraction', 'TextbookQA']\n",
    "model_order=['SQuAD', 'NewsQA', 'TriviaQA', 'SearchQA', 'HotpotQApred', 'NaturalQuestions']\n",
    "\n",
    "# scores.loc[scores['model_name'] == 'model07']\n",
    "\n",
    "ax = sns.heatmap(scores[model_order], annot=True,  linewidths=.5, center=50, cmap=colormap)\n",
    "\n",
    "ax.set_yticklabels(ax.get_yticklabels(), rotation=0)\n",
    "ax.xaxis.tick_top() # x axis on top\n",
    "ax.xaxis.set_label_position('top')\n",
    "ax.tick_params(length=0)\n",
    "# ax.set_xticklabels(['SQuAD', 'NewsQA', 'TriviaQA', 'SearchQA', 'HotpotQApred', 'NaturalQuestions'])\n",
    "ax.set_yticklabels(['SQuAD', 'NewsQA', 'TriviaQA', 'SearchQA', 'HotpotQApred', 'NaturalQuestions'])\n",
    "ax.set(xlabel='Test Set', ylabel='Single Training Set')\n",
    "\n",
    "plt.show()"
   ]
  },
  {
   "cell_type": "markdown",
   "metadata": {},
   "source": [
    "## F1 Score of Models Trained on a All But One Training Set to Test Sets"
   ]
  },
  {
   "cell_type": "code",
   "execution_count": null,
   "metadata": {},
   "outputs": [],
   "source": [
    "plt.figure(figsize=(14,10))\n",
    "scores_inv = scores_df.loc[scores_df['model_name'].isin(['model03', 'model02', 'model13', 'model14', 'model15', 'model16'])].pivot(\"model_name\", \"test_set_name\", \"f1\")\n",
    "\n",
    "# model_order=['SQuAD', 'NewsQA', 'TriviaQA', 'SearchQA', 'HotpotQApred', 'NaturalQuestions', 'BioASQ', 'DROP', 'DuoRC', 'RACE', 'RelationExtraction', 'TextbookQA']\n",
    "model_order=['SQuAD', 'NewsQA', 'TriviaQA', 'SearchQA', 'HotpotQApred', 'NaturalQuestions']\n",
    "\n",
    "ax = sns.heatmap(scores_inv[model_order], annot=True,  linewidths=.5, center=50, cmap=colormap)\n",
    "\n",
    "ax.set_yticklabels(ax.get_yticklabels(), rotation=0)\n",
    "ax.xaxis.tick_top() # x axis on top\n",
    "ax.xaxis.set_label_position('top')\n",
    "ax.tick_params(length=0)\n",
    "# ax.set_xticklabels(['SQuAD', 'NewsQA', 'TriviaQA', 'SearchQA', 'HotpotQApred', 'NaturalQuestions'])\n",
    "ax.set_yticklabels(['No SQuAD', 'No NewsQA', 'No TriviaQA', 'No SearchQA', 'No HotpotQApred', 'No NaturalQuestions'])\n",
    "ax.set(xlabel='Test Set', ylabel='Excluded Training Set')\n",
    "\n",
    "plt.show()"
   ]
  },
  {
   "cell_type": "code",
   "execution_count": null,
   "metadata": {},
   "outputs": [],
   "source": [
    "scores_list = scores[model_order].values.tolist()\n",
    "scores_list_flat = [j for sub in scores_list for j in sub]\n",
    "\n",
    "# scores_list_inv = scores_inv[model_order].values.tolist()\n",
    "# scores_list_inv_flat = [j for sub in scores_list_inv for j in sub]\n",
    "\n",
    "\n",
    "score_1_2gram_flat = [j for sub in score_1_2gram for j in sub]\n",
    "score_2_2gram_flat = [j for sub in score_2_2gram for j in sub]\n",
    "source_sum_2gram_flat = [j for sub in source_sum_2gram for j in sub]\n",
    "common_sum_2gram_flat = [j for sub in common_sum_2gram for j in sub]\n",
    "\n",
    "score_1_3gram_flat = [j for sub in score_1_3gram for j in sub]\n",
    "score_2_3gram_flat = [j for sub in score_2_3gram for j in sub]\n",
    "source_sum_3gram_flat = [j for sub in source_sum_3gram for j in sub]\n",
    "common_sum_3gram_flat = [j for sub in common_sum_3gram for j in sub]\n"
   ]
  },
  {
   "cell_type": "code",
   "execution_count": null,
   "metadata": {},
   "outputs": [],
   "source": [
    "!pip install scikit-learn"
   ]
  },
  {
   "cell_type": "code",
   "execution_count": null,
   "metadata": {},
   "outputs": [],
   "source": [
    "import numpy as np\n",
    "from sklearn.linear_model import LinearRegression\n",
    "\n",
    "x = []\n",
    "y = []\n",
    "for x1,x2,x3,x4,y1 in zip(score_1_3gram_flat,\n",
    "                          score_2_3gram_flat, \n",
    "                          source_sum_3gram_flat, \n",
    "                          common_sum_3gram_flat, \n",
    "                          scores_list_flat):\n",
    "    if x1 != x2 and x1 != 1.0:\n",
    "#         print([x1,x2,x3,x4])\n",
    "        x.append([x4])\n",
    "        y.append(y1)\n",
    "        \n",
    "\n",
    "\n",
    "model = LinearRegression()\n",
    "model.fit(x, y)\n",
    "\n",
    "y_pred = model.predict(x)\n",
    "\n",
    "r_sq = model.score(x[1:], y[1:])\n",
    "print('R-Squared:', r_sq)\n",
    "print('intercept:', model.intercept_)\n",
    "print('coefficients:', model.coef_)"
   ]
  },
  {
   "cell_type": "code",
   "execution_count": null,
   "metadata": {},
   "outputs": [],
   "source": [
    "# None of this makes sense (need to combine distribution sets)\n",
    "\n",
    "# x = []\n",
    "# y = []\n",
    "# for x1,x2,x3,x4,y1 in zip(score_1_2gram_flat,\n",
    "#                           score_2_2gram_flat, \n",
    "#                           source_sum_2gram_flat, \n",
    "#                           common_sum_2gram_flat, \n",
    "#                           scores_list_inv_flat):\n",
    "#     if x1 == x2 and x1 == 1.0:\n",
    "# #     if x1 != x2 and x1 != 1.0:\n",
    "# #         print([x1,x2,x3,x4])\n",
    "#         x.append([x3])\n",
    "#         y.append(y1)\n",
    "        \n",
    "\n",
    "\n",
    "# model = LinearRegression()\n",
    "# model.fit(x, y)\n",
    "\n",
    "# y_pred = model.predict(x)\n",
    "\n",
    "# r_sq = model.score(x, y)\n",
    "# print('R-Squared:', r_sq)\n",
    "# print('intercept:', model.intercept_)\n",
    "# print('coefficients:', model.coef_)"
   ]
  },
  {
   "cell_type": "code",
   "execution_count": null,
   "metadata": {},
   "outputs": [],
   "source": [
    "import statsmodels.api as sm\n",
    "# X = sm.add_constant(X.ravel())\n",
    "\n",
    "results = sm.OLS(y,x).fit()\n",
    "y_pred2 = results.predict(x)\n",
    "results.summary()  "
   ]
  },
  {
   "cell_type": "code",
   "execution_count": null,
   "metadata": {},
   "outputs": [],
   "source": [
    "for orig, pred in zip(y, y_pred2):\n",
    "    print(f\"Orig: {orig:.3f}\\t Pred: {pred:.3f}\\t Diff: {abs(orig-pred):.3f}\")"
   ]
  }
 ],
 "metadata": {
  "kernelspec": {
   "display_name": "Python 3",
   "language": "python",
   "name": "python3"
  },
  "language_info": {
   "codemirror_mode": {
    "name": "ipython",
    "version": 3
   },
   "file_extension": ".py",
   "mimetype": "text/x-python",
   "name": "python",
   "nbconvert_exporter": "python",
   "pygments_lexer": "ipython3",
   "version": "3.7.7"
  }
 },
 "nbformat": 4,
 "nbformat_minor": 4
}
