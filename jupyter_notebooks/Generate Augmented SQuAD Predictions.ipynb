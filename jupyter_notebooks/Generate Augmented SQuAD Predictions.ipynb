{
 "cells": [
  {
   "cell_type": "code",
   "execution_count": 1,
   "metadata": {},
   "outputs": [],
   "source": [
    "# https://colab.research.google.com/drive/1uSlWtJdZmLrI3FCNIlUHFxwAJiSu2J0-#scrollTo=-ONLrgJK99TQ\n",
    "# !pip install transformers\n",
    "# !pip install statsmodels\n",
    "# !pip install tqdm"
   ]
  },
  {
   "cell_type": "markdown",
   "metadata": {},
   "source": [
    "### Models to run\n",
    "\n",
    "bert-large-cased-whole-word-masking-finetuned-squad  \n",
    "bert-large-uncased-whole-word-masking-finetuned-squad  \n",
    "distilbert-base-cased-distilled-squad  \n",
    "distilbert-base-uncased-distilled-squad  \n"
   ]
  },
  {
   "cell_type": "code",
   "execution_count": null,
   "metadata": {},
   "outputs": [],
   "source": [
    "from transformers import BertForQuestionAnswering, AutoModelForQuestionAnswering, AutoTokenizer\n",
    "from transformers import DistilBertTokenizer, DistilBertForQuestionAnswering\n",
    "from transformers import BertTokenizer\n",
    "\n",
    "import os\n",
    "import torch\n",
    "import torch.nn as nn\n",
    "import json\n",
    "from tqdm import tqdm\n",
    "import nltk\n",
    "\n",
    "from proj_utils import *"
   ]
  },
  {
   "cell_type": "code",
   "execution_count": 2,
   "metadata": {},
   "outputs": [],
   "source": [
    "\n",
    "\n",
    "model_type = 'distilbert_uncased'\n",
    "\n",
    "if model_type == 'bert_cased':\n",
    "    huggingface_model_name = 'bert-large-cased-whole-word-masking-finetuned-squad'\n",
    "    model = BertForQuestionAnswering.from_pretrained('bert-large-cased-whole-word-masking-finetuned-squad',\n",
    "                                                    cache_dir=\"/data/models_cache\")\n",
    "    tokenizer = BertTokenizer.from_pretrained('bert-large-cased-whole-word-masking-finetuned-squad',\n",
    "                                             cache_dir=\"/data/models_cache\")\n",
    "\n",
    "elif model_type == 'bert_uncased':\n",
    "    huggingface_model_name = 'bert-large-uncased-whole-word-masking-finetuned-squad'\n",
    "    model = BertForQuestionAnswering.from_pretrained('bert-large-uncased-whole-word-masking-finetuned-squad',\n",
    "                                                    cache_dir=\"/data/models_cache\")\n",
    "    tokenizer = BertTokenizer.from_pretrained('bert-large-uncased-whole-word-masking-finetuned-squad',\n",
    "                                             cache_dir=\"/data/models_cache\")\n",
    "    \n",
    "elif model_type == 'distilbert_cased':\n",
    "    huggingface_model_name = 'distilbert-base-cased-distilled-squad'\n",
    "    model = DistilBertForQuestionAnswering.from_pretrained(\"distilbert-base-cased-distilled-squad\",\n",
    "                                                    cache_dir=\"/data/models_cache\")\n",
    "    tokenizer = DistilBertTokenizer.from_pretrained(\"distilbert-base-cased-distilled-squad\",\n",
    "                                             cache_dir=\"/data/models_cache\")\n",
    "    \n",
    "elif model_type == 'distilbert_uncased':\n",
    "    huggingface_model_name = 'distilbert-base-uncased-distilled-squad'\n",
    "    model = DistilBertForQuestionAnswering.from_pretrained(\"distilbert-base-uncased-distilled-squad\",\n",
    "                                                    cache_dir=\"/data/models_cache\")\n",
    "    tokenizer = DistilBertTokenizer.from_pretrained(\"distilbert-base-uncased-distilled-squad\",\n",
    "                                             cache_dir=\"/data/models_cache\")\n"
   ]
  },
  {
   "cell_type": "code",
   "execution_count": 3,
   "metadata": {},
   "outputs": [],
   "source": [
    "# Setting statically \n",
    "os.environ[\"CUDA_VISIBLE_DEVICES\"] = \"0,1\"\n",
    "\n",
    "device = torch.device(\"cuda\" if torch.cuda.is_available() else \"cpu\")\n",
    "\n",
    "if torch.cuda.device_count() > 1:\n",
    "  model = nn.DataParallel(model, device_ids=[0,1])\n",
    "\n",
    "model = model.to(device)"
   ]
  },
  {
   "cell_type": "code",
   "execution_count": 4,
   "metadata": {},
   "outputs": [
    {
     "name": "stderr",
     "output_type": "stream",
     "text": [
      "[nltk_data] Downloading package punkt to /root/nltk_data...\n",
      "[nltk_data]   Package punkt is already up-to-date!\n",
      "[nltk_data] Downloading package wordnet to /root/nltk_data...\n",
      "[nltk_data]   Package wordnet is already up-to-date!\n"
     ]
    },
    {
     "data": {
      "text/plain": [
       "True"
      ]
     },
     "execution_count": 4,
     "metadata": {},
     "output_type": "execute_result"
    }
   ],
   "source": [
    "nltk.download('punkt')\n",
    "nltk.download('wordnet')"
   ]
  },
  {
   "cell_type": "code",
   "execution_count": 5,
   "metadata": {},
   "outputs": [
    {
     "data": {
      "text/plain": [
       "' He be run and eat at same time . He have bad habit of swim after play long hours in the Sun .'"
      ]
     },
     "execution_count": 5,
     "metadata": {},
     "output_type": "execute_result"
    }
   ],
   "source": [
    "import nltk\n",
    "from nltk.stem import WordNetLemmatizer\n",
    "wordnet_lemmatizer = WordNetLemmatizer()\n",
    "\n",
    "sentence = \"He was running and eating at same time. He has bad habit of swimming after playing long hours in the Sun.\"\n",
    "punctuations=\"?:!.,;\"\n",
    "sentence_words = nltk.word_tokenize(sentence)\n",
    "# for word in sentence_words:\n",
    "#     if word in punctuations:\n",
    "#         sentence_words.remove(word)\n",
    "\n",
    "# sentence_words\n",
    "# print(\"{0:20}{1:20}\".format(\"Word\",\"Lemma\"))\n",
    "# for word in sentence_words:\n",
    "#     print (\"{0:20}{1:20}\".format(word,wordnet_lemmatizer.lemmatize(word, pos=\"v\")))\n",
    "\n",
    "def lemmatize(sentence):\n",
    "    results = ''\n",
    "    for word in sentence_words:\n",
    "        results = results + ' ' + wordnet_lemmatizer.lemmatize(word, pos=\"v\")\n",
    "    \n",
    "    return results\n",
    "    \n",
    "lemmatize(sentence)\n",
    "    "
   ]
  },
  {
   "cell_type": "code",
   "execution_count": 6,
   "metadata": {},
   "outputs": [
    {
     "data": {
      "text/plain": [
       "'be'"
      ]
     },
     "execution_count": 6,
     "metadata": {},
     "output_type": "execute_result"
    }
   ],
   "source": [
    "wordnet_lemmatizer.lemmatize(\"was\", pos=\"v\")"
   ]
  },
  {
   "cell_type": "markdown",
   "metadata": {},
   "source": [
    "### Truncating in tokenizer\n",
    "Need to find way to not truncate. "
   ]
  },
  {
   "cell_type": "code",
   "execution_count": 7,
   "metadata": {},
   "outputs": [],
   "source": [
    "\n",
    "def check_answer(answer, ground_truths):\n",
    "    for ground_truth in ground_truths:\n",
    "        if answer.lower() == ground_truth['text'].lower():\n",
    "            return True\n",
    "    return False\n",
    "\n",
    "def predict_answer(question, context):\n",
    "    input_ids = tokenizer.encode(question, context, max_length=512, truncation=True)\n",
    "\n",
    "    # Search the input_ids for the first instance of the `[SEP]` token.\n",
    "    sep_index = input_ids.index(tokenizer.sep_token_id)\n",
    "\n",
    "    # The number of segment A tokens includes the [SEP] token istelf.\n",
    "    num_seg_a = sep_index + 1\n",
    "\n",
    "    # The remainder are segment B.\n",
    "    num_seg_b = len(input_ids) - num_seg_a\n",
    "\n",
    "    # Construct the list of 0s and 1s.\n",
    "    segment_ids = [0]*num_seg_a + [1]*num_seg_b\n",
    "\n",
    "    # There should be a segment_id for every input token.\n",
    "    assert len(segment_ids) == len(input_ids)\n",
    "\n",
    "#    start_scores, end_scores = model(torch.tensor([input_ids]).to(device), # The tokens representing our input text.\n",
    "#                      token_type_ids=torch.tensor([segment_ids]).to(device)) # The segment IDs to differentiate question from answer_text\n",
    "\n",
    "    start_scores, end_scores = model(torch.tensor([input_ids]).to(device))\n",
    "    \n",
    "    answer_start = torch.argmax(start_scores)\n",
    "    answer_end = torch.argmax(end_scores)\n",
    "\n",
    "    # Combine the tokens in the answer and print it out.\n",
    "    tokens = tokenizer.convert_ids_to_tokens(input_ids)\n",
    "    #answer = ' '.join(tokens[answer_start:answer_end+1])\n",
    "    \n",
    "    answer = tokens[answer_start]\n",
    "\n",
    "    # Select the remaining answer tokens and join them with whitespace.\n",
    "    for i in range(answer_start + 1, answer_end + 1):\n",
    "\n",
    "        # If it's a subword token, then recombine it with the previous token.\n",
    "        if tokens[i][0:2] == '##':\n",
    "            answer += tokens[i][2:]\n",
    "\n",
    "        # Otherwise, add a space then the token.\n",
    "        else:\n",
    "            answer += ' ' + tokens[i]\n",
    "    \n",
    "    return answer, answer_start\n",
    "\n",
    "## JSON Format\n",
    "# -data\n",
    "#   -paragraphs\n",
    "#     -context\n",
    "#     -qas\n",
    "#       -question\n",
    "#       -id\n",
    "#       -answers\n",
    "#          -text\n",
    "#          -answer_start\n",
    "#   -title\n",
    "#   -split\n",
    "\n",
    "def predict_answers(qa_json_file):\n",
    "    print(\"Predicting answers for: {}\".format(qa_json_file))\n",
    "    results = {}\n",
    "    count = 0\n",
    "#     with open(qa_json_file) as json_file:\n",
    "#         test_qa = json.load(json_file)['data']\n",
    "    test_qa = get_gzip_json_url(qa_json_file)['data']\n",
    "    \n",
    "    for splits in tqdm(test_qa):\n",
    "\n",
    "        paragraphs = splits['paragraphs']\n",
    "        for paragraph in paragraphs:\n",
    "            count += 1\n",
    "\n",
    "            for qa in paragraph['qas']:\n",
    "\n",
    "                # Predict the anser, and then validate against ground truth. \n",
    "                answer, answer_start = predict_answer(qa['question'], paragraph['context'])\n",
    "                result = check_answer(answer, qa['answers'])\n",
    "\n",
    "                results.update([(qa['id'], answer)])\n",
    "    return results\n",
    "\n",
    "def get_augmented_filename(input_dir, model_name, question_set, parts_of_speech=None, frequency_percentile=None):\n",
    "    \n",
    "    if model_name == 'orig':\n",
    "        filename = input_dir+question_set+\".json.gz\"\n",
    "        return filename\n",
    "\n",
    "    assert bool(parts_of_speech) ^ bool(frequency_percentile), \"Can only pass one of parts_of_speech and frequency_percentile\"\n",
    "    \n",
    "    if parts_of_speech:\n",
    "        filename = input_dir+question_set+\"_\"+model_name+\"_\"+\"_\".join(parts_of_speech)+\".json.gz\"\n",
    "    elif frequency_percentile:\n",
    "        filename = input_dir+question_set+\"_\"+model_name+\"_Percentile_\"+str(frequency_percentile)+\".json.gz\"\n",
    "\n",
    "    return filename\n",
    "\n",
    "\n",
    "def get_prediction_filename(output_dir, model_name, question_set, parts_of_speech=None, frequency_percentile=None):\n",
    "    \n",
    "    if model_name == 'orig':\n",
    "        filename = output_dir+question_set+\"_\"+huggingface_model_name+\".json.gz\"\n",
    "        return filename\n",
    "    \n",
    "    assert bool(parts_of_speech) ^ bool(frequency_percentile), \"Can only pass one of parts_of_speech and frequency_percentile\"\n",
    "    \n",
    "    if parts_of_speech:\n",
    "        filename = output_dir+question_set+\"_\"+model_name+\"_\"+\"_\".join(parts_of_speech)+\"_\"+huggingface_model_name+\".json.gz\"\n",
    "    elif frequency_percentile:\n",
    "        filename = output_dir+question_set+\"_\"+model_name+\"_Percentile_\"+str(frequency_percentile)+\"_\"+huggingface_model_name+\".json.gz\"\n",
    "\n",
    "    return filename\n",
    "\n",
    "\n",
    "def write_prediction_file(results, output_dir, model_name, question_set, parts_of_speech=None, frequency_percentile=None):\n",
    "    predictions_filename = get_prediction_filename(output_dir, model_name, question_set, parts_of_speech, frequency_percentile)\n",
    "\n",
    "    print(\"Writting file: {}\".format(predictions_filename))\n",
    "    \n",
    "#     with open(predictions_filename, 'w') as fp:\n",
    "#         json.dump(results, fp)\n",
    "    \n",
    "    write_gzip_json(predictions_filename, results)\n",
    "    \n",
    "    return predictions_filename\n",
    "\n"
   ]
  },
  {
   "cell_type": "code",
   "execution_count": null,
   "metadata": {
    "scrolled": false
   },
   "outputs": [
    {
     "name": "stdout",
     "output_type": "stream",
     "text": [
      "Predicting answers for: https://ndownloader.figshare.com/files/21500109?private_link=2f119bea3e8d711047ec\n",
      "Fetching: https://ndownloader.figshare.com/files/21500109?private_link=2f119bea3e8d711047ec\n"
     ]
    },
    {
     "name": "stderr",
     "output_type": "stream",
     "text": [
      "100%|██████████| 413/413 [01:34<00:00,  4.36it/s]\n"
     ]
    },
    {
     "name": "stdout",
     "output_type": "stream",
     "text": [
      "Writting file: /data/distribution_shift/augmented_qa/predictions/amazon_reviews_v1_0_distilbert-base-uncased-distilled-squad.json.gz\n",
      "Writting: /data/distribution_shift/augmented_qa/predictions/amazon_reviews_v1_0_distilbert-base-uncased-distilled-squad.json.gz\n",
      "Predicting answers for: https://ndownloader.figshare.com/files/21500112?private_link=2f119bea3e8d711047ec\n",
      "Fetching: https://ndownloader.figshare.com/files/21500112?private_link=2f119bea3e8d711047ec\n"
     ]
    },
    {
     "name": "stderr",
     "output_type": "stream",
     "text": [
      "100%|██████████| 1/1 [01:34<00:00, 94.78s/it]\n"
     ]
    },
    {
     "name": "stdout",
     "output_type": "stream",
     "text": [
      "Writting file: /data/distribution_shift/augmented_qa/predictions/reddit_v1_0_distilbert-base-uncased-distilled-squad.json.gz\n",
      "Writting: /data/distribution_shift/augmented_qa/predictions/reddit_v1_0_distilbert-base-uncased-distilled-squad.json.gz\n",
      "Predicting answers for: https://ndownloader.figshare.com/files/21500115?private_link=2f119bea3e8d711047ec\n",
      "Fetching: https://ndownloader.figshare.com/files/21500115?private_link=2f119bea3e8d711047ec\n"
     ]
    },
    {
     "name": "stderr",
     "output_type": "stream",
     "text": [
      "100%|██████████| 48/48 [01:15<00:00,  1.57s/it]\n"
     ]
    },
    {
     "name": "stdout",
     "output_type": "stream",
     "text": [
      "Writting file: /data/distribution_shift/augmented_qa/predictions/new_wiki_v1.0_distilbert-base-uncased-distilled-squad.json.gz\n",
      "Writting: /data/distribution_shift/augmented_qa/predictions/new_wiki_v1.0_distilbert-base-uncased-distilled-squad.json.gz\n",
      "Predicting answers for: https://ndownloader.figshare.com/files/21500118?private_link=2f119bea3e8d711047ec\n",
      "Fetching: https://ndownloader.figshare.com/files/21500118?private_link=2f119bea3e8d711047ec\n"
     ]
    },
    {
     "name": "stderr",
     "output_type": "stream",
     "text": [
      "100%|██████████| 797/797 [01:36<00:00,  8.30it/s]\n"
     ]
    },
    {
     "name": "stdout",
     "output_type": "stream",
     "text": [
      "Writting file: /data/distribution_shift/augmented_qa/predictions/nyt_v1.0_distilbert-base-uncased-distilled-squad.json.gz\n",
      "Writting: /data/distribution_shift/augmented_qa/predictions/nyt_v1.0_distilbert-base-uncased-distilled-squad.json.gz\n",
      "Predicting answers for: https://nlp-distribution.s3.ca-central-1.amazonaws.com/augmentation/test/amazon_reviews_v1_0_bert_JJ_VB.json.gz\n",
      "Fetching: https://nlp-distribution.s3.ca-central-1.amazonaws.com/augmentation/test/amazon_reviews_v1_0_bert_JJ_VB.json.gz\n"
     ]
    },
    {
     "name": "stderr",
     "output_type": "stream",
     "text": [
      "100%|██████████| 413/413 [01:28<00:00,  4.66it/s]\n"
     ]
    },
    {
     "name": "stdout",
     "output_type": "stream",
     "text": [
      "Writting file: /data/distribution_shift/augmented_qa/predictions/amazon_reviews_v1_0_bert_JJ_VB_distilbert-base-uncased-distilled-squad.json.gz\n",
      "Writting: /data/distribution_shift/augmented_qa/predictions/amazon_reviews_v1_0_bert_JJ_VB_distilbert-base-uncased-distilled-squad.json.gz\n",
      "Predicting answers for: https://nlp-distribution.s3.ca-central-1.amazonaws.com/augmentation/test/amazon_reviews_v1_0_bert_JJ.json.gz\n",
      "Fetching: https://nlp-distribution.s3.ca-central-1.amazonaws.com/augmentation/test/amazon_reviews_v1_0_bert_JJ.json.gz\n"
     ]
    },
    {
     "name": "stderr",
     "output_type": "stream",
     "text": [
      "100%|██████████| 413/413 [01:28<00:00,  4.66it/s]\n"
     ]
    },
    {
     "name": "stdout",
     "output_type": "stream",
     "text": [
      "Writting file: /data/distribution_shift/augmented_qa/predictions/amazon_reviews_v1_0_bert_JJ_distilbert-base-uncased-distilled-squad.json.gz\n",
      "Writting: /data/distribution_shift/augmented_qa/predictions/amazon_reviews_v1_0_bert_JJ_distilbert-base-uncased-distilled-squad.json.gz\n",
      "Predicting answers for: https://nlp-distribution.s3.ca-central-1.amazonaws.com/augmentation/test/amazon_reviews_v1_0_bert_VB_RB.json.gz\n",
      "Fetching: https://nlp-distribution.s3.ca-central-1.amazonaws.com/augmentation/test/amazon_reviews_v1_0_bert_VB_RB.json.gz\n"
     ]
    },
    {
     "name": "stderr",
     "output_type": "stream",
     "text": [
      "100%|██████████| 413/413 [01:32<00:00,  4.44it/s]\n"
     ]
    },
    {
     "name": "stdout",
     "output_type": "stream",
     "text": [
      "Writting file: /data/distribution_shift/augmented_qa/predictions/amazon_reviews_v1_0_bert_VB_RB_distilbert-base-uncased-distilled-squad.json.gz\n",
      "Writting: /data/distribution_shift/augmented_qa/predictions/amazon_reviews_v1_0_bert_VB_RB_distilbert-base-uncased-distilled-squad.json.gz\n",
      "Predicting answers for: https://nlp-distribution.s3.ca-central-1.amazonaws.com/augmentation/test/amazon_reviews_v1_0_bert_VB.json.gz\n",
      "Fetching: https://nlp-distribution.s3.ca-central-1.amazonaws.com/augmentation/test/amazon_reviews_v1_0_bert_VB.json.gz\n"
     ]
    },
    {
     "name": "stderr",
     "output_type": "stream",
     "text": [
      "100%|██████████| 413/413 [01:32<00:00,  4.46it/s]\n"
     ]
    },
    {
     "name": "stdout",
     "output_type": "stream",
     "text": [
      "Writting file: /data/distribution_shift/augmented_qa/predictions/amazon_reviews_v1_0_bert_VB_distilbert-base-uncased-distilled-squad.json.gz\n",
      "Writting: /data/distribution_shift/augmented_qa/predictions/amazon_reviews_v1_0_bert_VB_distilbert-base-uncased-distilled-squad.json.gz\n",
      "Predicting answers for: https://nlp-distribution.s3.ca-central-1.amazonaws.com/augmentation/test/amazon_reviews_v1_0_bert_RB.json.gz\n",
      "Fetching: https://nlp-distribution.s3.ca-central-1.amazonaws.com/augmentation/test/amazon_reviews_v1_0_bert_RB.json.gz\n"
     ]
    },
    {
     "name": "stderr",
     "output_type": "stream",
     "text": [
      "100%|██████████| 413/413 [01:33<00:00,  4.42it/s]\n"
     ]
    },
    {
     "name": "stdout",
     "output_type": "stream",
     "text": [
      "Writting file: /data/distribution_shift/augmented_qa/predictions/amazon_reviews_v1_0_bert_RB_distilbert-base-uncased-distilled-squad.json.gz\n",
      "Writting: /data/distribution_shift/augmented_qa/predictions/amazon_reviews_v1_0_bert_RB_distilbert-base-uncased-distilled-squad.json.gz\n",
      "Predicting answers for: https://nlp-distribution.s3.ca-central-1.amazonaws.com/augmentation/test/amazon_reviews_v1_0_bert_RB_RBR_RBZ.json.gz\n",
      "Fetching: https://nlp-distribution.s3.ca-central-1.amazonaws.com/augmentation/test/amazon_reviews_v1_0_bert_RB_RBR_RBZ.json.gz\n"
     ]
    },
    {
     "name": "stderr",
     "output_type": "stream",
     "text": [
      "100%|██████████| 413/413 [01:33<00:00,  4.44it/s]\n"
     ]
    },
    {
     "name": "stdout",
     "output_type": "stream",
     "text": [
      "Writting file: /data/distribution_shift/augmented_qa/predictions/amazon_reviews_v1_0_bert_RB_RBR_RBZ_distilbert-base-uncased-distilled-squad.json.gz\n",
      "Writting: /data/distribution_shift/augmented_qa/predictions/amazon_reviews_v1_0_bert_RB_RBR_RBZ_distilbert-base-uncased-distilled-squad.json.gz\n",
      "Predicting answers for: https://nlp-distribution.s3.ca-central-1.amazonaws.com/augmentation/test/amazon_reviews_v1_0_bert_VB_VBD_VBG_VBN_VBP.json.gz\n",
      "Fetching: https://nlp-distribution.s3.ca-central-1.amazonaws.com/augmentation/test/amazon_reviews_v1_0_bert_VB_VBD_VBG_VBN_VBP.json.gz\n"
     ]
    },
    {
     "name": "stderr",
     "output_type": "stream",
     "text": [
      "100%|██████████| 413/413 [01:33<00:00,  4.41it/s]\n"
     ]
    },
    {
     "name": "stdout",
     "output_type": "stream",
     "text": [
      "Writting file: /data/distribution_shift/augmented_qa/predictions/amazon_reviews_v1_0_bert_VB_VBD_VBG_VBN_VBP_distilbert-base-uncased-distilled-squad.json.gz\n",
      "Writting: /data/distribution_shift/augmented_qa/predictions/amazon_reviews_v1_0_bert_VB_VBD_VBG_VBN_VBP_distilbert-base-uncased-distilled-squad.json.gz\n",
      "Predicting answers for: https://nlp-distribution.s3.ca-central-1.amazonaws.com/augmentation/test/amazon_reviews_v1_0_bert_RB_RBR_RBZ_VB_VBD_VBGVBN_VBP.json.gz\n",
      "Fetching: https://nlp-distribution.s3.ca-central-1.amazonaws.com/augmentation/test/amazon_reviews_v1_0_bert_RB_RBR_RBZ_VB_VBD_VBGVBN_VBP.json.gz\n"
     ]
    },
    {
     "name": "stderr",
     "output_type": "stream",
     "text": [
      "100%|██████████| 413/413 [01:33<00:00,  4.43it/s]\n"
     ]
    },
    {
     "name": "stdout",
     "output_type": "stream",
     "text": [
      "Writting file: /data/distribution_shift/augmented_qa/predictions/amazon_reviews_v1_0_bert_RB_RBR_RBZ_VB_VBD_VBGVBN_VBP_distilbert-base-uncased-distilled-squad.json.gz\n",
      "Writting: /data/distribution_shift/augmented_qa/predictions/amazon_reviews_v1_0_bert_RB_RBR_RBZ_VB_VBD_VBGVBN_VBP_distilbert-base-uncased-distilled-squad.json.gz\n",
      "Predicting answers for: https://nlp-distribution.s3.ca-central-1.amazonaws.com/augmentation/test/amazon_reviews_v1_0_bert_Percentile_0.1.json.gz\n",
      "Fetching: https://nlp-distribution.s3.ca-central-1.amazonaws.com/augmentation/test/amazon_reviews_v1_0_bert_Percentile_0.1.json.gz\n"
     ]
    },
    {
     "name": "stderr",
     "output_type": "stream",
     "text": [
      "100%|██████████| 413/413 [01:31<00:00,  4.54it/s]\n"
     ]
    },
    {
     "name": "stdout",
     "output_type": "stream",
     "text": [
      "Writting file: /data/distribution_shift/augmented_qa/predictions/amazon_reviews_v1_0_bert_Percentile_0.1_distilbert-base-uncased-distilled-squad.json.gz\n",
      "Writting: /data/distribution_shift/augmented_qa/predictions/amazon_reviews_v1_0_bert_Percentile_0.1_distilbert-base-uncased-distilled-squad.json.gz\n",
      "Predicting answers for: https://nlp-distribution.s3.ca-central-1.amazonaws.com/augmentation/test/amazon_reviews_v1_0_bert_Percentile_0.2.json.gz\n",
      "Fetching: https://nlp-distribution.s3.ca-central-1.amazonaws.com/augmentation/test/amazon_reviews_v1_0_bert_Percentile_0.2.json.gz\n"
     ]
    },
    {
     "name": "stderr",
     "output_type": "stream",
     "text": [
      "100%|██████████| 413/413 [01:30<00:00,  4.56it/s]\n"
     ]
    },
    {
     "name": "stdout",
     "output_type": "stream",
     "text": [
      "Writting file: /data/distribution_shift/augmented_qa/predictions/amazon_reviews_v1_0_bert_Percentile_0.2_distilbert-base-uncased-distilled-squad.json.gz\n",
      "Writting: /data/distribution_shift/augmented_qa/predictions/amazon_reviews_v1_0_bert_Percentile_0.2_distilbert-base-uncased-distilled-squad.json.gz\n",
      "Predicting answers for: https://nlp-distribution.s3.ca-central-1.amazonaws.com/augmentation/test/amazon_reviews_v1_0_bert_Percentile_0.3.json.gz\n",
      "Fetching: https://nlp-distribution.s3.ca-central-1.amazonaws.com/augmentation/test/amazon_reviews_v1_0_bert_Percentile_0.3.json.gz\n"
     ]
    },
    {
     "name": "stderr",
     "output_type": "stream",
     "text": [
      "100%|██████████| 413/413 [01:30<00:00,  4.57it/s]\n"
     ]
    },
    {
     "name": "stdout",
     "output_type": "stream",
     "text": [
      "Writting file: /data/distribution_shift/augmented_qa/predictions/amazon_reviews_v1_0_bert_Percentile_0.3_distilbert-base-uncased-distilled-squad.json.gz\n",
      "Writting: /data/distribution_shift/augmented_qa/predictions/amazon_reviews_v1_0_bert_Percentile_0.3_distilbert-base-uncased-distilled-squad.json.gz\n",
      "Predicting answers for: https://nlp-distribution.s3.ca-central-1.amazonaws.com/augmentation/test/amazon_reviews_v1_0_bert_Percentile_0.5.json.gz\n",
      "Fetching: https://nlp-distribution.s3.ca-central-1.amazonaws.com/augmentation/test/amazon_reviews_v1_0_bert_Percentile_0.5.json.gz\n"
     ]
    },
    {
     "name": "stderr",
     "output_type": "stream",
     "text": [
      "100%|██████████| 413/413 [01:30<00:00,  4.59it/s]\n"
     ]
    },
    {
     "name": "stdout",
     "output_type": "stream",
     "text": [
      "Writting file: /data/distribution_shift/augmented_qa/predictions/amazon_reviews_v1_0_bert_Percentile_0.5_distilbert-base-uncased-distilled-squad.json.gz\n",
      "Writting: /data/distribution_shift/augmented_qa/predictions/amazon_reviews_v1_0_bert_Percentile_0.5_distilbert-base-uncased-distilled-squad.json.gz\n",
      "Predicting answers for: https://nlp-distribution.s3.ca-central-1.amazonaws.com/augmentation/test/reddit_v1_0_bert_JJ_VB.json.gz\n",
      "Fetching: https://nlp-distribution.s3.ca-central-1.amazonaws.com/augmentation/test/reddit_v1_0_bert_JJ_VB.json.gz\n"
     ]
    },
    {
     "name": "stderr",
     "output_type": "stream",
     "text": [
      "100%|██████████| 1/1 [01:28<00:00, 88.14s/it]\n"
     ]
    },
    {
     "name": "stdout",
     "output_type": "stream",
     "text": [
      "Writting file: /data/distribution_shift/augmented_qa/predictions/reddit_v1_0_bert_JJ_VB_distilbert-base-uncased-distilled-squad.json.gz\n",
      "Writting: /data/distribution_shift/augmented_qa/predictions/reddit_v1_0_bert_JJ_VB_distilbert-base-uncased-distilled-squad.json.gz\n",
      "Predicting answers for: https://nlp-distribution.s3.ca-central-1.amazonaws.com/augmentation/test/reddit_v1_0_bert_JJ.json.gz\n",
      "Fetching: https://nlp-distribution.s3.ca-central-1.amazonaws.com/augmentation/test/reddit_v1_0_bert_JJ.json.gz\n"
     ]
    },
    {
     "name": "stderr",
     "output_type": "stream",
     "text": [
      "100%|██████████| 1/1 [01:28<00:00, 88.22s/it]\n"
     ]
    },
    {
     "name": "stdout",
     "output_type": "stream",
     "text": [
      "Writting file: /data/distribution_shift/augmented_qa/predictions/reddit_v1_0_bert_JJ_distilbert-base-uncased-distilled-squad.json.gz\n",
      "Writting: /data/distribution_shift/augmented_qa/predictions/reddit_v1_0_bert_JJ_distilbert-base-uncased-distilled-squad.json.gz\n",
      "Predicting answers for: https://nlp-distribution.s3.ca-central-1.amazonaws.com/augmentation/test/reddit_v1_0_bert_VB_RB.json.gz\n",
      "Fetching: https://nlp-distribution.s3.ca-central-1.amazonaws.com/augmentation/test/reddit_v1_0_bert_VB_RB.json.gz\n"
     ]
    },
    {
     "name": "stderr",
     "output_type": "stream",
     "text": [
      "100%|██████████| 1/1 [01:30<00:00, 90.94s/it]\n"
     ]
    },
    {
     "name": "stdout",
     "output_type": "stream",
     "text": [
      "Writting file: /data/distribution_shift/augmented_qa/predictions/reddit_v1_0_bert_VB_RB_distilbert-base-uncased-distilled-squad.json.gz\n",
      "Writting: /data/distribution_shift/augmented_qa/predictions/reddit_v1_0_bert_VB_RB_distilbert-base-uncased-distilled-squad.json.gz\n",
      "Predicting answers for: https://nlp-distribution.s3.ca-central-1.amazonaws.com/augmentation/test/reddit_v1_0_bert_VB.json.gz\n",
      "Fetching: https://nlp-distribution.s3.ca-central-1.amazonaws.com/augmentation/test/reddit_v1_0_bert_VB.json.gz\n"
     ]
    },
    {
     "name": "stderr",
     "output_type": "stream",
     "text": [
      "100%|██████████| 1/1 [01:30<00:00, 90.86s/it]\n"
     ]
    },
    {
     "name": "stdout",
     "output_type": "stream",
     "text": [
      "Writting file: /data/distribution_shift/augmented_qa/predictions/reddit_v1_0_bert_VB_distilbert-base-uncased-distilled-squad.json.gz\n",
      "Writting: /data/distribution_shift/augmented_qa/predictions/reddit_v1_0_bert_VB_distilbert-base-uncased-distilled-squad.json.gz\n",
      "Predicting answers for: https://nlp-distribution.s3.ca-central-1.amazonaws.com/augmentation/test/reddit_v1_0_bert_RB.json.gz\n",
      "Fetching: https://nlp-distribution.s3.ca-central-1.amazonaws.com/augmentation/test/reddit_v1_0_bert_RB.json.gz\n"
     ]
    },
    {
     "name": "stderr",
     "output_type": "stream",
     "text": [
      "100%|██████████| 1/1 [01:30<00:00, 90.26s/it]\n"
     ]
    },
    {
     "name": "stdout",
     "output_type": "stream",
     "text": [
      "Writting file: /data/distribution_shift/augmented_qa/predictions/reddit_v1_0_bert_RB_distilbert-base-uncased-distilled-squad.json.gz\n",
      "Writting: /data/distribution_shift/augmented_qa/predictions/reddit_v1_0_bert_RB_distilbert-base-uncased-distilled-squad.json.gz\n",
      "Predicting answers for: https://nlp-distribution.s3.ca-central-1.amazonaws.com/augmentation/test/reddit_v1_0_bert_RB_RBR_RBZ.json.gz\n",
      "Fetching: https://nlp-distribution.s3.ca-central-1.amazonaws.com/augmentation/test/reddit_v1_0_bert_RB_RBR_RBZ.json.gz\n"
     ]
    },
    {
     "name": "stderr",
     "output_type": "stream",
     "text": [
      "100%|██████████| 1/1 [01:30<00:00, 90.39s/it]\n"
     ]
    },
    {
     "name": "stdout",
     "output_type": "stream",
     "text": [
      "Writting file: /data/distribution_shift/augmented_qa/predictions/reddit_v1_0_bert_RB_RBR_RBZ_distilbert-base-uncased-distilled-squad.json.gz\n",
      "Writting: /data/distribution_shift/augmented_qa/predictions/reddit_v1_0_bert_RB_RBR_RBZ_distilbert-base-uncased-distilled-squad.json.gz\n",
      "Predicting answers for: https://nlp-distribution.s3.ca-central-1.amazonaws.com/augmentation/test/reddit_v1_0_bert_VB_VBD_VBG_VBN_VBP.json.gz\n",
      "Fetching: https://nlp-distribution.s3.ca-central-1.amazonaws.com/augmentation/test/reddit_v1_0_bert_VB_VBD_VBG_VBN_VBP.json.gz\n"
     ]
    },
    {
     "name": "stderr",
     "output_type": "stream",
     "text": [
      "100%|██████████| 1/1 [01:29<00:00, 89.93s/it]\n"
     ]
    },
    {
     "name": "stdout",
     "output_type": "stream",
     "text": [
      "Writting file: /data/distribution_shift/augmented_qa/predictions/reddit_v1_0_bert_VB_VBD_VBG_VBN_VBP_distilbert-base-uncased-distilled-squad.json.gz\n",
      "Writting: /data/distribution_shift/augmented_qa/predictions/reddit_v1_0_bert_VB_VBD_VBG_VBN_VBP_distilbert-base-uncased-distilled-squad.json.gz\n",
      "Predicting answers for: https://nlp-distribution.s3.ca-central-1.amazonaws.com/augmentation/test/reddit_v1_0_bert_RB_RBR_RBZ_VB_VBD_VBGVBN_VBP.json.gz\n",
      "Fetching: https://nlp-distribution.s3.ca-central-1.amazonaws.com/augmentation/test/reddit_v1_0_bert_RB_RBR_RBZ_VB_VBD_VBGVBN_VBP.json.gz\n"
     ]
    },
    {
     "name": "stderr",
     "output_type": "stream",
     "text": [
      "100%|██████████| 1/1 [01:30<00:00, 90.65s/it]\n"
     ]
    },
    {
     "name": "stdout",
     "output_type": "stream",
     "text": [
      "Writting file: /data/distribution_shift/augmented_qa/predictions/reddit_v1_0_bert_RB_RBR_RBZ_VB_VBD_VBGVBN_VBP_distilbert-base-uncased-distilled-squad.json.gz\n",
      "Writting: /data/distribution_shift/augmented_qa/predictions/reddit_v1_0_bert_RB_RBR_RBZ_VB_VBD_VBGVBN_VBP_distilbert-base-uncased-distilled-squad.json.gz\n",
      "Predicting answers for: https://nlp-distribution.s3.ca-central-1.amazonaws.com/augmentation/test/reddit_v1_0_bert_Percentile_0.1.json.gz\n",
      "Fetching: https://nlp-distribution.s3.ca-central-1.amazonaws.com/augmentation/test/reddit_v1_0_bert_Percentile_0.1.json.gz\n"
     ]
    },
    {
     "name": "stderr",
     "output_type": "stream",
     "text": [
      "100%|██████████| 1/1 [01:29<00:00, 89.47s/it]\n"
     ]
    },
    {
     "name": "stdout",
     "output_type": "stream",
     "text": [
      "Writting file: /data/distribution_shift/augmented_qa/predictions/reddit_v1_0_bert_Percentile_0.1_distilbert-base-uncased-distilled-squad.json.gz\n",
      "Writting: /data/distribution_shift/augmented_qa/predictions/reddit_v1_0_bert_Percentile_0.1_distilbert-base-uncased-distilled-squad.json.gz\n",
      "Predicting answers for: https://nlp-distribution.s3.ca-central-1.amazonaws.com/augmentation/test/reddit_v1_0_bert_Percentile_0.2.json.gz\n",
      "Fetching: https://nlp-distribution.s3.ca-central-1.amazonaws.com/augmentation/test/reddit_v1_0_bert_Percentile_0.2.json.gz\n"
     ]
    },
    {
     "name": "stderr",
     "output_type": "stream",
     "text": [
      "100%|██████████| 1/1 [01:29<00:00, 89.24s/it]\n"
     ]
    },
    {
     "name": "stdout",
     "output_type": "stream",
     "text": [
      "Writting file: /data/distribution_shift/augmented_qa/predictions/reddit_v1_0_bert_Percentile_0.2_distilbert-base-uncased-distilled-squad.json.gz\n",
      "Writting: /data/distribution_shift/augmented_qa/predictions/reddit_v1_0_bert_Percentile_0.2_distilbert-base-uncased-distilled-squad.json.gz\n",
      "Predicting answers for: https://nlp-distribution.s3.ca-central-1.amazonaws.com/augmentation/test/reddit_v1_0_bert_Percentile_0.3.json.gz\n",
      "Fetching: https://nlp-distribution.s3.ca-central-1.amazonaws.com/augmentation/test/reddit_v1_0_bert_Percentile_0.3.json.gz\n"
     ]
    },
    {
     "name": "stderr",
     "output_type": "stream",
     "text": [
      "100%|██████████| 1/1 [01:28<00:00, 88.09s/it]\n"
     ]
    },
    {
     "name": "stdout",
     "output_type": "stream",
     "text": [
      "Writting file: /data/distribution_shift/augmented_qa/predictions/reddit_v1_0_bert_Percentile_0.3_distilbert-base-uncased-distilled-squad.json.gz\n",
      "Writting: /data/distribution_shift/augmented_qa/predictions/reddit_v1_0_bert_Percentile_0.3_distilbert-base-uncased-distilled-squad.json.gz\n",
      "Predicting answers for: https://nlp-distribution.s3.ca-central-1.amazonaws.com/augmentation/test/reddit_v1_0_bert_Percentile_0.5.json.gz\n",
      "Fetching: https://nlp-distribution.s3.ca-central-1.amazonaws.com/augmentation/test/reddit_v1_0_bert_Percentile_0.5.json.gz\n"
     ]
    },
    {
     "name": "stderr",
     "output_type": "stream",
     "text": [
      "100%|██████████| 1/1 [01:28<00:00, 88.20s/it]\n"
     ]
    },
    {
     "name": "stdout",
     "output_type": "stream",
     "text": [
      "Writting file: /data/distribution_shift/augmented_qa/predictions/reddit_v1_0_bert_Percentile_0.5_distilbert-base-uncased-distilled-squad.json.gz\n",
      "Writting: /data/distribution_shift/augmented_qa/predictions/reddit_v1_0_bert_Percentile_0.5_distilbert-base-uncased-distilled-squad.json.gz\n",
      "Predicting answers for: https://nlp-distribution.s3.ca-central-1.amazonaws.com/augmentation/test/new_wiki_v1.0_bert_JJ_VB.json.gz\n",
      "Fetching: https://nlp-distribution.s3.ca-central-1.amazonaws.com/augmentation/test/new_wiki_v1.0_bert_JJ_VB.json.gz\n"
     ]
    },
    {
     "name": "stderr",
     "output_type": "stream",
     "text": [
      "100%|██████████| 48/48 [01:10<00:00,  1.46s/it]\n"
     ]
    },
    {
     "name": "stdout",
     "output_type": "stream",
     "text": [
      "Writting file: /data/distribution_shift/augmented_qa/predictions/new_wiki_v1.0_bert_JJ_VB_distilbert-base-uncased-distilled-squad.json.gz\n",
      "Writting: /data/distribution_shift/augmented_qa/predictions/new_wiki_v1.0_bert_JJ_VB_distilbert-base-uncased-distilled-squad.json.gz\n",
      "Predicting answers for: https://nlp-distribution.s3.ca-central-1.amazonaws.com/augmentation/test/new_wiki_v1.0_bert_JJ.json.gz\n",
      "Fetching: https://nlp-distribution.s3.ca-central-1.amazonaws.com/augmentation/test/new_wiki_v1.0_bert_JJ.json.gz\n"
     ]
    },
    {
     "name": "stderr",
     "output_type": "stream",
     "text": [
      "100%|██████████| 48/48 [01:10<00:00,  1.46s/it]\n"
     ]
    },
    {
     "name": "stdout",
     "output_type": "stream",
     "text": [
      "Writting file: /data/distribution_shift/augmented_qa/predictions/new_wiki_v1.0_bert_JJ_distilbert-base-uncased-distilled-squad.json.gz\n",
      "Writting: /data/distribution_shift/augmented_qa/predictions/new_wiki_v1.0_bert_JJ_distilbert-base-uncased-distilled-squad.json.gz\n",
      "Predicting answers for: https://nlp-distribution.s3.ca-central-1.amazonaws.com/augmentation/test/new_wiki_v1.0_bert_VB_RB.json.gz\n",
      "Fetching: https://nlp-distribution.s3.ca-central-1.amazonaws.com/augmentation/test/new_wiki_v1.0_bert_VB_RB.json.gz\n"
     ]
    },
    {
     "name": "stderr",
     "output_type": "stream",
     "text": [
      "100%|██████████| 48/48 [01:13<00:00,  1.52s/it]\n"
     ]
    },
    {
     "name": "stdout",
     "output_type": "stream",
     "text": [
      "Writting file: /data/distribution_shift/augmented_qa/predictions/new_wiki_v1.0_bert_VB_RB_distilbert-base-uncased-distilled-squad.json.gz\n",
      "Writting: /data/distribution_shift/augmented_qa/predictions/new_wiki_v1.0_bert_VB_RB_distilbert-base-uncased-distilled-squad.json.gz\n",
      "Predicting answers for: https://nlp-distribution.s3.ca-central-1.amazonaws.com/augmentation/test/new_wiki_v1.0_bert_VB.json.gz\n",
      "Fetching: https://nlp-distribution.s3.ca-central-1.amazonaws.com/augmentation/test/new_wiki_v1.0_bert_VB.json.gz\n"
     ]
    },
    {
     "name": "stderr",
     "output_type": "stream",
     "text": [
      "100%|██████████| 48/48 [01:13<00:00,  1.53s/it]\n"
     ]
    },
    {
     "name": "stdout",
     "output_type": "stream",
     "text": [
      "Writting file: /data/distribution_shift/augmented_qa/predictions/new_wiki_v1.0_bert_VB_distilbert-base-uncased-distilled-squad.json.gz\n",
      "Writting: /data/distribution_shift/augmented_qa/predictions/new_wiki_v1.0_bert_VB_distilbert-base-uncased-distilled-squad.json.gz\n",
      "Predicting answers for: https://nlp-distribution.s3.ca-central-1.amazonaws.com/augmentation/test/new_wiki_v1.0_bert_RB.json.gz\n",
      "Fetching: https://nlp-distribution.s3.ca-central-1.amazonaws.com/augmentation/test/new_wiki_v1.0_bert_RB.json.gz\n"
     ]
    },
    {
     "name": "stderr",
     "output_type": "stream",
     "text": [
      "100%|██████████| 48/48 [01:15<00:00,  1.58s/it]\n"
     ]
    },
    {
     "name": "stdout",
     "output_type": "stream",
     "text": [
      "Writting file: /data/distribution_shift/augmented_qa/predictions/new_wiki_v1.0_bert_RB_distilbert-base-uncased-distilled-squad.json.gz\n",
      "Writting: /data/distribution_shift/augmented_qa/predictions/new_wiki_v1.0_bert_RB_distilbert-base-uncased-distilled-squad.json.gz\n",
      "Predicting answers for: https://nlp-distribution.s3.ca-central-1.amazonaws.com/augmentation/test/new_wiki_v1.0_bert_RB_RBR_RBZ.json.gz\n",
      "Fetching: https://nlp-distribution.s3.ca-central-1.amazonaws.com/augmentation/test/new_wiki_v1.0_bert_RB_RBR_RBZ.json.gz\n"
     ]
    },
    {
     "name": "stderr",
     "output_type": "stream",
     "text": [
      "100%|██████████| 48/48 [01:14<00:00,  1.55s/it]\n"
     ]
    },
    {
     "name": "stdout",
     "output_type": "stream",
     "text": [
      "Writting file: /data/distribution_shift/augmented_qa/predictions/new_wiki_v1.0_bert_RB_RBR_RBZ_distilbert-base-uncased-distilled-squad.json.gz\n",
      "Writting: /data/distribution_shift/augmented_qa/predictions/new_wiki_v1.0_bert_RB_RBR_RBZ_distilbert-base-uncased-distilled-squad.json.gz\n",
      "Predicting answers for: https://nlp-distribution.s3.ca-central-1.amazonaws.com/augmentation/test/new_wiki_v1.0_bert_VB_VBD_VBG_VBN_VBP.json.gz\n",
      "Fetching: https://nlp-distribution.s3.ca-central-1.amazonaws.com/augmentation/test/new_wiki_v1.0_bert_VB_VBD_VBG_VBN_VBP.json.gz\n"
     ]
    },
    {
     "name": "stderr",
     "output_type": "stream",
     "text": [
      "100%|██████████| 48/48 [01:13<00:00,  1.54s/it]\n"
     ]
    },
    {
     "name": "stdout",
     "output_type": "stream",
     "text": [
      "Writting file: /data/distribution_shift/augmented_qa/predictions/new_wiki_v1.0_bert_VB_VBD_VBG_VBN_VBP_distilbert-base-uncased-distilled-squad.json.gz\n",
      "Writting: /data/distribution_shift/augmented_qa/predictions/new_wiki_v1.0_bert_VB_VBD_VBG_VBN_VBP_distilbert-base-uncased-distilled-squad.json.gz\n",
      "Predicting answers for: https://nlp-distribution.s3.ca-central-1.amazonaws.com/augmentation/test/new_wiki_v1.0_bert_RB_RBR_RBZ_VB_VBD_VBGVBN_VBP.json.gz\n",
      "Fetching: https://nlp-distribution.s3.ca-central-1.amazonaws.com/augmentation/test/new_wiki_v1.0_bert_RB_RBR_RBZ_VB_VBD_VBGVBN_VBP.json.gz\n"
     ]
    },
    {
     "name": "stderr",
     "output_type": "stream",
     "text": [
      "100%|██████████| 48/48 [01:13<00:00,  1.52s/it]\n"
     ]
    },
    {
     "name": "stdout",
     "output_type": "stream",
     "text": [
      "Writting file: /data/distribution_shift/augmented_qa/predictions/new_wiki_v1.0_bert_RB_RBR_RBZ_VB_VBD_VBGVBN_VBP_distilbert-base-uncased-distilled-squad.json.gz\n",
      "Writting: /data/distribution_shift/augmented_qa/predictions/new_wiki_v1.0_bert_RB_RBR_RBZ_VB_VBD_VBGVBN_VBP_distilbert-base-uncased-distilled-squad.json.gz\n",
      "Predicting answers for: https://nlp-distribution.s3.ca-central-1.amazonaws.com/augmentation/test/new_wiki_v1.0_bert_Percentile_0.1.json.gz\n",
      "Fetching: https://nlp-distribution.s3.ca-central-1.amazonaws.com/augmentation/test/new_wiki_v1.0_bert_Percentile_0.1.json.gz\n"
     ]
    },
    {
     "name": "stderr",
     "output_type": "stream",
     "text": [
      "100%|██████████| 48/48 [01:10<00:00,  1.46s/it]\n"
     ]
    },
    {
     "name": "stdout",
     "output_type": "stream",
     "text": [
      "Writting file: /data/distribution_shift/augmented_qa/predictions/new_wiki_v1.0_bert_Percentile_0.1_distilbert-base-uncased-distilled-squad.json.gz\n",
      "Writting: /data/distribution_shift/augmented_qa/predictions/new_wiki_v1.0_bert_Percentile_0.1_distilbert-base-uncased-distilled-squad.json.gz\n",
      "Predicting answers for: https://nlp-distribution.s3.ca-central-1.amazonaws.com/augmentation/test/new_wiki_v1.0_bert_Percentile_0.2.json.gz\n",
      "Fetching: https://nlp-distribution.s3.ca-central-1.amazonaws.com/augmentation/test/new_wiki_v1.0_bert_Percentile_0.2.json.gz\n"
     ]
    },
    {
     "name": "stderr",
     "output_type": "stream",
     "text": [
      "100%|██████████| 48/48 [01:10<00:00,  1.46s/it]\n"
     ]
    },
    {
     "name": "stdout",
     "output_type": "stream",
     "text": [
      "Writting file: /data/distribution_shift/augmented_qa/predictions/new_wiki_v1.0_bert_Percentile_0.2_distilbert-base-uncased-distilled-squad.json.gz\n",
      "Writting: /data/distribution_shift/augmented_qa/predictions/new_wiki_v1.0_bert_Percentile_0.2_distilbert-base-uncased-distilled-squad.json.gz\n",
      "Predicting answers for: https://nlp-distribution.s3.ca-central-1.amazonaws.com/augmentation/test/new_wiki_v1.0_bert_Percentile_0.3.json.gz\n",
      "Fetching: https://nlp-distribution.s3.ca-central-1.amazonaws.com/augmentation/test/new_wiki_v1.0_bert_Percentile_0.3.json.gz\n"
     ]
    },
    {
     "name": "stderr",
     "output_type": "stream",
     "text": [
      "100%|██████████| 48/48 [01:10<00:00,  1.46s/it]\n"
     ]
    },
    {
     "name": "stdout",
     "output_type": "stream",
     "text": [
      "Writting file: /data/distribution_shift/augmented_qa/predictions/new_wiki_v1.0_bert_Percentile_0.3_distilbert-base-uncased-distilled-squad.json.gz\n",
      "Writting: /data/distribution_shift/augmented_qa/predictions/new_wiki_v1.0_bert_Percentile_0.3_distilbert-base-uncased-distilled-squad.json.gz\n",
      "Predicting answers for: https://nlp-distribution.s3.ca-central-1.amazonaws.com/augmentation/test/new_wiki_v1.0_bert_Percentile_0.5.json.gz\n",
      "Fetching: https://nlp-distribution.s3.ca-central-1.amazonaws.com/augmentation/test/new_wiki_v1.0_bert_Percentile_0.5.json.gz\n"
     ]
    },
    {
     "name": "stderr",
     "output_type": "stream",
     "text": [
      "100%|██████████| 48/48 [01:09<00:00,  1.44s/it]\n"
     ]
    },
    {
     "name": "stdout",
     "output_type": "stream",
     "text": [
      "Writting file: /data/distribution_shift/augmented_qa/predictions/new_wiki_v1.0_bert_Percentile_0.5_distilbert-base-uncased-distilled-squad.json.gz\n",
      "Writting: /data/distribution_shift/augmented_qa/predictions/new_wiki_v1.0_bert_Percentile_0.5_distilbert-base-uncased-distilled-squad.json.gz\n",
      "Predicting answers for: https://nlp-distribution.s3.ca-central-1.amazonaws.com/augmentation/test/nyt_v1.0_bert_JJ_VB.json.gz\n",
      "Fetching: https://nlp-distribution.s3.ca-central-1.amazonaws.com/augmentation/test/nyt_v1.0_bert_JJ_VB.json.gz\n"
     ]
    },
    {
     "name": "stderr",
     "output_type": "stream",
     "text": [
      "100%|██████████| 797/797 [01:25<00:00,  9.33it/s]\n"
     ]
    },
    {
     "name": "stdout",
     "output_type": "stream",
     "text": [
      "Writting file: /data/distribution_shift/augmented_qa/predictions/nyt_v1.0_bert_JJ_VB_distilbert-base-uncased-distilled-squad.json.gz\n",
      "Writting: /data/distribution_shift/augmented_qa/predictions/nyt_v1.0_bert_JJ_VB_distilbert-base-uncased-distilled-squad.json.gz\n",
      "Predicting answers for: https://nlp-distribution.s3.ca-central-1.amazonaws.com/augmentation/test/nyt_v1.0_bert_JJ.json.gz\n",
      "Fetching: https://nlp-distribution.s3.ca-central-1.amazonaws.com/augmentation/test/nyt_v1.0_bert_JJ.json.gz\n"
     ]
    },
    {
     "name": "stderr",
     "output_type": "stream",
     "text": [
      "100%|██████████| 797/797 [01:24<00:00,  9.48it/s]\n"
     ]
    },
    {
     "name": "stdout",
     "output_type": "stream",
     "text": [
      "Writting file: /data/distribution_shift/augmented_qa/predictions/nyt_v1.0_bert_JJ_distilbert-base-uncased-distilled-squad.json.gz\n",
      "Writting: /data/distribution_shift/augmented_qa/predictions/nyt_v1.0_bert_JJ_distilbert-base-uncased-distilled-squad.json.gz\n",
      "Predicting answers for: https://nlp-distribution.s3.ca-central-1.amazonaws.com/augmentation/test/nyt_v1.0_bert_VB_RB.json.gz\n",
      "Fetching: https://nlp-distribution.s3.ca-central-1.amazonaws.com/augmentation/test/nyt_v1.0_bert_VB_RB.json.gz\n"
     ]
    },
    {
     "name": "stderr",
     "output_type": "stream",
     "text": [
      "100%|██████████| 797/797 [01:29<00:00,  8.90it/s]\n"
     ]
    },
    {
     "name": "stdout",
     "output_type": "stream",
     "text": [
      "Writting file: /data/distribution_shift/augmented_qa/predictions/nyt_v1.0_bert_VB_RB_distilbert-base-uncased-distilled-squad.json.gz\n",
      "Writting: /data/distribution_shift/augmented_qa/predictions/nyt_v1.0_bert_VB_RB_distilbert-base-uncased-distilled-squad.json.gz\n",
      "Predicting answers for: https://nlp-distribution.s3.ca-central-1.amazonaws.com/augmentation/test/nyt_v1.0_bert_VB.json.gz\n",
      "Fetching: https://nlp-distribution.s3.ca-central-1.amazonaws.com/augmentation/test/nyt_v1.0_bert_VB.json.gz\n"
     ]
    },
    {
     "name": "stderr",
     "output_type": "stream",
     "text": [
      "100%|██████████| 797/797 [01:29<00:00,  8.92it/s]\n"
     ]
    },
    {
     "name": "stdout",
     "output_type": "stream",
     "text": [
      "Writting file: /data/distribution_shift/augmented_qa/predictions/nyt_v1.0_bert_VB_distilbert-base-uncased-distilled-squad.json.gz\n",
      "Writting: /data/distribution_shift/augmented_qa/predictions/nyt_v1.0_bert_VB_distilbert-base-uncased-distilled-squad.json.gz\n",
      "Predicting answers for: https://nlp-distribution.s3.ca-central-1.amazonaws.com/augmentation/test/nyt_v1.0_bert_RB.json.gz\n",
      "Fetching: https://nlp-distribution.s3.ca-central-1.amazonaws.com/augmentation/test/nyt_v1.0_bert_RB.json.gz\n"
     ]
    },
    {
     "name": "stderr",
     "output_type": "stream",
     "text": [
      "100%|██████████| 797/797 [01:28<00:00,  8.98it/s]\n"
     ]
    },
    {
     "name": "stdout",
     "output_type": "stream",
     "text": [
      "Writting file: /data/distribution_shift/augmented_qa/predictions/nyt_v1.0_bert_RB_distilbert-base-uncased-distilled-squad.json.gz\n",
      "Writting: /data/distribution_shift/augmented_qa/predictions/nyt_v1.0_bert_RB_distilbert-base-uncased-distilled-squad.json.gz\n",
      "Predicting answers for: https://nlp-distribution.s3.ca-central-1.amazonaws.com/augmentation/test/nyt_v1.0_bert_RB_RBR_RBZ.json.gz\n",
      "Fetching: https://nlp-distribution.s3.ca-central-1.amazonaws.com/augmentation/test/nyt_v1.0_bert_RB_RBR_RBZ.json.gz\n"
     ]
    },
    {
     "name": "stderr",
     "output_type": "stream",
     "text": [
      "100%|██████████| 797/797 [01:28<00:00,  8.96it/s]\n"
     ]
    },
    {
     "name": "stdout",
     "output_type": "stream",
     "text": [
      "Writting file: /data/distribution_shift/augmented_qa/predictions/nyt_v1.0_bert_RB_RBR_RBZ_distilbert-base-uncased-distilled-squad.json.gz\n",
      "Writting: /data/distribution_shift/augmented_qa/predictions/nyt_v1.0_bert_RB_RBR_RBZ_distilbert-base-uncased-distilled-squad.json.gz\n",
      "Predicting answers for: https://nlp-distribution.s3.ca-central-1.amazonaws.com/augmentation/test/nyt_v1.0_bert_VB_VBD_VBG_VBN_VBP.json.gz\n",
      "Fetching: https://nlp-distribution.s3.ca-central-1.amazonaws.com/augmentation/test/nyt_v1.0_bert_VB_VBD_VBG_VBN_VBP.json.gz\n"
     ]
    },
    {
     "name": "stderr",
     "output_type": "stream",
     "text": [
      "100%|██████████| 797/797 [01:30<00:00,  8.82it/s]\n"
     ]
    },
    {
     "name": "stdout",
     "output_type": "stream",
     "text": [
      "Writting file: /data/distribution_shift/augmented_qa/predictions/nyt_v1.0_bert_VB_VBD_VBG_VBN_VBP_distilbert-base-uncased-distilled-squad.json.gz\n",
      "Writting: /data/distribution_shift/augmented_qa/predictions/nyt_v1.0_bert_VB_VBD_VBG_VBN_VBP_distilbert-base-uncased-distilled-squad.json.gz\n",
      "Predicting answers for: https://nlp-distribution.s3.ca-central-1.amazonaws.com/augmentation/test/nyt_v1.0_bert_RB_RBR_RBZ_VB_VBD_VBGVBN_VBP.json.gz\n",
      "Fetching: https://nlp-distribution.s3.ca-central-1.amazonaws.com/augmentation/test/nyt_v1.0_bert_RB_RBR_RBZ_VB_VBD_VBGVBN_VBP.json.gz\n"
     ]
    },
    {
     "name": "stderr",
     "output_type": "stream",
     "text": [
      "100%|██████████| 797/797 [01:28<00:00,  9.04it/s]\n"
     ]
    },
    {
     "name": "stdout",
     "output_type": "stream",
     "text": [
      "Writting file: /data/distribution_shift/augmented_qa/predictions/nyt_v1.0_bert_RB_RBR_RBZ_VB_VBD_VBGVBN_VBP_distilbert-base-uncased-distilled-squad.json.gz\n",
      "Writting: /data/distribution_shift/augmented_qa/predictions/nyt_v1.0_bert_RB_RBR_RBZ_VB_VBD_VBGVBN_VBP_distilbert-base-uncased-distilled-squad.json.gz\n",
      "Predicting answers for: https://nlp-distribution.s3.ca-central-1.amazonaws.com/augmentation/test/nyt_v1.0_bert_Percentile_0.1.json.gz\n",
      "Fetching: https://nlp-distribution.s3.ca-central-1.amazonaws.com/augmentation/test/nyt_v1.0_bert_Percentile_0.1.json.gz\n"
     ]
    },
    {
     "name": "stderr",
     "output_type": "stream",
     "text": [
      "100%|██████████| 797/797 [01:25<00:00,  9.29it/s]\n"
     ]
    },
    {
     "name": "stdout",
     "output_type": "stream",
     "text": [
      "Writting file: /data/distribution_shift/augmented_qa/predictions/nyt_v1.0_bert_Percentile_0.1_distilbert-base-uncased-distilled-squad.json.gz\n",
      "Writting: /data/distribution_shift/augmented_qa/predictions/nyt_v1.0_bert_Percentile_0.1_distilbert-base-uncased-distilled-squad.json.gz\n",
      "Predicting answers for: https://nlp-distribution.s3.ca-central-1.amazonaws.com/augmentation/test/nyt_v1.0_bert_Percentile_0.2.json.gz\n",
      "Fetching: https://nlp-distribution.s3.ca-central-1.amazonaws.com/augmentation/test/nyt_v1.0_bert_Percentile_0.2.json.gz\n"
     ]
    },
    {
     "name": "stderr",
     "output_type": "stream",
     "text": [
      "100%|██████████| 797/797 [01:25<00:00,  9.29it/s]\n"
     ]
    },
    {
     "name": "stdout",
     "output_type": "stream",
     "text": [
      "Writting file: /data/distribution_shift/augmented_qa/predictions/nyt_v1.0_bert_Percentile_0.2_distilbert-base-uncased-distilled-squad.json.gz\n",
      "Writting: /data/distribution_shift/augmented_qa/predictions/nyt_v1.0_bert_Percentile_0.2_distilbert-base-uncased-distilled-squad.json.gz\n",
      "Predicting answers for: https://nlp-distribution.s3.ca-central-1.amazonaws.com/augmentation/test/nyt_v1.0_bert_Percentile_0.3.json.gz\n",
      "Fetching: https://nlp-distribution.s3.ca-central-1.amazonaws.com/augmentation/test/nyt_v1.0_bert_Percentile_0.3.json.gz\n"
     ]
    },
    {
     "name": "stderr",
     "output_type": "stream",
     "text": [
      "100%|██████████| 797/797 [01:24<00:00,  9.40it/s]\n"
     ]
    },
    {
     "name": "stdout",
     "output_type": "stream",
     "text": [
      "Writting file: /data/distribution_shift/augmented_qa/predictions/nyt_v1.0_bert_Percentile_0.3_distilbert-base-uncased-distilled-squad.json.gz\n",
      "Writting: /data/distribution_shift/augmented_qa/predictions/nyt_v1.0_bert_Percentile_0.3_distilbert-base-uncased-distilled-squad.json.gz\n",
      "Predicting answers for: https://nlp-distribution.s3.ca-central-1.amazonaws.com/augmentation/test/nyt_v1.0_bert_Percentile_0.5.json.gz\n",
      "Fetching: https://nlp-distribution.s3.ca-central-1.amazonaws.com/augmentation/test/nyt_v1.0_bert_Percentile_0.5.json.gz\n"
     ]
    },
    {
     "name": "stderr",
     "output_type": "stream",
     "text": [
      "100%|██████████| 797/797 [01:24<00:00,  9.47it/s]\n"
     ]
    },
    {
     "name": "stdout",
     "output_type": "stream",
     "text": [
      "Writting file: /data/distribution_shift/augmented_qa/predictions/nyt_v1.0_bert_Percentile_0.5_distilbert-base-uncased-distilled-squad.json.gz\n",
      "Writting: /data/distribution_shift/augmented_qa/predictions/nyt_v1.0_bert_Percentile_0.5_distilbert-base-uncased-distilled-squad.json.gz\n",
      "Predicting answers for: https://nlp-distribution.s3.ca-central-1.amazonaws.com/augmentation/test/amazon_reviews_v1_0_roberta_JJ_VB.json.gz\n",
      "Fetching: https://nlp-distribution.s3.ca-central-1.amazonaws.com/augmentation/test/amazon_reviews_v1_0_roberta_JJ_VB.json.gz\n"
     ]
    },
    {
     "name": "stderr",
     "output_type": "stream",
     "text": [
      "100%|██████████| 413/413 [01:27<00:00,  4.72it/s]\n"
     ]
    },
    {
     "name": "stdout",
     "output_type": "stream",
     "text": [
      "Writting file: /data/distribution_shift/augmented_qa/predictions/amazon_reviews_v1_0_roberta_JJ_VB_distilbert-base-uncased-distilled-squad.json.gz\n",
      "Writting: /data/distribution_shift/augmented_qa/predictions/amazon_reviews_v1_0_roberta_JJ_VB_distilbert-base-uncased-distilled-squad.json.gz\n",
      "Predicting answers for: https://nlp-distribution.s3.ca-central-1.amazonaws.com/augmentation/test/amazon_reviews_v1_0_roberta_JJ.json.gz\n",
      "Fetching: https://nlp-distribution.s3.ca-central-1.amazonaws.com/augmentation/test/amazon_reviews_v1_0_roberta_JJ.json.gz\n"
     ]
    },
    {
     "name": "stderr",
     "output_type": "stream",
     "text": [
      "100%|██████████| 413/413 [01:27<00:00,  4.71it/s]\n"
     ]
    },
    {
     "name": "stdout",
     "output_type": "stream",
     "text": [
      "Writting file: /data/distribution_shift/augmented_qa/predictions/amazon_reviews_v1_0_roberta_JJ_distilbert-base-uncased-distilled-squad.json.gz\n",
      "Writting: /data/distribution_shift/augmented_qa/predictions/amazon_reviews_v1_0_roberta_JJ_distilbert-base-uncased-distilled-squad.json.gz\n",
      "Predicting answers for: https://nlp-distribution.s3.ca-central-1.amazonaws.com/augmentation/test/amazon_reviews_v1_0_roberta_VB_RB.json.gz\n",
      "Fetching: https://nlp-distribution.s3.ca-central-1.amazonaws.com/augmentation/test/amazon_reviews_v1_0_roberta_VB_RB.json.gz\n"
     ]
    },
    {
     "name": "stderr",
     "output_type": "stream",
     "text": [
      "100%|██████████| 413/413 [01:32<00:00,  4.47it/s]\n"
     ]
    },
    {
     "name": "stdout",
     "output_type": "stream",
     "text": [
      "Writting file: /data/distribution_shift/augmented_qa/predictions/amazon_reviews_v1_0_roberta_VB_RB_distilbert-base-uncased-distilled-squad.json.gz\n",
      "Writting: /data/distribution_shift/augmented_qa/predictions/amazon_reviews_v1_0_roberta_VB_RB_distilbert-base-uncased-distilled-squad.json.gz\n",
      "Predicting answers for: https://nlp-distribution.s3.ca-central-1.amazonaws.com/augmentation/test/amazon_reviews_v1_0_roberta_VB.json.gz\n",
      "Fetching: https://nlp-distribution.s3.ca-central-1.amazonaws.com/augmentation/test/amazon_reviews_v1_0_roberta_VB.json.gz\n"
     ]
    },
    {
     "name": "stderr",
     "output_type": "stream",
     "text": [
      "100%|██████████| 413/413 [01:30<00:00,  4.58it/s]\n"
     ]
    },
    {
     "name": "stdout",
     "output_type": "stream",
     "text": [
      "Writting file: /data/distribution_shift/augmented_qa/predictions/amazon_reviews_v1_0_roberta_VB_distilbert-base-uncased-distilled-squad.json.gz\n",
      "Writting: /data/distribution_shift/augmented_qa/predictions/amazon_reviews_v1_0_roberta_VB_distilbert-base-uncased-distilled-squad.json.gz\n",
      "Predicting answers for: https://nlp-distribution.s3.ca-central-1.amazonaws.com/augmentation/test/amazon_reviews_v1_0_roberta_RB.json.gz\n",
      "Fetching: https://nlp-distribution.s3.ca-central-1.amazonaws.com/augmentation/test/amazon_reviews_v1_0_roberta_RB.json.gz\n"
     ]
    },
    {
     "name": "stderr",
     "output_type": "stream",
     "text": [
      "100%|██████████| 413/413 [01:30<00:00,  4.54it/s]\n"
     ]
    },
    {
     "name": "stdout",
     "output_type": "stream",
     "text": [
      "Writting file: /data/distribution_shift/augmented_qa/predictions/amazon_reviews_v1_0_roberta_RB_distilbert-base-uncased-distilled-squad.json.gz\n",
      "Writting: /data/distribution_shift/augmented_qa/predictions/amazon_reviews_v1_0_roberta_RB_distilbert-base-uncased-distilled-squad.json.gz\n",
      "Predicting answers for: https://nlp-distribution.s3.ca-central-1.amazonaws.com/augmentation/test/amazon_reviews_v1_0_roberta_RB_RBR_RBZ.json.gz\n",
      "Fetching: https://nlp-distribution.s3.ca-central-1.amazonaws.com/augmentation/test/amazon_reviews_v1_0_roberta_RB_RBR_RBZ.json.gz\n"
     ]
    },
    {
     "name": "stderr",
     "output_type": "stream",
     "text": [
      "100%|██████████| 413/413 [01:33<00:00,  4.41it/s]\n"
     ]
    },
    {
     "name": "stdout",
     "output_type": "stream",
     "text": [
      "Writting file: /data/distribution_shift/augmented_qa/predictions/amazon_reviews_v1_0_roberta_RB_RBR_RBZ_distilbert-base-uncased-distilled-squad.json.gz\n",
      "Writting: /data/distribution_shift/augmented_qa/predictions/amazon_reviews_v1_0_roberta_RB_RBR_RBZ_distilbert-base-uncased-distilled-squad.json.gz\n",
      "Predicting answers for: https://nlp-distribution.s3.ca-central-1.amazonaws.com/augmentation/test/amazon_reviews_v1_0_roberta_VB_VBD_VBG_VBN_VBP.json.gz\n",
      "Fetching: https://nlp-distribution.s3.ca-central-1.amazonaws.com/augmentation/test/amazon_reviews_v1_0_roberta_VB_VBD_VBG_VBN_VBP.json.gz\n"
     ]
    },
    {
     "name": "stderr",
     "output_type": "stream",
     "text": [
      "100%|██████████| 413/413 [01:33<00:00,  4.41it/s]\n"
     ]
    },
    {
     "name": "stdout",
     "output_type": "stream",
     "text": [
      "Writting file: /data/distribution_shift/augmented_qa/predictions/amazon_reviews_v1_0_roberta_VB_VBD_VBG_VBN_VBP_distilbert-base-uncased-distilled-squad.json.gz\n",
      "Writting: /data/distribution_shift/augmented_qa/predictions/amazon_reviews_v1_0_roberta_VB_VBD_VBG_VBN_VBP_distilbert-base-uncased-distilled-squad.json.gz\n",
      "Predicting answers for: https://nlp-distribution.s3.ca-central-1.amazonaws.com/augmentation/test/amazon_reviews_v1_0_roberta_RB_RBR_RBZ_VB_VBD_VBGVBN_VBP.json.gz\n",
      "Fetching: https://nlp-distribution.s3.ca-central-1.amazonaws.com/augmentation/test/amazon_reviews_v1_0_roberta_RB_RBR_RBZ_VB_VBD_VBGVBN_VBP.json.gz\n"
     ]
    },
    {
     "name": "stderr",
     "output_type": "stream",
     "text": [
      "100%|██████████| 413/413 [01:32<00:00,  4.45it/s]\n"
     ]
    },
    {
     "name": "stdout",
     "output_type": "stream",
     "text": [
      "Writting file: /data/distribution_shift/augmented_qa/predictions/amazon_reviews_v1_0_roberta_RB_RBR_RBZ_VB_VBD_VBGVBN_VBP_distilbert-base-uncased-distilled-squad.json.gz\n",
      "Writting: /data/distribution_shift/augmented_qa/predictions/amazon_reviews_v1_0_roberta_RB_RBR_RBZ_VB_VBD_VBGVBN_VBP_distilbert-base-uncased-distilled-squad.json.gz\n",
      "Predicting answers for: https://nlp-distribution.s3.ca-central-1.amazonaws.com/augmentation/test/amazon_reviews_v1_0_roberta_Percentile_0.1.json.gz\n",
      "Fetching: https://nlp-distribution.s3.ca-central-1.amazonaws.com/augmentation/test/amazon_reviews_v1_0_roberta_Percentile_0.1.json.gz\n"
     ]
    },
    {
     "name": "stderr",
     "output_type": "stream",
     "text": [
      "100%|██████████| 413/413 [01:30<00:00,  4.58it/s]\n"
     ]
    },
    {
     "name": "stdout",
     "output_type": "stream",
     "text": [
      "Writting file: /data/distribution_shift/augmented_qa/predictions/amazon_reviews_v1_0_roberta_Percentile_0.1_distilbert-base-uncased-distilled-squad.json.gz\n",
      "Writting: /data/distribution_shift/augmented_qa/predictions/amazon_reviews_v1_0_roberta_Percentile_0.1_distilbert-base-uncased-distilled-squad.json.gz\n",
      "Predicting answers for: https://nlp-distribution.s3.ca-central-1.amazonaws.com/augmentation/test/amazon_reviews_v1_0_roberta_Percentile_0.2.json.gz\n",
      "Fetching: https://nlp-distribution.s3.ca-central-1.amazonaws.com/augmentation/test/amazon_reviews_v1_0_roberta_Percentile_0.2.json.gz\n"
     ]
    },
    {
     "name": "stderr",
     "output_type": "stream",
     "text": [
      "100%|██████████| 413/413 [01:28<00:00,  4.67it/s]\n"
     ]
    },
    {
     "name": "stdout",
     "output_type": "stream",
     "text": [
      "Writting file: /data/distribution_shift/augmented_qa/predictions/amazon_reviews_v1_0_roberta_Percentile_0.2_distilbert-base-uncased-distilled-squad.json.gz\n",
      "Writting: /data/distribution_shift/augmented_qa/predictions/amazon_reviews_v1_0_roberta_Percentile_0.2_distilbert-base-uncased-distilled-squad.json.gz\n",
      "Predicting answers for: https://nlp-distribution.s3.ca-central-1.amazonaws.com/augmentation/test/amazon_reviews_v1_0_roberta_Percentile_0.3.json.gz\n",
      "Fetching: https://nlp-distribution.s3.ca-central-1.amazonaws.com/augmentation/test/amazon_reviews_v1_0_roberta_Percentile_0.3.json.gz\n"
     ]
    },
    {
     "name": "stderr",
     "output_type": "stream",
     "text": [
      " 24%|██▍       | 101/413 [00:21<01:09,  4.50it/s]"
     ]
    }
   ],
   "source": [
    "# augmented_dir = '/data/augmented_qa/'\n",
    "augmented_dir = 'https://nlp-distribution.s3.ca-central-1.amazonaws.com/augmentation/test/'\n",
    "predictions_dir = '/data/augmentation/predictions/'\n",
    "\n",
    "\n",
    "qa_urls = {\n",
    "    \"amazon_reviews_v1_0\": 'https://ndownloader.figshare.com/files/21500109?private_link=2f119bea3e8d711047ec',\n",
    "    \"reddit_v1_0\": 'https://ndownloader.figshare.com/files/21500112?private_link=2f119bea3e8d711047ec',\n",
    "    \"new_wiki_v1.0\": 'https://ndownloader.figshare.com/files/21500115?private_link=2f119bea3e8d711047ec',\n",
    "    \"nyt_v1.0\": 'https://ndownloader.figshare.com/files/21500118?private_link=2f119bea3e8d711047ec',\n",
    "}\n",
    "\n",
    "parts_of_speech_list = [\n",
    "    ['JJ', 'VB'],\n",
    "    ['JJ'],\n",
    "    ['VB', 'RB'],\n",
    "    ['VB'],\n",
    "    ['RB'],\n",
    "    ['RB', 'RBR', 'RBZ'],\n",
    "    ['VB', 'VBD', 'VBG', 'VBN', 'VBP'],\n",
    "    ['RB', 'RBR', 'RBZ', 'VB', 'VBD', 'VBG' 'VBN', 'VBP']\n",
    "]\n",
    "\n",
    "augmenting_models = [\n",
    "    'orig',\n",
    "    'bert',\n",
    "    'roberta'\n",
    "]\n",
    "\n",
    "frequency_percentiles = [\n",
    "    0.10,\n",
    "    0.20,\n",
    "    0.30,\n",
    "    0.50\n",
    "]\n",
    "\n",
    "for model_name in augmenting_models:\n",
    "    for quesion_set, filename in qa_urls.items():\n",
    "        if model_name == 'orig':\n",
    "#             out_filepath = augmented_dir+quesion_set+\".json\"\n",
    "            out_filepath = get_prediction_filename(predictions_dir, model_name, quesion_set)\n",
    "            if not os.path.exists(out_filepath):\n",
    "                in_filename = filename\n",
    "                predicted_answers = predict_answers(in_filename)\n",
    "                write_prediction_file(predicted_answers, predictions_dir, model_name, quesion_set, parts_of_speech=None, frequency_percentile=None)\n",
    "            else:\n",
    "                print(\"Skipping exiting output: {}\".format(out_filepath))\n",
    "            continue\n",
    "\n",
    "        for parts_of_speech in parts_of_speech_list:\n",
    "            \n",
    "            out_filepath = get_prediction_filename(predictions_dir, model_name, quesion_set, parts_of_speech=parts_of_speech)\n",
    "            \n",
    "            if not os.path.exists(out_filepath):\n",
    "                in_filename = get_augmented_filename(augmented_dir, model_name, quesion_set, parts_of_speech=parts_of_speech)\n",
    "                predicted_answers = predict_answers(in_filename)\n",
    "                write_prediction_file(predicted_answers, predictions_dir, model_name, quesion_set, parts_of_speech=parts_of_speech)\n",
    "            else:\n",
    "                print(\"Skipping exiting output: {}\".format(out_filepath))\n",
    "                \n",
    "        for frequency_percentile in frequency_percentiles:\n",
    "            \n",
    "            out_filepath = get_prediction_filename(predictions_dir, model_name, quesion_set, frequency_percentile=frequency_percentile)\n",
    "            \n",
    "            if not os.path.exists(out_filepath):\n",
    "                in_filename = get_augmented_filename(augmented_dir, model_name, quesion_set, frequency_percentile=frequency_percentile)\n",
    "                predicted_answers = predict_answers(in_filename)\n",
    "                write_prediction_file(predicted_answers, predictions_dir, model_name, quesion_set, frequency_percentile=frequency_percentile)\n",
    "            else:\n",
    "                print(\"Skipping exiting output: {}\".format(out_filepath))                "
   ]
  },
  {
   "cell_type": "code",
   "execution_count": null,
   "metadata": {},
   "outputs": [],
   "source": [
    "# write_prediction_file(predicted_answers, predictions_dir, model_name, quesion_set, parts_of_speech=parts_of_speech)"
   ]
  },
  {
   "cell_type": "markdown",
   "metadata": {},
   "source": [
    "## Results using Bert cased.\n",
    "Original:  \n",
    "```\n",
    "{'exact_match': 61.29489124936773,\n",
    " 'exact_match_ci': (60.32643155896314, 62.25669155646592),\n",
    " 'f1': 76.44828148772298,\n",
    " 'f1_ci': (75.73942758762348, 77.15713538782143)}\n",
    "```\n",
    " \n",
    "Augmented using parts of speech ('RB', 'VB', 'JJ'):\n",
    "```\n",
    "{'exact_match': 55.723443223443226,\n",
    " 'exact_match_ci': (54.67436316808506, 56.768703886705765),\n",
    " 'f1': 70.53511389475281,\n",
    " 'f1_ci': (69.70373232753799, 71.36649546196658)}\n",
    " ```\n",
    " \n",
    "Augmented using parts of speech ('JJ', 'VB'):\n",
    "```\n",
    "{'exact_match': 57.61699303020246,\n",
    " 'exact_match_ci': (56.59041181574251, 58.638662021683864),\n",
    " 'f1': 72.49160994326711,\n",
    " 'f1_ci': (71.69580181605691, 73.28741807047638)}\n",
    "```\n",
    " \n",
    "Augmented using parts of speech ('JJ'):\n",
    "```\n",
    "{'exact_match': 59.672275376663364,\n",
    " 'exact_match_ci': (58.655525891224094, 60.68282402622843),\n",
    " 'f1': 74.34748354796466,\n",
    " 'f1_ci': (73.57500291336866, 75.11996418255961)}\n",
    "```\n",
    "\n",
    "Augmented using parts of speech ('VB', 'RB'):\n",
    "```\n",
    "{'exact_match': 60.52954977097531,\n",
    " 'exact_match_ci': (59.50808371658397, 61.54415775798525),\n",
    " 'f1': 75.1355165930609,\n",
    " 'f1_ci': (74.36753548765809, 75.90349769846254)}\n",
    "```\n",
    "\n",
    "Augmented using parts of speech ('VB'):\n",
    "```\n",
    "{'exact_match': 61.695209191415564,\n",
    " 'exact_match_ci': (60.69426383659264, 62.68876479362644),\n",
    " 'f1': 76.60951250625979,\n",
    " 'f1_ci': (75.8739950555737, 77.34502995694473)}\n",
    "```\n",
    "\n",
    "Augmented using parts of speech ('RB'):\n",
    "```\n",
    "{'exact_match': 62.686401068328514,\n",
    " 'exact_match_ci': (61.67688701776737, 63.68768392154747),\n",
    " 'f1': 77.1423384101846,\n",
    " 'f1_ci': (76.40242639581122, 77.88225042455691)}\n",
    "```\n",
    "\n",
    "Augmented using parts of speech ('RB', 'RBR', 'RBZ'):\n",
    "```\n",
    "{'exact_match': 62.690722797638934,\n",
    " 'exact_match_ci': (61.68083367692271, 63.69237147400661),\n",
    " 'f1': 77.07116898243828,\n",
    " 'f1_ci': (76.32951557203064, 77.81282239284486)}\n",
    "```\n",
    "\n",
    "Augmented using parts of speech ('VB', 'VBD', 'VBG', 'VBN', 'VBP', 'VBZ'):\n",
    "```\n",
    "{'exact_match': 57.88402848423194,\n",
    " 'exact_match_ci': (56.847068026993874, 58.915793750168575),\n",
    " 'f1': 72.05739805303583,\n",
    " 'f1_ci': (71.24414442866858, 72.87065167740224)}\n",
    "```\n",
    "\n",
    "Augmented using parts of speech ('VB', 'VBD', 'VBG', 'VBN', 'VBP', 'VBZ', 'RB', 'RBR', 'RBZ'):\n",
    "```\n",
    "{'exact_match': 54.86960535425802,\n",
    " 'exact_match_ci': (53.814639701026, 55.921295105813854),\n",
    " 'f1': 69.2809597048899,\n",
    " 'f1_ci': (68.4326274186548, 70.1292919911243)}\n",
    "```"
   ]
  },
  {
   "cell_type": "markdown",
   "metadata": {},
   "source": [
    "## Results using DistilBert uncased.\n",
    "Original:  \n",
    "```\n",
    "{'exact_match': 51.78553363682347,\n",
    " 'exact_match_ci': (50.79503391873498, 52.77498080096132),\n",
    " 'f1': 67.1402286661281,\n",
    " 'f1_ci': (66.33834793758437, 67.94210939467114)}\n",
    "```\n",
    " \n",
    "Augmented using parts of speech ('RB', 'VB', 'JJ'):\n",
    "```\n",
    "{'exact_match': 47.27564102564103,\n",
    "'exact_match_ci': (46.22404688046134, 48.32905313480492),\n",
    "'f1': 61.976016403387256,\n",
    "'f1_ci': (61.081630518715, 62.870402288058955)}\n",
    "```\n",
    " \n",
    "Augmented using parts of speech ('JJ', 'VB'):\n",
    "```\n",
    "{'exact_match': 48.7332669543091,\n",
    "'exact_match_ci': (47.697853514895336, 49.7694972479201),\n",
    "'f1': 63.639230738212405,\n",
    "'f1_ci': (62.771313358234096, 64.50714811819024)}\n",
    "```\n",
    " \n",
    "Augmented using parts of speech ('JJ'):\n",
    "```\n",
    "{'exact_match': 49.950511382382054,\n",
    " 'exact_match_ci': (48.917471939596425, 50.983582547731864),\n",
    " 'f1': 65.2630401500315,\n",
    " 'f1_ci': (64.4106603365326, 66.11541996352976)}\n",
    "```\n",
    "\n",
    "Augmented using parts of speech ('VB', 'RB'):\n",
    "```\n",
    "{'exact_match': 51.49145346888616,\n",
    " 'exact_match_ci': (50.45016923740518, 52.531766446720496),\n",
    " 'f1': 66.08929790660498,\n",
    " 'f1_ci': (65.23191051755666, 66.946685295653)}\n",
    "```\n",
    "\n",
    "Augmented using parts of speech ('VB'):\n",
    "```\n",
    "{'exact_match': 52.21114242358552,\n",
    " 'exact_match_ci': (51.18589672092638, 53.23499125822917),\n",
    " 'f1': 66.99138249073286,\n",
    " 'f1_ci': (66.15498117557172, 67.82778380589349)}\n",
    "```\n",
    "\n",
    "Augmented using parts of speech ('RB'):\n",
    "```\n",
    "{'exact_match': 52.65969285555308,\n",
    " 'exact_match_ci': (51.621074174551694, 53.696586267438605),\n",
    " 'f1': 67.50048486449307,\n",
    " 'f1_ci': (66.65731834923861, 68.34365137974714)}\n",
    "```\n"
   ]
  }
 ],
 "metadata": {
  "kernelspec": {
   "display_name": "Python 3",
   "language": "python",
   "name": "python3"
  },
  "language_info": {
   "codemirror_mode": {
    "name": "ipython",
    "version": 3
   },
   "file_extension": ".py",
   "mimetype": "text/x-python",
   "name": "python",
   "nbconvert_exporter": "python",
   "pygments_lexer": "ipython3",
   "version": "3.7.7"
  }
 },
 "nbformat": 4,
 "nbformat_minor": 4
}
