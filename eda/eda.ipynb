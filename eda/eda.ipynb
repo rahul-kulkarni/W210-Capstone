{
 "cells": [
  {
   "cell_type": "markdown",
   "metadata": {},
   "source": [
    "# Start Stanford CoreNLP server\n",
    "`java -Xmx16g -cp C:\\stanford-corenlp-latest\\stanford-corenlp-4.0.0\\* edu.stanford.nlp.pipeline.StanfordCoreNLPServer -port 9001 -timeout 600 -threads 5 -maxCharLength 100000 -quiet False -preload tokenize,ssplit,pos,lemma,ner,parse,depparse,coref`"
   ]
  },
  {
   "cell_type": "code",
   "execution_count": 1,
   "metadata": {},
   "outputs": [],
   "source": [
    "import string\n",
    "import re\n",
    "import collections\n",
    "import csv\n",
    "import pandas as pd\n",
    "import numpy as np\n",
    "import requests\n",
    "import os\n",
    "import json\n",
    "from hyphen import Hyphenator\n",
    "\n",
    "import dask.dataframe as dd\n",
    "import multiprocessing\n",
    "\n",
    "import matplotlib.pyplot as plt\n",
    "from matplotlib.ticker import PercentFormatter\n",
    "\n",
    "import seaborn as sns\n",
    "\n",
    "%matplotlib inline\n",
    "\n",
    "import stanfordnlp\n",
    "from stanfordnlp.server import CoreNLPClient\n",
    "\n",
    "# Uncomment if needed to fix this error:\n",
    "# OMP: Error #15: Initializing libiomp5md.dll, but found libiomp5md.dll already initialized.\n",
    "os.environ[\"KMP_DUPLICATE_LIB_OK\"]=\"TRUE\""
   ]
  },
  {
   "cell_type": "code",
   "execution_count": 2,
   "metadata": {},
   "outputs": [],
   "source": [
    "PREDICTION_PATH = './predictions'\n",
    "TEST_SETS_PATH = './test_sets'\n",
    "MODEL_EVALS_URL = 'https://squad-model-evals.s3-us-west-2.amazonaws.com/model_db.json'\n",
    "\n",
    "#SET_NAMES = ['Amazon', 'Reddit', 'New-Wiki', 'NYT', 'dev-v1.1']\n",
    "SET_NAMES = ['Amazon', 'Reddit', 'New-Wiki', 'NYT']"
   ]
  },
  {
   "cell_type": "code",
   "execution_count": 5,
   "metadata": {},
   "outputs": [],
   "source": [
    "def fetch_eval_file(eval_file_path, model_evals_url, overwrite=False):\n",
    "    if (not os.path.exists(eval_file_path)) or overwrite:\n",
    "        r = requests.get(model_evals_url)\n",
    "                        \n",
    "        with open(eval_file_path, 'w', encoding='utf-8') as outfile:\n",
    "            outfile.write(r.text)\n",
    "\n",
    "    else:\n",
    "        print('File Exists')\n",
    "    \n",
    "    \n",
    "\n",
    "def write_output(output_file_path, list_to_write):\n",
    "    fields = list_to_write[0].keys()\n",
    "    \n",
    "    with open(output_file_path, 'w', newline='', encoding='utf-8') as csv_file:\n",
    "        csv_writer = csv.DictWriter(csv_file, \n",
    "                                    fieldnames=fields,\n",
    "                                    delimiter=',', \n",
    "                                    quotechar='\"',\n",
    "                                    quoting=csv.QUOTE_MINIMAL )\n",
    "        csv_writer.writeheader()\n",
    "        csv_writer.writerows(list_to_write)\n",
    "\n",
    "def parse_predictions(prediction_file_path, download=False):\n",
    "    \n",
    "    with open(prediction_file_path) as f:\n",
    "      predictions = json.load(f)\n",
    "\n",
    "\n",
    "    pred_list_test = [{ 'model_display_name': x['name'], \n",
    "      'model_name': x['metadata']['name'], \n",
    "      'description': x['metadata']['description'], \n",
    "      'uuid': x['metadata']['uuid'],\n",
    "      'testbed': x['testbed'],\n",
    "      'predictions': x['predictions']\n",
    "\n",
    "     } for x in predictions]\n",
    "\n",
    "    pred_list = []\n",
    "\n",
    "    for r in predictions:\n",
    "\n",
    "      display_name = r['name']\n",
    "      model_name = r['metadata']['name']\n",
    "      description = r['metadata']['description']\n",
    "      uuid = r['metadata']['uuid']\n",
    "      testbed = r['testbed']\n",
    "\n",
    "      for k1, v1 in r['predictions'].items():\n",
    "        if k1 in (SET_NAMES):\n",
    "          if 'bundle' in v1.keys():\n",
    "            test_set = k1\n",
    "            bundle = v1['bundle']\n",
    "\n",
    "            for k2, v2 in v1['data'].items():\n",
    "              qid = k2\n",
    "              predicted_answer = v2\n",
    "              exact_match = v1['scores'][qid]['exact_match']\n",
    "              f1 = v1['scores'][qid]['f1']\n",
    "\n",
    "              pred_list.append( {\n",
    "                'display_name': display_name,\n",
    "                'model_name': model_name,\n",
    "                'description': description,\n",
    "                'uuid': uuid,\n",
    "                'testbed': testbed,\n",
    "                'test_set': test_set,\n",
    "                'qid': qid,\n",
    "                'predicted_answer': predicted_answer,\n",
    "                'exact_match': exact_match,\n",
    "                'f1': float(f1)\n",
    "              })\n",
    "   \n",
    "    return pred_list\n",
    "\n",
    "def load_data(input_file_path):\n",
    "    with open(input_file_path, 'r', encoding='utf-8') as csv_file:\n",
    "        csv_reader = csv.DictReader(csv_file)\n",
    "        return [r for r in csv_reader]\n",
    "\n",
    "def parse_answers(answer_file_path):\n",
    "    test_set_answers = [a for a in os.listdir(answer_file_path) if not os.path.isdir('/'.join([answer_file_path, a]))]\n",
    "    answers_list = []\n",
    "    \n",
    "    for f in test_set_answers:\n",
    "      with open('/'.join([TEST_SETS_PATH, f])) as fh:\n",
    "          test_set = f.split('.')[0]\n",
    "          \n",
    "          answers = json.load(fh)['data']\n",
    "          for x in answers:\n",
    "              title = x['title']\n",
    "    \n",
    "              for p in x['paragraphs']:\n",
    "                  context = p['context']\n",
    "    \n",
    "                  for qa in p['qas']:\n",
    "                      question = qa['question']\n",
    "                      question_id = qa['id']\n",
    "    \n",
    "                      for a in qa['answers']:\n",
    "                          answers_list.append(\n",
    "                                  {\n",
    "                                      'test_set': test_set,\n",
    "                                      'question_id': question_id,\n",
    "                                      'title': title,\n",
    "                                      'context': context,\n",
    "                                      'question_text': question,\n",
    "                                      'answer_text': a['text'],\n",
    "                                      'answer_start': a['answer_start']\n",
    "                                  }\n",
    "                              )\n",
    "    return answers_list\n",
    "\n",
    "def normalize_answer(s):\n",
    "    \"\"\"Lower text and remove punctuation, articles and extra whitespace.\"\"\"\n",
    "  \n",
    "    def remove_articles(text):\n",
    "        regex = re.compile(r'\\b(a|an|the)\\b', re.UNICODE)\n",
    "        return re.sub(regex, ' ', text)\n",
    "    def white_space_fix(text):\n",
    "        return ' '.join(text.split())\n",
    "    def remove_punc(text):\n",
    "        exclude = set(string.punctuation)\n",
    "        return ''.join(ch for ch in text if ch not in exclude)\n",
    "    def lower(text):\n",
    "        return text.lower()\n",
    "    return white_space_fix(remove_articles(remove_punc(lower(s))))\n",
    "\n",
    "def get_tokens(s):\n",
    "    if not s: return []\n",
    "    return normalize_answer(s).split()\n",
    "\n",
    "def compute_exact(question_id, predicted_answer, all_answers):\n",
    "    gold_answers = [normalize_answer(x['answer_text']) for x in all_answers if x['question_id'] == question_id]\n",
    "    return max((int(normalize_answer(predicted_answer) == a) for a in gold_answers))\n",
    "\n",
    "def compute_f1(question_id, predicted_answer, all_answers):\n",
    "    gold_toks = [get_tokens(x['answer_text']) for x in all_answers if x['question_id'] == question_id]\n",
    "    pred_toks = get_tokens(predicted_answer)\n",
    "    \n",
    "    f1s = []\n",
    "  \n",
    "    for answer_toks in gold_toks:\n",
    "        common = collections.Counter(answer_toks) & collections.Counter(pred_toks)\n",
    "        num_same = sum(common.values())\n",
    "      \n",
    "        if len(answer_toks) == 0 or len(pred_toks) == 0:\n",
    "            # If either is no-answer, then F1 is 1 if they agree, 0 otherwise\n",
    "            f1s.append(float(int(answer_toks == pred_toks)))\n",
    "            continue\n",
    "        if num_same == 0:\n",
    "            f1s.append(0.0)\n",
    "            continue\n",
    "            \n",
    "        precision = 1.0 * num_same / len(pred_toks)\n",
    "        recall = 1.0 * num_same / len(answer_toks)\n",
    "        f1 = (2 * precision * recall) / (precision + recall)\n",
    "\n",
    "        f1s.append(f1)\n",
    "\n",
    "    return float(max(f1s))\n",
    "\n",
    "def print_answer(qid, all_answers):\n",
    "    question = [q for q in all_answers if q['question_id'] == qid]\n",
    "    answers = [a['answer_text'] for a in question]\n",
    "    \n",
    "    if question:\n",
    "        print('Test Set:', question[0]['test_set'])\n",
    "        print('Context:', question[0]['context'])\n",
    "        print('Question:', question[0]['question_text'])\n",
    "        print('Answers:', answers)"
   ]
  },
  {
   "cell_type": "code",
   "execution_count": 4,
   "metadata": {},
   "outputs": [
    {
     "name": "stdout",
     "output_type": "stream",
     "text": [
      "File Exists\n"
     ]
    }
   ],
   "source": [
    "# Download the model_db.json file that contains all the pre-evaluated and scored questions\n",
    "# from the previous groups' work, if it doesn't exist yet.\n",
    "\n",
    "fetch_eval_file(PREDICTION_PATH + '/model_db.json', MODEL_EVALS_URL, overwrite=False)"
   ]
  },
  {
   "cell_type": "code",
   "execution_count": 5,
   "metadata": {},
   "outputs": [],
   "source": [
    "# If predictions and/or answer files don't exist, uncomment these to recreate them\n",
    "\n",
    "predictions = parse_predictions(PREDICTION_PATH + '/model_db.json')\n",
    "answers = parse_answers(TEST_SETS_PATH)\n",
    "\n",
    "write_output(PREDICTION_PATH + '/all_predictions.csv', predictions)\n",
    "write_output(PREDICTION_PATH + '/all_answers.csv', answers)"
   ]
  },
  {
   "cell_type": "code",
   "execution_count": 6,
   "metadata": {},
   "outputs": [],
   "source": [
    "# Otherwise, load from files\n",
    "predictions = load_data(PREDICTION_PATH + '/all_predictions.csv')\n",
    "answers = load_data(PREDICTION_PATH + '/all_answers.csv')   "
   ]
  },
  {
   "cell_type": "code",
   "execution_count": 7,
   "metadata": {},
   "outputs": [],
   "source": [
    "# Load into Pandas dataframes\n",
    "\n",
    "df_pred = pd.DataFrame(predictions)\n",
    "df_answers = pd.DataFrame(answers)\n",
    "\n",
    "df_pred = df_pred.astype({'f1': 'float'})"
   ]
  },
  {
   "cell_type": "code",
   "execution_count": 8,
   "metadata": {},
   "outputs": [
    {
     "data": {
      "text/plain": [
       "array([[<matplotlib.axes._subplots.AxesSubplot object at 0x000001BB444FBEB0>,\n",
       "        <matplotlib.axes._subplots.AxesSubplot object at 0x000001BB4F7203D0>],\n",
       "       [<matplotlib.axes._subplots.AxesSubplot object at 0x000001BB4C9DB820>,\n",
       "        <matplotlib.axes._subplots.AxesSubplot object at 0x000001BB1637ACA0>]],\n",
       "      dtype=object)"
      ]
     },
     "execution_count": 8,
     "metadata": {},
     "output_type": "execute_result"
    },
    {
     "data": {
      "image/png": "[encoded data removed]",
      "text/plain": [
       "<Figure size 432x288 with 4 Axes>"
      ]
     },
     "metadata": {
      "needs_background": "light"
     },
     "output_type": "display_data"
    }
   ],
   "source": [
    "df_pred['f1'].hist(by=df_pred['test_set'],density=True)"
   ]
  },
  {
   "cell_type": "code",
   "execution_count": 9,
   "metadata": {
    "scrolled": true
   },
   "outputs": [
    {
     "data": {
      "image/png": "[encoded data removed]",
      "text/plain": [
       "<Figure size 1440x360 with 4 Axes>"
      ]
     },
     "metadata": {
      "needs_background": "light"
     },
     "output_type": "display_data"
    }
   ],
   "source": [
    "fig, axes = plt.subplots(1,4, figsize= (20,5))\n",
    "fig.suptitle('Test Set F1 Histogram by %')\n",
    "for i, test_set in enumerate(df_pred['test_set'].unique()):\n",
    "    data = df_pred[df_pred['test_set'] == test_set]['f1']\n",
    "    data.hist(ax=axes.flat[i], \n",
    "            bins=20, \n",
    "            weights=np.ones(len(data)) / len(data) \n",
    "           )\n",
    "    axes.flat[i].set_title(test_set)\n",
    "for ax in axes:\n",
    "    ax.yaxis.set_major_formatter(PercentFormatter(1))"
   ]
  },
  {
   "cell_type": "code",
   "execution_count": 10,
   "metadata": {},
   "outputs": [
    {
     "data": {
      "image/png": "[encoded data removed]",
      "text/plain": [
       "<Figure size 1440x360 with 4 Axes>"
      ]
     },
     "metadata": {
      "needs_background": "light"
     },
     "output_type": "display_data"
    }
   ],
   "source": [
    "fig, axes = plt.subplots(1,4, figsize= (20,5))\n",
    "fig.suptitle('Test Set F1 Histogram by Count')\n",
    "for i, test_set in enumerate(df_pred['test_set'].unique()):\n",
    "    data = df_pred[df_pred['test_set'] == test_set]['f1']\n",
    "    data.hist(ax=axes.flat[i], \n",
    "            bins=20\n",
    "           )\n",
    "    axes.flat[i].set_title(test_set)"
   ]
  },
  {
   "cell_type": "code",
   "execution_count": 11,
   "metadata": {},
   "outputs": [
    {
     "data": {
      "text/plain": [
       "<matplotlib.axes._subplots.AxesSubplot at 0x1bb41b7b6d0>"
      ]
     },
     "execution_count": 11,
     "metadata": {},
     "output_type": "execute_result"
    },
    {
     "data": {
      "image/png": "[encoded data removed]",
      "text/plain": [
       "<Figure size 432x288 with 1 Axes>"
      ]
     },
     "metadata": {
      "needs_background": "light"
     },
     "output_type": "display_data"
    }
   ],
   "source": [
    "df_pred[df_pred['test_set'] == 'dev-v1.1']['f1'].hist(bins=1)"
   ]
  },
  {
   "cell_type": "code",
   "execution_count": 12,
   "metadata": {},
   "outputs": [
    {
     "data": {
      "image/png": "[encoded data removed]",
      "text/plain": [
       "<Figure size 432x288 with 1 Axes>"
      ]
     },
     "metadata": {
      "needs_background": "light"
     },
     "output_type": "display_data"
    }
   ],
   "source": [
    "fig, axes = plt.subplots(1,1)\n",
    "axes.hist(df_pred[df_pred['test_set'] == 'Amazon']['f1'], \n",
    "          weights=np.ones(len(df_pred[df_pred['test_set'] == 'Amazon']['f1'])) / len(df_pred[df_pred['test_set'] == 'Amazon']['f1']) )\n",
    "plt.show()"
   ]
  },
  {
   "cell_type": "code",
   "execution_count": 13,
   "metadata": {},
   "outputs": [],
   "source": [
    "df_answers['is_numeric'] = df_answers.apply(lambda row: row['answer_text'].isnumeric(), axis=1)\n",
    "df_answers[df_answers['is_numeric']]\n",
    "df_answers.to_csv('answers.csv', index=False)"
   ]
  },
  {
   "cell_type": "code",
   "execution_count": 85,
   "metadata": {},
   "outputs": [
    {
     "name": "stdout",
     "output_type": "stream",
     "text": [
      "Use device: gpu\n",
      "---\n",
      "Loading: tokenize\n",
      "With settings: \n",
      "{'model_path': 'C:\\\\Users\\\\Justin\\\\stanfordnlp_resources\\\\en_ewt_models\\\\en_ewt_tokenizer.pt', 'lang': 'en', 'shorthand': 'en_ewt', 'mode': 'predict'}\n",
      "Done loading processors!\n",
      "---\n"
     ]
    }
   ],
   "source": [
    "nlp = stanfordnlp.Pipeline(processors='tokenize', use_gpu=True)"
   ]
  },
  {
   "cell_type": "code",
   "execution_count": 15,
   "metadata": {},
   "outputs": [],
   "source": [
    "def get_all_stanford_metrics(txt):\n",
    "    subtree_value = ''\n",
    "    ner = '_NO_NER'\n",
    "    sentence_count = 0\n",
    "    word_count = 0 \n",
    "    character_count = 0\n",
    "    \n",
    "    try:\n",
    "        with CoreNLPClient(endpoint='http://localhost:9001', start_server=False, timeout=30000) as client:\n",
    "\n",
    "            ann = client.annotate(txt)\n",
    "            \n",
    "            sentence_count = len(ann.sentence)\n",
    "            words = [x.word for s in ann.sentence for x in s.token if x.word not in string.punctuation]\n",
    "            word_count = len(words)\n",
    "            character_count = sum([len(x) for x in words])\n",
    "            \n",
    "            sentence = ann.sentence[0]\n",
    "            if sentence.mentions:\n",
    "                ner = sentence.mentions[0].entityType\n",
    "            \n",
    "            constituency_parse = sentence.parseTree\n",
    "            subtree_value = constituency_parse.child[0].value\n",
    "        \n",
    "        return subtree_value, ner, sentence_count, word_count, character_count\n",
    "        \n",
    "    except Exception as e:\n",
    "        return e.args[0],e.args[0], e.args[0], e.args[0],e.args[0]\n",
    "    \n",
    "# def get_stanford_counts(txt):\n",
    "#     sentence_count = 0\n",
    "#     word_count = 0 \n",
    "#     character_count = 0\n",
    "    \n",
    "#     try:\n",
    "#         with CoreNLPClient(endpoint='http://localhost:9001', annotators='tokenize,ssplit', start_server=False, timeout=30000) as client:\n",
    "            \n",
    "#             ann = client.annotate(txt)\n",
    "            \n",
    "#             sentence_count = len(ann.sentence)\n",
    "#             words = [x.word for s in ann.sentence for x in s.token if x.word not in string.punctuation]\n",
    "#             word_count = len(words)\n",
    "#             character_count = sum([len(x) for x in words])\n",
    "        \n",
    "#         return sentence_count, word_count, character_count\n",
    "        \n",
    "#     except Exception as e:\n",
    "#         return e.args[0], e.args[0], e.args[0]\n",
    "    \n",
    "    \n",
    "def get_stanford_counts(txt):\n",
    "    sentence_count = 0\n",
    "    word_count = 0 \n",
    "    character_count = 0\n",
    "    \n",
    "    try:\n",
    "        doc = nlp(txt)\n",
    "        sentence_count = len(doc.sentences)\n",
    "        words = [w.text for s in doc.sentences for w in s.words if w.text not in string.punctuation]\n",
    "        word_count = len(words)\n",
    "        character_count = sum([len(x) for x in words])\n",
    "        \n",
    "        return sentence_count, word_count, character_count, words\n",
    "        \n",
    "    except Exception as e:\n",
    "        return e.args[0], e.args[0], e.args[0]\n",
    "    \n",
    "# def get_ner(txt):\n",
    "#     try:\n",
    "#         with CoreNLPClient(endpoint='http://localhost:9001', start_server=False, timeout=30000) as client:\n",
    "#             ann = client.annotate(txt)\n",
    "#             sentence = ann.sentence[0]\n",
    "#             if sentence.mentions:\n",
    "#                 return sentence.mentions[0].entityType\n",
    "\n",
    "#     except Exception as e:\n",
    "#         return e.args[0]"
   ]
  },
  {
   "cell_type": "code",
   "execution_count": 16,
   "metadata": {},
   "outputs": [
    {
     "name": "stdout",
     "output_type": "stream",
     "text": [
      "Server running. Found 2 sentences\n"
     ]
    }
   ],
   "source": [
    "# Test Server\n",
    "try:\n",
    "    txt = 'This is a test sentence. So is this.'\n",
    "    with CoreNLPClient(endpoint='http://localhost:9001', start_server=False, timeout=30000) as client:\n",
    "        ann = client.annotate(txt)\n",
    "        print('Server running. Found {} sentences'.format(len(ann.sentence)))\n",
    "except Exception as e:\n",
    "    print(e)"
   ]
  },
  {
   "cell_type": "code",
   "execution_count": 17,
   "metadata": {},
   "outputs": [],
   "source": [
    "# Write new results, if necessary\n",
    "df_distinct_answers = pd.DataFrame({'answer_text': df_answers['answer_text'].unique()})\n",
    "df_distinct_answers[['first_parse', 'first_ner', 'sentence_count', 'word_count', 'word_character_count', ]] = df_distinct_answers.apply(lambda row: get_all_stanford_metrics(row['answer_text']), axis=1, result_type='expand')\n"
   ]
  },
  {
   "cell_type": "code",
   "execution_count": 18,
   "metadata": {},
   "outputs": [],
   "source": [
    "df_distinct_answers.fillna(value = {'first_ner':'_NO_NER'}).groupby(['first_ner']).count()\n",
    "df_distinct_answers.to_csv('distinct_answers.csv', index=False)"
   ]
  },
  {
   "cell_type": "code",
   "execution_count": 19,
   "metadata": {},
   "outputs": [],
   "source": [
    "df_distinct_context = pd.DataFrame({'context': df_answers['context'].unique()})"
   ]
  },
  {
   "cell_type": "code",
   "execution_count": 20,
   "metadata": {},
   "outputs": [],
   "source": [
    "df_distinct_context[['sentence_count', 'word_count', 'word_character_count', 'words']] = df_distinct_context.apply(lambda row: get_stanford_counts(row['context']), axis=1, result_type='expand')"
   ]
  },
  {
   "cell_type": "code",
   "execution_count": 21,
   "metadata": {},
   "outputs": [],
   "source": [
    "syll_df = dd.from_pandas(df_distinct_context, npartitions = 2*multiprocessing.cpu_count()) \\\n",
    "            .map_partitions(lambda df: df.apply(lambda row: [max(1, len(Hyphenator('en_US').syllables(x))) if len(str(x)) < 100 else -1 for x in row['words'] ], axis = 1)) \\\n",
    "            .compute(scheduler='processes')"
   ]
  },
  {
   "cell_type": "code",
   "execution_count": 22,
   "metadata": {},
   "outputs": [],
   "source": [
    "df_distinct_context['syllables_per_word'] = syll_df"
   ]
  },
  {
   "cell_type": "code",
   "execution_count": 23,
   "metadata": {},
   "outputs": [],
   "source": [
    "df_distinct_context['polysyllable_count'] = df_distinct_context.apply(lambda row: len([x for x in row['syllables_per_word'] if x > 1]), axis = 1)\n",
    "df_distinct_context['avg_word_length'] = df_distinct_context.apply(lambda row: sum([len(x) for x in row['words']])/row['word_count'], axis = 1)"
   ]
  },
  {
   "cell_type": "code",
   "execution_count": 24,
   "metadata": {},
   "outputs": [],
   "source": [
    "df_distinct_context['avg_sentence_length_in_words'] = df_distinct_context['word_count']/df_distinct_context['sentence_count']\n",
    "df_distinct_context['context_character_count'] = df_distinct_context.apply(lambda row: len(row['context']), axis=1)\n",
    "df_distinct_context['avg_sentence_length_in_characters'] = df_distinct_context['context_character_count']/df_distinct_context['sentence_count']\n",
    "df_distinct_context['syllables_per_word'] = df_distinct_context.apply(lambda row: sum([x for x in row['syllables_per_word'] if x > 0])/ len([x for x in row['syllables_per_word'] if x > 0]) , axis=1)\n",
    "df_distinct_context['flesch-kincaid_grade_level'] = df_distinct_context.apply(lambda row: (0.39 * row['avg_sentence_length_in_words']) + (11.8 * row['syllables_per_word']) - 15.59, axis=1)\n"
   ]
  },
  {
   "cell_type": "code",
   "execution_count": 25,
   "metadata": {},
   "outputs": [],
   "source": [
    "df_distinct_context['coleman-liau'] = df_distinct_context.apply(lambda row: (0.0588 * (row['avg_word_length']) * 100) - (0.296 * (100/row['avg_sentence_length_in_words'])) - 15.8, axis=1)\n",
    "df_distinct_context['gunning-fog'] = df_distinct_context.apply(lambda row: 0.4 * ((row['word_count'] / row['sentence_count']) + ((row['polysyllable_count'] / row['word_count']) * 100)), axis=1)\n",
    "df_distinct_context['automated-readability'] = df_distinct_context.apply(lambda row: 4.71 * (row['context_character_count'] / row['word_count']) + 0.5 * (row['word_count'] / row['sentence_count']) - 21.43, axis=1)\n"
   ]
  },
  {
   "cell_type": "code",
   "execution_count": 83,
   "metadata": {},
   "outputs": [
    {
     "data": {
      "text/plain": [
       "'...first off dont even attempt to fry eggsin this skillet for at least 2 weeks of using....when i recived mine i washed well in hot water, even tho it seasoned your gonna wanna do it theright way...after washing put on top stove to dry,then cooked bacon in it, you are gonna wanna useanimal fat as much as possiable.....it did stick but thats toobe expected with first time use, then i towel dryedthe extra grease and added lard....put in oven at 500degrees, expect some smoking, just have fans ready, for1 hr...turn oven off, i did this like 3-4 times...thencooked fried potatoes with onions ,worked great, friedan egg and it slid off pan...great pan, just got dutch oven too...'"
      ]
     },
     "execution_count": 83,
     "metadata": {},
     "output_type": "execute_result"
    }
   ],
   "source": [
    "df_distinct_context.sort_values('flesch-kincaid_grade_level', ascending=False).iloc[2]['context']"
   ]
  },
  {
   "cell_type": "code",
   "execution_count": 90,
   "metadata": {},
   "outputs": [
    {
     "data": {
      "text/plain": [
       "context                              ...first off dont even attempt to fry eggsin t...\n",
       "sentence_count                                                                       1\n",
       "word_count                                                                         142\n",
       "word_character_count                                                               551\n",
       "words                                ['...', 'first', 'off', 'do', 'nt', 'even', 'a...\n",
       "syllables_per_word                                                             1.14789\n",
       "polysyllable_count                                                                  18\n",
       "avg_word_length                                                                3.88028\n",
       "avg_sentence_length_in_words                                                       142\n",
       "context_character_count                                                            679\n",
       "avg_sentence_length_in_characters                                                  679\n",
       "flesch-kincaid_grade_level                                                     53.3351\n",
       "coleman-liau                                                                   6.80761\n",
       "gunning-fog                                                                    61.8704\n",
       "automated-readability                                                          72.0918\n",
       "Name: 1519, dtype: object"
      ]
     },
     "execution_count": 90,
     "metadata": {},
     "output_type": "execute_result"
    }
   ],
   "source": [
    "df_distinct_context.iloc[1519]"
   ]
  },
  {
   "cell_type": "code",
   "execution_count": 89,
   "metadata": {},
   "outputs": [
    {
     "data": {
      "text/html": [
       "<div>\n",
       "<style scoped>\n",
       "    .dataframe tbody tr th:only-of-type {\n",
       "        vertical-align: middle;\n",
       "    }\n",
       "\n",
       "    .dataframe tbody tr th {\n",
       "        vertical-align: top;\n",
       "    }\n",
       "\n",
       "    .dataframe thead th {\n",
       "        text-align: right;\n",
       "    }\n",
       "</style>\n",
       "<table border=\"1\" class=\"dataframe\">\n",
       "  <thead>\n",
       "    <tr style=\"text-align: right;\">\n",
       "      <th></th>\n",
       "      <th>sentence_count</th>\n",
       "      <th>word_count</th>\n",
       "      <th>flesch-kincaid_grade_level</th>\n",
       "      <th>coleman-liau</th>\n",
       "      <th>gunning-fog</th>\n",
       "      <th>automated-readability</th>\n",
       "    </tr>\n",
       "  </thead>\n",
       "  <tbody>\n",
       "    <tr>\n",
       "      <th>1519</th>\n",
       "      <td>1</td>\n",
       "      <td>142</td>\n",
       "      <td>53.33507</td>\n",
       "      <td>6.807606</td>\n",
       "      <td>61.870423</td>\n",
       "      <td>72.091761</td>\n",
       "    </tr>\n",
       "  </tbody>\n",
       "</table>\n",
       "</div>"
      ],
      "text/plain": [
       "      sentence_count  word_count  flesch-kincaid_grade_level  coleman-liau  \\\n",
       "1519               1         142                    53.33507      6.807606   \n",
       "\n",
       "      gunning-fog  automated-readability  \n",
       "1519    61.870423              72.091761  "
      ]
     },
     "execution_count": 89,
     "metadata": {},
     "output_type": "execute_result"
    }
   ],
   "source": [
    "df_distinct_context.sort_values(\n",
    "    'flesch-kincaid_grade_level', \n",
    "    ascending=False).iloc[2:3][[\n",
    "                                'sentence_count', \n",
    "                                'word_count', \n",
    "                                'flesch-kincaid_grade_level', \n",
    "                                'coleman-liau', \n",
    "                                'gunning-fog', \n",
    "                                'automated-readability']]"
   ]
  },
  {
   "cell_type": "code",
   "execution_count": 86,
   "metadata": {},
   "outputs": [
    {
     "data": {
      "text/plain": [
       "1"
      ]
     },
     "execution_count": 86,
     "metadata": {},
     "output_type": "execute_result"
    }
   ],
   "source": [
    "len(nlp(df_distinct_context.sort_values('flesch-kincaid_grade_level', ascending=False).iloc[2]['context']).sentences)"
   ]
  },
  {
   "cell_type": "code",
   "execution_count": 29,
   "metadata": {},
   "outputs": [
    {
     "data": {
      "text/html": [
       "<div>\n",
       "<style scoped>\n",
       "    .dataframe tbody tr th:only-of-type {\n",
       "        vertical-align: middle;\n",
       "    }\n",
       "\n",
       "    .dataframe tbody tr th {\n",
       "        vertical-align: top;\n",
       "    }\n",
       "\n",
       "    .dataframe thead th {\n",
       "        text-align: right;\n",
       "    }\n",
       "</style>\n",
       "<table border=\"1\" class=\"dataframe\">\n",
       "  <thead>\n",
       "    <tr style=\"text-align: right;\">\n",
       "      <th></th>\n",
       "      <th>context</th>\n",
       "      <th>sentence_count</th>\n",
       "      <th>word_count</th>\n",
       "      <th>word_character_count</th>\n",
       "      <th>words</th>\n",
       "      <th>syllables_per_word</th>\n",
       "      <th>polysyllable_count</th>\n",
       "      <th>avg_word_length</th>\n",
       "      <th>avg_sentence_length_in_words</th>\n",
       "      <th>context_character_count</th>\n",
       "      <th>avg_sentence_length_in_characters</th>\n",
       "      <th>flesch-kincaid_grade_level</th>\n",
       "      <th>coleman-liau</th>\n",
       "      <th>gunning-fog</th>\n",
       "      <th>automated-readability</th>\n",
       "    </tr>\n",
       "  </thead>\n",
       "  <tbody>\n",
       "    <tr>\n",
       "      <th>573</th>\n",
       "      <td>very well built although it might be difficult...</td>\n",
       "      <td>1</td>\n",
       "      <td>162</td>\n",
       "      <td>690</td>\n",
       "      <td>[very, well, built, although, it, might, be, d...</td>\n",
       "      <td>1.209877</td>\n",
       "      <td>27</td>\n",
       "      <td>4.259259</td>\n",
       "      <td>162.000000</td>\n",
       "      <td>852</td>\n",
       "      <td>852.000000</td>\n",
       "      <td>61.866543</td>\n",
       "      <td>9.061728</td>\n",
       "      <td>71.466667</td>\n",
       "      <td>84.341111</td>\n",
       "    </tr>\n",
       "    <tr>\n",
       "      <th>2595</th>\n",
       "      <td>At present there are a number of medical schoo...</td>\n",
       "      <td>1</td>\n",
       "      <td>139</td>\n",
       "      <td>787</td>\n",
       "      <td>[At, present, there, are, a, number, of, medic...</td>\n",
       "      <td>1.489209</td>\n",
       "      <td>52</td>\n",
       "      <td>5.661871</td>\n",
       "      <td>139.000000</td>\n",
       "      <td>945</td>\n",
       "      <td>945.000000</td>\n",
       "      <td>56.192662</td>\n",
       "      <td>17.278849</td>\n",
       "      <td>70.564029</td>\n",
       "      <td>80.091223</td>\n",
       "    </tr>\n",
       "    <tr>\n",
       "      <th>1519</th>\n",
       "      <td>...first off dont even attempt to fry eggsin t...</td>\n",
       "      <td>1</td>\n",
       "      <td>142</td>\n",
       "      <td>551</td>\n",
       "      <td>[..., first, off, do, nt, even, attempt, to, f...</td>\n",
       "      <td>1.147887</td>\n",
       "      <td>18</td>\n",
       "      <td>3.880282</td>\n",
       "      <td>142.000000</td>\n",
       "      <td>679</td>\n",
       "      <td>679.000000</td>\n",
       "      <td>53.335070</td>\n",
       "      <td>6.807606</td>\n",
       "      <td>61.870423</td>\n",
       "      <td>72.091761</td>\n",
       "    </tr>\n",
       "    <tr>\n",
       "      <th>4129</th>\n",
       "      <td>Her decision to quit the tights-and-cape exist...</td>\n",
       "      <td>1</td>\n",
       "      <td>126</td>\n",
       "      <td>586</td>\n",
       "      <td>[Her, decision, to, quit, the, tights, and, ca...</td>\n",
       "      <td>1.388889</td>\n",
       "      <td>34</td>\n",
       "      <td>4.650794</td>\n",
       "      <td>126.000000</td>\n",
       "      <td>735</td>\n",
       "      <td>735.000000</td>\n",
       "      <td>49.938889</td>\n",
       "      <td>11.311746</td>\n",
       "      <td>61.193651</td>\n",
       "      <td>69.045000</td>\n",
       "    </tr>\n",
       "    <tr>\n",
       "      <th>2400</th>\n",
       "      <td>Firms may prefer decentralization because it e...</td>\n",
       "      <td>1</td>\n",
       "      <td>101</td>\n",
       "      <td>545</td>\n",
       "      <td>[Firms, may, prefer, decentralization, because...</td>\n",
       "      <td>1.633663</td>\n",
       "      <td>41</td>\n",
       "      <td>5.396040</td>\n",
       "      <td>101.000000</td>\n",
       "      <td>652</td>\n",
       "      <td>652.000000</td>\n",
       "      <td>43.077228</td>\n",
       "      <td>15.635644</td>\n",
       "      <td>56.637624</td>\n",
       "      <td>59.475149</td>\n",
       "    </tr>\n",
       "    <tr>\n",
       "      <th>...</th>\n",
       "      <td>...</td>\n",
       "      <td>...</td>\n",
       "      <td>...</td>\n",
       "      <td>...</td>\n",
       "      <td>...</td>\n",
       "      <td>...</td>\n",
       "      <td>...</td>\n",
       "      <td>...</td>\n",
       "      <td>...</td>\n",
       "      <td>...</td>\n",
       "      <td>...</td>\n",
       "      <td>...</td>\n",
       "      <td>...</td>\n",
       "      <td>...</td>\n",
       "      <td>...</td>\n",
       "    </tr>\n",
       "    <tr>\n",
       "      <th>6059</th>\n",
       "      <td>I need some new music :). I've tripped a coupl...</td>\n",
       "      <td>6</td>\n",
       "      <td>34</td>\n",
       "      <td>138</td>\n",
       "      <td>[I, need, some, new, music, :), I, 've, trippe...</td>\n",
       "      <td>1.176471</td>\n",
       "      <td>5</td>\n",
       "      <td>4.058824</td>\n",
       "      <td>5.666667</td>\n",
       "      <td>177</td>\n",
       "      <td>29.500000</td>\n",
       "      <td>0.502353</td>\n",
       "      <td>2.842353</td>\n",
       "      <td>8.149020</td>\n",
       "      <td>5.923039</td>\n",
       "    </tr>\n",
       "    <tr>\n",
       "      <th>7569</th>\n",
       "      <td>SP 4 stops running Far Cry 3? I've tried playi...</td>\n",
       "      <td>6</td>\n",
       "      <td>42</td>\n",
       "      <td>142</td>\n",
       "      <td>[SP, 4, stops, running, Far, Cry, 3, I, 've, t...</td>\n",
       "      <td>1.119048</td>\n",
       "      <td>5</td>\n",
       "      <td>3.380952</td>\n",
       "      <td>7.000000</td>\n",
       "      <td>190</td>\n",
       "      <td>31.666667</td>\n",
       "      <td>0.344762</td>\n",
       "      <td>-0.148571</td>\n",
       "      <td>7.561905</td>\n",
       "      <td>3.377143</td>\n",
       "    </tr>\n",
       "    <tr>\n",
       "      <th>7026</th>\n",
       "      <td>Three Friends Boasting. John, Peter and James ...</td>\n",
       "      <td>18</td>\n",
       "      <td>124</td>\n",
       "      <td>510</td>\n",
       "      <td>[Three, Friends, Boasting, John, Peter, and, J...</td>\n",
       "      <td>1.120968</td>\n",
       "      <td>14</td>\n",
       "      <td>4.112903</td>\n",
       "      <td>6.888889</td>\n",
       "      <td>683</td>\n",
       "      <td>37.944444</td>\n",
       "      <td>0.324086</td>\n",
       "      <td>4.087097</td>\n",
       "      <td>7.271685</td>\n",
       "      <td>7.957428</td>\n",
       "    </tr>\n",
       "    <tr>\n",
       "      <th>1511</th>\n",
       "      <td>Yes, it's ok. That's about it. had bought a Ki...</td>\n",
       "      <td>8</td>\n",
       "      <td>50</td>\n",
       "      <td>211</td>\n",
       "      <td>[Yes, it, 's, ok, That, 's, about, it, had, bo...</td>\n",
       "      <td>1.140000</td>\n",
       "      <td>6</td>\n",
       "      <td>4.220000</td>\n",
       "      <td>6.250000</td>\n",
       "      <td>270</td>\n",
       "      <td>33.750000</td>\n",
       "      <td>0.299500</td>\n",
       "      <td>4.277600</td>\n",
       "      <td>7.300000</td>\n",
       "      <td>7.129000</td>\n",
       "    </tr>\n",
       "    <tr>\n",
       "      <th>7413</th>\n",
       "      <td>Status Update Pt. 2. Tom, having paid his resp...</td>\n",
       "      <td>29</td>\n",
       "      <td>133</td>\n",
       "      <td>575</td>\n",
       "      <td>[Status, Update, Pt., 2, Tom, having, paid, hi...</td>\n",
       "      <td>1.187970</td>\n",
       "      <td>23</td>\n",
       "      <td>4.323308</td>\n",
       "      <td>4.586207</td>\n",
       "      <td>739</td>\n",
       "      <td>25.482759</td>\n",
       "      <td>0.216666</td>\n",
       "      <td>3.166917</td>\n",
       "      <td>8.751776</td>\n",
       "      <td>7.033705</td>\n",
       "    </tr>\n",
       "  </tbody>\n",
       "</table>\n",
       "<p>7681 rows × 15 columns</p>\n",
       "</div>"
      ],
      "text/plain": [
       "                                                context  sentence_count  \\\n",
       "573   very well built although it might be difficult...               1   \n",
       "2595  At present there are a number of medical schoo...               1   \n",
       "1519  ...first off dont even attempt to fry eggsin t...               1   \n",
       "4129  Her decision to quit the tights-and-cape exist...               1   \n",
       "2400  Firms may prefer decentralization because it e...               1   \n",
       "...                                                 ...             ...   \n",
       "6059  I need some new music :). I've tripped a coupl...               6   \n",
       "7569  SP 4 stops running Far Cry 3? I've tried playi...               6   \n",
       "7026  Three Friends Boasting. John, Peter and James ...              18   \n",
       "1511  Yes, it's ok. That's about it. had bought a Ki...               8   \n",
       "7413  Status Update Pt. 2. Tom, having paid his resp...              29   \n",
       "\n",
       "      word_count  word_character_count  \\\n",
       "573          162                   690   \n",
       "2595         139                   787   \n",
       "1519         142                   551   \n",
       "4129         126                   586   \n",
       "2400         101                   545   \n",
       "...          ...                   ...   \n",
       "6059          34                   138   \n",
       "7569          42                   142   \n",
       "7026         124                   510   \n",
       "1511          50                   211   \n",
       "7413         133                   575   \n",
       "\n",
       "                                                  words  syllables_per_word  \\\n",
       "573   [very, well, built, although, it, might, be, d...            1.209877   \n",
       "2595  [At, present, there, are, a, number, of, medic...            1.489209   \n",
       "1519  [..., first, off, do, nt, even, attempt, to, f...            1.147887   \n",
       "4129  [Her, decision, to, quit, the, tights, and, ca...            1.388889   \n",
       "2400  [Firms, may, prefer, decentralization, because...            1.633663   \n",
       "...                                                 ...                 ...   \n",
       "6059  [I, need, some, new, music, :), I, 've, trippe...            1.176471   \n",
       "7569  [SP, 4, stops, running, Far, Cry, 3, I, 've, t...            1.119048   \n",
       "7026  [Three, Friends, Boasting, John, Peter, and, J...            1.120968   \n",
       "1511  [Yes, it, 's, ok, That, 's, about, it, had, bo...            1.140000   \n",
       "7413  [Status, Update, Pt., 2, Tom, having, paid, hi...            1.187970   \n",
       "\n",
       "      polysyllable_count  avg_word_length  avg_sentence_length_in_words  \\\n",
       "573                   27         4.259259                    162.000000   \n",
       "2595                  52         5.661871                    139.000000   \n",
       "1519                  18         3.880282                    142.000000   \n",
       "4129                  34         4.650794                    126.000000   \n",
       "2400                  41         5.396040                    101.000000   \n",
       "...                  ...              ...                           ...   \n",
       "6059                   5         4.058824                      5.666667   \n",
       "7569                   5         3.380952                      7.000000   \n",
       "7026                  14         4.112903                      6.888889   \n",
       "1511                   6         4.220000                      6.250000   \n",
       "7413                  23         4.323308                      4.586207   \n",
       "\n",
       "      context_character_count  avg_sentence_length_in_characters  \\\n",
       "573                       852                         852.000000   \n",
       "2595                      945                         945.000000   \n",
       "1519                      679                         679.000000   \n",
       "4129                      735                         735.000000   \n",
       "2400                      652                         652.000000   \n",
       "...                       ...                                ...   \n",
       "6059                      177                          29.500000   \n",
       "7569                      190                          31.666667   \n",
       "7026                      683                          37.944444   \n",
       "1511                      270                          33.750000   \n",
       "7413                      739                          25.482759   \n",
       "\n",
       "      flesch-kincaid_grade_level  coleman-liau  gunning-fog  \\\n",
       "573                    61.866543      9.061728    71.466667   \n",
       "2595                   56.192662     17.278849    70.564029   \n",
       "1519                   53.335070      6.807606    61.870423   \n",
       "4129                   49.938889     11.311746    61.193651   \n",
       "2400                   43.077228     15.635644    56.637624   \n",
       "...                          ...           ...          ...   \n",
       "6059                    0.502353      2.842353     8.149020   \n",
       "7569                    0.344762     -0.148571     7.561905   \n",
       "7026                    0.324086      4.087097     7.271685   \n",
       "1511                    0.299500      4.277600     7.300000   \n",
       "7413                    0.216666      3.166917     8.751776   \n",
       "\n",
       "      automated-readability  \n",
       "573               84.341111  \n",
       "2595              80.091223  \n",
       "1519              72.091761  \n",
       "4129              69.045000  \n",
       "2400              59.475149  \n",
       "...                     ...  \n",
       "6059               5.923039  \n",
       "7569               3.377143  \n",
       "7026               7.957428  \n",
       "1511               7.129000  \n",
       "7413               7.033705  \n",
       "\n",
       "[7681 rows x 15 columns]"
      ]
     },
     "execution_count": 29,
     "metadata": {},
     "output_type": "execute_result"
    }
   ],
   "source": [
    "df_distinct_context.sort_values('flesch-kincaid_grade_level', ascending=False)"
   ]
  },
  {
   "cell_type": "code",
   "execution_count": 30,
   "metadata": {},
   "outputs": [
    {
     "data": {
      "text/plain": [
       "context                              At present there are a number of medical schoo...\n",
       "sentence_count                                                                       1\n",
       "word_count                                                                         139\n",
       "word_character_count                                                               787\n",
       "words                                [At, present, there, are, a, number, of, medic...\n",
       "syllables_per_word                                                             1.48921\n",
       "polysyllable_count                                                                  52\n",
       "avg_word_length                                                                5.66187\n",
       "avg_sentence_length_in_words                                                       139\n",
       "context_character_count                                                            945\n",
       "avg_sentence_length_in_characters                                                  945\n",
       "flesch-kincaid_grade_level                                                     56.1927\n",
       "coleman-liau                                                                   17.2788\n",
       "gunning-fog                                                                     70.564\n",
       "automated-readability                                                          80.0912\n",
       "Name: 2595, dtype: object"
      ]
     },
     "execution_count": 30,
     "metadata": {},
     "output_type": "execute_result"
    }
   ],
   "source": [
    "df_distinct_context.sort_values('flesch-kincaid_grade_level', ascending=False).iloc[1]"
   ]
  },
  {
   "cell_type": "code",
   "execution_count": 31,
   "metadata": {},
   "outputs": [
    {
     "name": "stdout",
     "output_type": "stream",
     "text": [
      "University ['Univer', 'sity']\n",
      "of []\n",
      "the []\n",
      "Philippines ['Philip', 'pines']\n",
      "College ['Col', 'lege']\n",
      "of []\n",
      "Medicine ['Medicine']\n"
     ]
    }
   ],
   "source": [
    "x = 'University of the Philippines College of Medicine'.split()\n",
    "for w in x:\n",
    "    print(w, Hyphenator('en_US').syllables(w))"
   ]
  },
  {
   "cell_type": "code",
   "execution_count": 79,
   "metadata": {},
   "outputs": [],
   "source": [
    "#df_distinct_context.to_csv('distinct_context.csv', index=False)\n",
    "df_distinct_context = pd.read_csv('distinct_context.csv')"
   ]
  },
  {
   "cell_type": "code",
   "execution_count": 33,
   "metadata": {},
   "outputs": [],
   "source": [
    "# Read from saved file\n",
    "#df_distinct_answers = pd.read_csv('distinct_answers.csv')"
   ]
  },
  {
   "cell_type": "code",
   "execution_count": 34,
   "metadata": {},
   "outputs": [],
   "source": [
    "df_merged_answers = df_answers.merge(df_distinct_answers, on=['answer_text'])   "
   ]
  },
  {
   "cell_type": "code",
   "execution_count": 35,
   "metadata": {},
   "outputs": [],
   "source": [
    "df_merged_answers['is_numeric'] = df_merged_answers.apply(lambda row: row['answer_text'].isnumeric(), axis=1)\n",
    "df_merged_answers.to_csv('merged_answers.csv', index=False)"
   ]
  },
  {
   "cell_type": "code",
   "execution_count": 36,
   "metadata": {},
   "outputs": [
    {
     "data": {
      "text/html": [
       "<div>\n",
       "<style scoped>\n",
       "    .dataframe tbody tr th:only-of-type {\n",
       "        vertical-align: middle;\n",
       "    }\n",
       "\n",
       "    .dataframe tbody tr th {\n",
       "        vertical-align: top;\n",
       "    }\n",
       "\n",
       "    .dataframe thead th {\n",
       "        text-align: right;\n",
       "    }\n",
       "</style>\n",
       "<table border=\"1\" class=\"dataframe\">\n",
       "  <thead>\n",
       "    <tr style=\"text-align: right;\">\n",
       "      <th></th>\n",
       "      <th>test_set</th>\n",
       "      <th>question_id</th>\n",
       "      <th>title</th>\n",
       "      <th>context</th>\n",
       "      <th>question_text</th>\n",
       "      <th>answer_text</th>\n",
       "      <th>answer_start</th>\n",
       "      <th>is_numeric</th>\n",
       "      <th>first_parse</th>\n",
       "      <th>first_ner</th>\n",
       "      <th>sentence_count</th>\n",
       "      <th>word_count</th>\n",
       "      <th>word_character_count</th>\n",
       "    </tr>\n",
       "  </thead>\n",
       "  <tbody>\n",
       "    <tr>\n",
       "      <th>4541</th>\n",
       "      <td>amazon_reviews_v1</td>\n",
       "      <td>5dd469facc027a086d65bf1a</td>\n",
       "      <td>Amazon_Reviews_655</td>\n",
       "      <td>I got two of these: one is 6,00 BTU, another i...</td>\n",
       "      <td>do the models have the same design?</td>\n",
       "      <td>same design flows</td>\n",
       "      <td>78</td>\n",
       "      <td>False</td>\n",
       "      <td>S</td>\n",
       "      <td>_NO_NER</td>\n",
       "      <td>1</td>\n",
       "      <td>3</td>\n",
       "      <td>15</td>\n",
       "    </tr>\n",
       "    <tr>\n",
       "      <th>4542</th>\n",
       "      <td>amazon_reviews_v1</td>\n",
       "      <td>5dd469facc027a086d65bf1a</td>\n",
       "      <td>Amazon_Reviews_655</td>\n",
       "      <td>I got two of these: one is 6,00 BTU, another i...</td>\n",
       "      <td>do the models have the same design?</td>\n",
       "      <td>.Both models have the same design</td>\n",
       "      <td>56</td>\n",
       "      <td>False</td>\n",
       "      <td>.</td>\n",
       "      <td>_NO_NER</td>\n",
       "      <td>2</td>\n",
       "      <td>6</td>\n",
       "      <td>27</td>\n",
       "    </tr>\n",
       "    <tr>\n",
       "      <th>4543</th>\n",
       "      <td>amazon_reviews_v1</td>\n",
       "      <td>5dd469facc027a086d65bf1a</td>\n",
       "      <td>Amazon_Reviews_655</td>\n",
       "      <td>I got two of these: one is 6,00 BTU, another i...</td>\n",
       "      <td>do the models have the same design?</td>\n",
       "      <td>Both models have the same design flows</td>\n",
       "      <td>57</td>\n",
       "      <td>False</td>\n",
       "      <td>S</td>\n",
       "      <td>_NO_NER</td>\n",
       "      <td>1</td>\n",
       "      <td>7</td>\n",
       "      <td>32</td>\n",
       "    </tr>\n",
       "  </tbody>\n",
       "</table>\n",
       "</div>"
      ],
      "text/plain": [
       "               test_set               question_id               title  \\\n",
       "4541  amazon_reviews_v1  5dd469facc027a086d65bf1a  Amazon_Reviews_655   \n",
       "4542  amazon_reviews_v1  5dd469facc027a086d65bf1a  Amazon_Reviews_655   \n",
       "4543  amazon_reviews_v1  5dd469facc027a086d65bf1a  Amazon_Reviews_655   \n",
       "\n",
       "                                                context  \\\n",
       "4541  I got two of these: one is 6,00 BTU, another i...   \n",
       "4542  I got two of these: one is 6,00 BTU, another i...   \n",
       "4543  I got two of these: one is 6,00 BTU, another i...   \n",
       "\n",
       "                            question_text  \\\n",
       "4541  do the models have the same design?   \n",
       "4542  do the models have the same design?   \n",
       "4543  do the models have the same design?   \n",
       "\n",
       "                                 answer_text answer_start  is_numeric  \\\n",
       "4541                       same design flows           78       False   \n",
       "4542       .Both models have the same design           56       False   \n",
       "4543  Both models have the same design flows           57       False   \n",
       "\n",
       "     first_parse first_ner sentence_count word_count word_character_count  \n",
       "4541           S   _NO_NER              1          3                   15  \n",
       "4542           .   _NO_NER              2          6                   27  \n",
       "4543           S   _NO_NER              1          7                   32  "
      ]
     },
     "execution_count": 36,
     "metadata": {},
     "output_type": "execute_result"
    }
   ],
   "source": [
    "df_merged_answers[df_merged_answers['question_id'] == '5dd469facc027a086d65bf1a']"
   ]
  },
  {
   "cell_type": "code",
   "execution_count": 37,
   "metadata": {},
   "outputs": [
    {
     "data": {
      "text/html": [
       "<div>\n",
       "<style scoped>\n",
       "    .dataframe tbody tr th:only-of-type {\n",
       "        vertical-align: middle;\n",
       "    }\n",
       "\n",
       "    .dataframe tbody tr th {\n",
       "        vertical-align: top;\n",
       "    }\n",
       "\n",
       "    .dataframe thead th {\n",
       "        text-align: right;\n",
       "    }\n",
       "</style>\n",
       "<table border=\"1\" class=\"dataframe\">\n",
       "  <thead>\n",
       "    <tr style=\"text-align: right;\">\n",
       "      <th></th>\n",
       "      <th>test_set</th>\n",
       "      <th>question_id</th>\n",
       "      <th>title</th>\n",
       "      <th>context</th>\n",
       "      <th>question_text</th>\n",
       "      <th>answer_text</th>\n",
       "      <th>answer_start</th>\n",
       "      <th>is_numeric</th>\n",
       "      <th>first_ner</th>\n",
       "      <th>sentence_count</th>\n",
       "      <th>word_count</th>\n",
       "      <th>word_character_count</th>\n",
       "    </tr>\n",
       "    <tr>\n",
       "      <th>first_parse</th>\n",
       "      <th></th>\n",
       "      <th></th>\n",
       "      <th></th>\n",
       "      <th></th>\n",
       "      <th></th>\n",
       "      <th></th>\n",
       "      <th></th>\n",
       "      <th></th>\n",
       "      <th></th>\n",
       "      <th></th>\n",
       "      <th></th>\n",
       "      <th></th>\n",
       "    </tr>\n",
       "  </thead>\n",
       "  <tbody>\n",
       "    <tr>\n",
       "      <th>FRAG</th>\n",
       "      <td>4606</td>\n",
       "      <td>4606</td>\n",
       "      <td>4606</td>\n",
       "      <td>4606</td>\n",
       "      <td>4606</td>\n",
       "      <td>4606</td>\n",
       "      <td>4606</td>\n",
       "      <td>4606</td>\n",
       "      <td>4606</td>\n",
       "      <td>4606</td>\n",
       "      <td>4606</td>\n",
       "      <td>4606</td>\n",
       "    </tr>\n",
       "    <tr>\n",
       "      <th>LST</th>\n",
       "      <td>152</td>\n",
       "      <td>152</td>\n",
       "      <td>152</td>\n",
       "      <td>152</td>\n",
       "      <td>152</td>\n",
       "      <td>152</td>\n",
       "      <td>152</td>\n",
       "      <td>152</td>\n",
       "      <td>152</td>\n",
       "      <td>152</td>\n",
       "      <td>152</td>\n",
       "      <td>152</td>\n",
       "    </tr>\n",
       "    <tr>\n",
       "      <th>META</th>\n",
       "      <td>4</td>\n",
       "      <td>4</td>\n",
       "      <td>4</td>\n",
       "      <td>4</td>\n",
       "      <td>4</td>\n",
       "      <td>4</td>\n",
       "      <td>4</td>\n",
       "      <td>4</td>\n",
       "      <td>4</td>\n",
       "      <td>4</td>\n",
       "      <td>4</td>\n",
       "      <td>4</td>\n",
       "    </tr>\n",
       "    <tr>\n",
       "      <th>NP</th>\n",
       "      <td>33</td>\n",
       "      <td>33</td>\n",
       "      <td>33</td>\n",
       "      <td>33</td>\n",
       "      <td>33</td>\n",
       "      <td>33</td>\n",
       "      <td>33</td>\n",
       "      <td>33</td>\n",
       "      <td>33</td>\n",
       "      <td>33</td>\n",
       "      <td>33</td>\n",
       "      <td>33</td>\n",
       "    </tr>\n",
       "  </tbody>\n",
       "</table>\n",
       "</div>"
      ],
      "text/plain": [
       "             test_set  question_id  title  context  question_text  \\\n",
       "first_parse                                                         \n",
       "FRAG             4606         4606   4606     4606           4606   \n",
       "LST               152          152    152      152            152   \n",
       "META                4            4      4        4              4   \n",
       "NP                 33           33     33       33             33   \n",
       "\n",
       "             answer_text  answer_start  is_numeric  first_ner  sentence_count  \\\n",
       "first_parse                                                                     \n",
       "FRAG                4606          4606        4606       4606            4606   \n",
       "LST                  152           152         152        152             152   \n",
       "META                   4             4           4          4               4   \n",
       "NP                    33            33          33         33              33   \n",
       "\n",
       "             word_count  word_character_count  \n",
       "first_parse                                    \n",
       "FRAG               4606                  4606  \n",
       "LST                 152                   152  \n",
       "META                  4                     4  \n",
       "NP                   33                    33  "
      ]
     },
     "execution_count": 37,
     "metadata": {},
     "output_type": "execute_result"
    }
   ],
   "source": [
    "df_merged_answers[df_merged_answers['is_numeric']].groupby('first_parse').count()"
   ]
  },
  {
   "cell_type": "code",
   "execution_count": 45,
   "metadata": {},
   "outputs": [],
   "source": [
    "df_merged_answers_and_context = df_merged_answers.merge(df_distinct_context, on=['context'])   "
   ]
  },
  {
   "cell_type": "code",
   "execution_count": 3,
   "metadata": {},
   "outputs": [],
   "source": [
    "#df_merged_answers_and_context.to_csv('merged_answers_and_context.csv', index = False)\n",
    "\n",
    "df_merged_answers_and_context = pd.read_csv('merged_answers_and_context.csv')"
   ]
  },
  {
   "cell_type": "code",
   "execution_count": 4,
   "metadata": {},
   "outputs": [
    {
     "data": {
      "text/plain": [
       "Index(['test_set', 'question_id', 'title', 'context', 'question_text',\n",
       "       'answer_text', 'answer_start', 'is_numeric', 'first_parse', 'first_ner',\n",
       "       'sentence_count_x', 'word_count_x', 'word_character_count_x',\n",
       "       'sentence_count_y', 'word_count_y', 'word_character_count_y', 'words',\n",
       "       'syllables_per_word', 'polysyllable_count', 'avg_word_length',\n",
       "       'avg_sentence_length_in_words', 'context_character_count',\n",
       "       'avg_sentence_length_in_characters', 'flesch-kincaid_grade_level',\n",
       "       'coleman-liau', 'gunning-fog', 'automated-readability'],\n",
       "      dtype='object')"
      ]
     },
     "execution_count": 4,
     "metadata": {},
     "output_type": "execute_result"
    }
   ],
   "source": [
    "df_merged_answers_and_context.columns"
   ]
  },
  {
   "cell_type": "code",
   "execution_count": 8,
   "metadata": {},
   "outputs": [],
   "source": [
    "df_pred_answers_context = df_pred.merge(df_merged_answers_and_context, left_on=['qid'], right_on=['question_id'])"
   ]
  },
  {
   "cell_type": "code",
   "execution_count": 9,
   "metadata": {},
   "outputs": [],
   "source": [
    "df_pred_answers_context.to_csv('pred_answers_context.csv', index=False)"
   ]
  },
  {
   "cell_type": "code",
   "execution_count": 23,
   "metadata": {},
   "outputs": [
    {
     "data": {
      "text/html": [
       "<div>\n",
       "<style scoped>\n",
       "    .dataframe tbody tr th:only-of-type {\n",
       "        vertical-align: middle;\n",
       "    }\n",
       "\n",
       "    .dataframe tbody tr th {\n",
       "        vertical-align: top;\n",
       "    }\n",
       "\n",
       "    .dataframe thead th {\n",
       "        text-align: right;\n",
       "    }\n",
       "</style>\n",
       "<table border=\"1\" class=\"dataframe\">\n",
       "  <thead>\n",
       "    <tr style=\"text-align: right;\">\n",
       "      <th></th>\n",
       "      <th>f1</th>\n",
       "      <th>syllables_per_word</th>\n",
       "    </tr>\n",
       "  </thead>\n",
       "  <tbody>\n",
       "    <tr>\n",
       "      <th>f1</th>\n",
       "      <td>1.000000</td>\n",
       "      <td>0.010001</td>\n",
       "    </tr>\n",
       "    <tr>\n",
       "      <th>syllables_per_word</th>\n",
       "      <td>0.010001</td>\n",
       "      <td>1.000000</td>\n",
       "    </tr>\n",
       "  </tbody>\n",
       "</table>\n",
       "</div>"
      ],
      "text/plain": [
       "                          f1  syllables_per_word\n",
       "f1                  1.000000            0.010001\n",
       "syllables_per_word  0.010001            1.000000"
      ]
     },
     "execution_count": 23,
     "metadata": {},
     "output_type": "execute_result"
    }
   ],
   "source": [
    "df_pred_answers_context[(df_pred_answers_context['test_set_x'] == 'Amazon') & (df_pred_answers_context['model_name'] == 'xlnet-123(singlemodel)')][['f1','syllables_per_word']].corr()"
   ]
  },
  {
   "cell_type": "code",
   "execution_count": 76,
   "metadata": {},
   "outputs": [
    {
     "data": {
      "image/png": "[encoded data removed]",
      "text/plain": [
       "<Figure size 1584x360 with 8 Axes>"
      ]
     },
     "metadata": {
      "needs_background": "light"
     },
     "output_type": "display_data"
    }
   ],
   "source": [
    "fig, axes = plt.subplots(1,4, figsize= (22,5))\n",
    "\n",
    "metric_list = ['f1','syllables_per_word', 'polysyllable_count','avg_word_length','avg_sentence_length_in_words','context_character_count',\n",
    "                                          'avg_sentence_length_in_characters','flesch-kincaid_grade_level','coleman-liau','gunning-fog','automated-readability']\n",
    "metric_list = ['f1', 'flesch-kincaid_grade_level','coleman-liau','gunning-fog','automated-readability']\n",
    "for i, model in enumerate(SET_NAMES):\n",
    "    corrMatrix = df_pred_answers_context[(df_pred_answers_context['test_set_x'] == model)][metric_list].corr()\n",
    "#     print(model)\n",
    "#    print(corrMatrix[0])\n",
    "#     print('\\n')\n",
    "    \n",
    "    p = sns.heatmap(corrMatrix, annot=True, ax = axes.flat[i], fmt=\".2f\")\n",
    "    axes.flat[i].set_title(model)\n",
    "\n",
    "    #p.set_xticklabels(p.get_xticklabels(), rotation = 0)\n",
    "    \n",
    "fig.tight_layout()\n",
    "plt.savefig('test.jpg')    "
   ]
  },
  {
   "cell_type": "code",
   "execution_count": 75,
   "metadata": {},
   "outputs": [
    {
     "data": {
      "image/png": "[encoded data removed]",
      "text/plain": [
       "<Figure size 1584x360 with 8 Axes>"
      ]
     },
     "metadata": {
      "needs_background": "light"
     },
     "output_type": "display_data"
    }
   ],
   "source": [
    "fig, axes = plt.subplots(1,4, figsize= (22,5))\n",
    "\n",
    "metric_list = ['exact_match','syllables_per_word', 'polysyllable_count','avg_word_length','avg_sentence_length_in_words','context_character_count',\n",
    "                                          'avg_sentence_length_in_characters','flesch-kincaid_grade_level','coleman-liau','gunning-fog','automated-readability']\n",
    "metric_list = ['exact_match', 'flesch-kincaid_grade_level','coleman-liau','gunning-fog','automated-readability']\n",
    "for i, model in enumerate(SET_NAMES):\n",
    "    corrMatrix = df_pred_answers_context[(df_pred_answers_context['test_set_x'] == model)][metric_list].corr()\n",
    "#     print(model)\n",
    "#    print(corrMatrix[0])\n",
    "#     print('\\n')\n",
    "    \n",
    "    p = sns.heatmap(corrMatrix, annot=True, ax = axes.flat[i], fmt=\".2f\")\n",
    "    axes.flat[i].set_title(model)\n",
    "\n",
    "    #p.set_xticklabels(p.get_xticklabels(), rotation = 0)\n",
    "    \n",
    "fig.tight_layout()\n",
    "plt.savefig('test.jpg') "
   ]
  },
  {
   "cell_type": "code",
   "execution_count": 73,
   "metadata": {},
   "outputs": [],
   "source": [
    "df_pred_answers_context['exact_match'] = df_pred_answers_context['exact_match'].map({'True':True, 'False':False})"
   ]
  },
  {
   "cell_type": "code",
   "execution_count": 108,
   "metadata": {},
   "outputs": [
    {
     "data": {
      "text/html": [
       "<div>\n",
       "<style scoped>\n",
       "    .dataframe tbody tr th:only-of-type {\n",
       "        vertical-align: middle;\n",
       "    }\n",
       "\n",
       "    .dataframe tbody tr th {\n",
       "        vertical-align: top;\n",
       "    }\n",
       "\n",
       "    .dataframe thead th {\n",
       "        text-align: right;\n",
       "    }\n",
       "</style>\n",
       "<table border=\"1\" class=\"dataframe\">\n",
       "  <thead>\n",
       "    <tr style=\"text-align: right;\">\n",
       "      <th></th>\n",
       "      <th>question_text</th>\n",
       "      <th>answer_text</th>\n",
       "      <th>predicted_answer</th>\n",
       "      <th>f1</th>\n",
       "      <th>exact_match</th>\n",
       "    </tr>\n",
       "  </thead>\n",
       "  <tbody>\n",
       "    <tr>\n",
       "      <th>505125</th>\n",
       "      <td>What should you wait 2 weeks to do?</td>\n",
       "      <td>fry eggs</td>\n",
       "      <td>fry eggs</td>\n",
       "      <td>1.000000</td>\n",
       "      <td>True</td>\n",
       "    </tr>\n",
       "    <tr>\n",
       "      <th>505126</th>\n",
       "      <td>What should you wait 2 weeks to do?</td>\n",
       "      <td>fry eggsin</td>\n",
       "      <td>fry eggs</td>\n",
       "      <td>1.000000</td>\n",
       "      <td>True</td>\n",
       "    </tr>\n",
       "    <tr>\n",
       "      <th>505127</th>\n",
       "      <td>What should you wait 2 weeks to do?</td>\n",
       "      <td>fry eggsin this skillet</td>\n",
       "      <td>fry eggs</td>\n",
       "      <td>1.000000</td>\n",
       "      <td>True</td>\n",
       "    </tr>\n",
       "    <tr>\n",
       "      <th>505128</th>\n",
       "      <td>What should you wait 2 weeks to do?</td>\n",
       "      <td>fry eggs</td>\n",
       "      <td>dont even attempt to fry eggsin this skillet</td>\n",
       "      <td>0.666667</td>\n",
       "      <td>False</td>\n",
       "    </tr>\n",
       "    <tr>\n",
       "      <th>505129</th>\n",
       "      <td>What should you wait 2 weeks to do?</td>\n",
       "      <td>fry eggsin</td>\n",
       "      <td>dont even attempt to fry eggsin this skillet</td>\n",
       "      <td>0.666667</td>\n",
       "      <td>False</td>\n",
       "    </tr>\n",
       "    <tr>\n",
       "      <th>...</th>\n",
       "      <td>...</td>\n",
       "      <td>...</td>\n",
       "      <td>...</td>\n",
       "      <td>...</td>\n",
       "      <td>...</td>\n",
       "    </tr>\n",
       "    <tr>\n",
       "      <th>505467</th>\n",
       "      <td>What did they purchase after getting the skillet?</td>\n",
       "      <td>dutch oven</td>\n",
       "      <td>bacon</td>\n",
       "      <td>0.000000</td>\n",
       "      <td>False</td>\n",
       "    </tr>\n",
       "    <tr>\n",
       "      <th>505476</th>\n",
       "      <td>What did they purchase after getting the skillet?</td>\n",
       "      <td>dutch oven</td>\n",
       "      <td>2 weeks</td>\n",
       "      <td>0.000000</td>\n",
       "      <td>False</td>\n",
       "    </tr>\n",
       "    <tr>\n",
       "      <th>505482</th>\n",
       "      <td>What did they purchase after getting the skillet?</td>\n",
       "      <td>dutch oven</td>\n",
       "      <td>washing</td>\n",
       "      <td>0.000000</td>\n",
       "      <td>False</td>\n",
       "    </tr>\n",
       "    <tr>\n",
       "      <th>505488</th>\n",
       "      <td>What did they purchase after getting the skillet?</td>\n",
       "      <td>dutch oven</td>\n",
       "      <td>towel dryedthe extra grease and added lard</td>\n",
       "      <td>0.000000</td>\n",
       "      <td>False</td>\n",
       "    </tr>\n",
       "    <tr>\n",
       "      <th>505491</th>\n",
       "      <td>What did they purchase after getting the skillet?</td>\n",
       "      <td>dutch oven</td>\n",
       "      <td>mine i washed well in hot water</td>\n",
       "      <td>0.000000</td>\n",
       "      <td>False</td>\n",
       "    </tr>\n",
       "  </tbody>\n",
       "</table>\n",
       "<p>105 rows × 5 columns</p>\n",
       "</div>"
      ],
      "text/plain": [
       "                                            question_text  \\\n",
       "505125                What should you wait 2 weeks to do?   \n",
       "505126                What should you wait 2 weeks to do?   \n",
       "505127                What should you wait 2 weeks to do?   \n",
       "505128                What should you wait 2 weeks to do?   \n",
       "505129                What should you wait 2 weeks to do?   \n",
       "...                                                   ...   \n",
       "505467  What did they purchase after getting the skillet?   \n",
       "505476  What did they purchase after getting the skillet?   \n",
       "505482  What did they purchase after getting the skillet?   \n",
       "505488  What did they purchase after getting the skillet?   \n",
       "505491  What did they purchase after getting the skillet?   \n",
       "\n",
       "                    answer_text                              predicted_answer  \\\n",
       "505125                 fry eggs                                      fry eggs   \n",
       "505126               fry eggsin                                      fry eggs   \n",
       "505127  fry eggsin this skillet                                      fry eggs   \n",
       "505128                 fry eggs  dont even attempt to fry eggsin this skillet   \n",
       "505129               fry eggsin  dont even attempt to fry eggsin this skillet   \n",
       "...                         ...                                           ...   \n",
       "505467               dutch oven                                         bacon   \n",
       "505476               dutch oven                                       2 weeks   \n",
       "505482               dutch oven                                       washing   \n",
       "505488               dutch oven    towel dryedthe extra grease and added lard   \n",
       "505491               dutch oven               mine i washed well in hot water   \n",
       "\n",
       "              f1  exact_match  \n",
       "505125  1.000000         True  \n",
       "505126  1.000000         True  \n",
       "505127  1.000000         True  \n",
       "505128  0.666667        False  \n",
       "505129  0.666667        False  \n",
       "...          ...          ...  \n",
       "505467  0.000000        False  \n",
       "505476  0.000000        False  \n",
       "505482  0.000000        False  \n",
       "505488  0.000000        False  \n",
       "505491  0.000000        False  \n",
       "\n",
       "[105 rows x 5 columns]"
      ]
     },
     "execution_count": 108,
     "metadata": {},
     "output_type": "execute_result"
    }
   ],
   "source": [
    "pd.set_option('display.max_rows', 20)\n",
    "df_pred_answers_context[df_pred_answers_context['context'] == df_distinct_context.sort_values('flesch-kincaid_grade_level', ascending=False).iloc[2]['context']][['question_text', 'answer_text', 'predicted_answer', 'f1', 'exact_match']].drop_duplicates()"
   ]
  },
  {
   "cell_type": "code",
   "execution_count": 93,
   "metadata": {},
   "outputs": [
    {
     "data": {
      "text/plain": [
       "Index(['display_name', 'model_name', 'description', 'uuid', 'testbed',\n",
       "       'test_set_x', 'qid', 'predicted_answer', 'exact_match', 'f1',\n",
       "       'test_set_y', 'question_id', 'title', 'context', 'question_text',\n",
       "       'answer_text', 'answer_start', 'is_numeric', 'first_parse', 'first_ner',\n",
       "       'sentence_count_x', 'word_count_x', 'word_character_count_x',\n",
       "       'sentence_count_y', 'word_count_y', 'word_character_count_y', 'words',\n",
       "       'syllables_per_word', 'polysyllable_count', 'avg_word_length',\n",
       "       'avg_sentence_length_in_words', 'context_character_count',\n",
       "       'avg_sentence_length_in_characters', 'flesch-kincaid_grade_level',\n",
       "       'coleman-liau', 'gunning-fog', 'automated-readability'],\n",
       "      dtype='object')"
      ]
     },
     "execution_count": 93,
     "metadata": {},
     "output_type": "execute_result"
    }
   ],
   "source": [
    "df_pred_answers_context.columns"
   ]
  },
  {
   "cell_type": "code",
   "execution_count": 107,
   "metadata": {},
   "outputs": [
    {
     "data": {
      "text/plain": [
       "['ex', 'tra', 'or', 'di', 'nary']"
      ]
     },
     "execution_count": 107,
     "metadata": {},
     "output_type": "execute_result"
    }
   ],
   "source": [
    "Hyphenator('en_US').syllables('extraordinary')"
   ]
  },
  {
   "cell_type": "code",
   "execution_count": null,
   "metadata": {},
   "outputs": [],
   "source": []
  }
 ],
 "metadata": {
  "kernelspec": {
   "display_name": "Python 3",
   "language": "python",
   "name": "python3"
  },
  "language_info": {
   "codemirror_mode": {
    "name": "ipython",
    "version": 3
   },
   "file_extension": ".py",
   "mimetype": "text/x-python",
   "name": "python",
   "nbconvert_exporter": "python",
   "pygments_lexer": "ipython3",
   "version": "3.8.3"
  }
 },
 "nbformat": 4,
 "nbformat_minor": 4
}
